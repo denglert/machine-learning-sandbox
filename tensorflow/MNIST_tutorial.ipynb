{
 "cells": [
  {
   "cell_type": "markdown",
   "metadata": {},
   "source": [
    "# Handwritten digit recognition on the MNIST dataset with TensorFlow\n",
    "\n",
    "Following the MNIST tutorial from Tensorflow:\n",
    "\n",
    "https://www.tensorflow.org/get_started/mnist/beginners"
   ]
  },
  {
   "cell_type": "code",
   "execution_count": 1,
   "metadata": {
    "collapsed": true
   },
   "outputs": [],
   "source": [
    "import matplotlib.pyplot as plt\n",
    "import numpy as np\n",
    "import tensorflow as tf\n",
    "%matplotlib inline"
   ]
  },
  {
   "cell_type": "markdown",
   "metadata": {},
   "source": [
    "## The MNIST dataset, which is found at:\n",
    "\n",
    "http://yann.lecun.com/exdb/mnist/\n",
    "\n",
    "But tensorflow has built-in scripts to pull the data and load it in:"
   ]
  },
  {
   "cell_type": "code",
   "execution_count": 2,
   "metadata": {},
   "outputs": [
    {
     "name": "stdout",
     "output_type": "stream",
     "text": [
      "Extracting MNIST_data/train-images-idx3-ubyte.gz\n",
      "Extracting MNIST_data/train-labels-idx1-ubyte.gz\n",
      "Extracting MNIST_data/t10k-images-idx3-ubyte.gz\n",
      "Extracting MNIST_data/t10k-labels-idx1-ubyte.gz\n"
     ]
    }
   ],
   "source": [
    "from tensorflow.examples.tutorials.mnist import input_data\n",
    "mnist = input_data.read_data_sets(\"MNIST_data/\", one_hot=True)"
   ]
  },
  {
   "cell_type": "markdown",
   "metadata": {},
   "source": [
    "Some examples"
   ]
  },
  {
   "cell_type": "code",
   "execution_count": 3,
   "metadata": {
    "collapsed": true
   },
   "outputs": [],
   "source": [
    "def showimg(img):\n",
    "    plt.imshow((img).reshape([28,28]), cmap='gray_r');"
   ]
  },
  {
   "cell_type": "code",
   "execution_count": 4,
   "metadata": {},
   "outputs": [
    {
     "data": {
      "image/png": "[encoded data removed]",
      "text/plain": [
       "<matplotlib.figure.Figure at 0x7f74181ac710>"
      ]
     },
     "metadata": {},
     "output_type": "display_data"
    }
   ],
   "source": [
    "showimg(mnist.train.images[0])"
   ]
  },
  {
   "cell_type": "code",
   "execution_count": 5,
   "metadata": {},
   "outputs": [
    {
     "data": {
      "image/png": "[encoded data removed]",
      "text/plain": [
       "<matplotlib.figure.Figure at 0x7f741204df28>"
      ]
     },
     "metadata": {},
     "output_type": "display_data"
    }
   ],
   "source": [
    "showimg(mnist.train.images[1])"
   ]
  },
  {
   "cell_type": "code",
   "execution_count": 6,
   "metadata": {
    "collapsed": true
   },
   "outputs": [],
   "source": [
    "# - Input. This will be an array of images, with each image containing 784 pixels.\n",
    "x = tf.placeholder(tf.float32, [None,784])\n",
    "\n",
    "# - Weights. 784 pixel -> 10 digits.\n",
    "W = tf.Variable(tf.zeros([784,10]))\n",
    "\n",
    "# - Biasses. 10 biases for each digit.\n",
    "b = tf.Variable(tf.zeros([10]))"
   ]
  },
  {
   "cell_type": "markdown",
   "metadata": {},
   "source": [
    "## Implementing the model"
   ]
  },
  {
   "cell_type": "markdown",
   "metadata": {},
   "source": [
    "Evidence:\n",
    "\n",
    "\\begin{equation}\n",
    "\\text{evidence}_{i} = \\sum\\limits_{j} W_{i,j} x_{j} + b_{i} \n",
    "\\end{equation}\n",
    "\n",
    "Softmax function is defined as:\n",
    "\n",
    "\\begin{equation}\n",
    "\\text{softmax}(x)_{i} = \\frac{\\exp(x_{i})}{\\sum\\limits_{j} \\exp(x_{j)}}\n",
    "\\end{equation}"
   ]
  },
  {
   "cell_type": "markdown",
   "metadata": {},
   "source": [
    "Output will be a 10 dimensional vector, which can be interpreted as the normalised probabilities for each digit:\n",
    "\n",
    "\\begin{equation}\n",
    "\\vec{y} = \\text{softmax}( \\vec{\\text{evidence}} ) = \\text{softmax} \\left[ \\mathbf{W} \\vec{x} + \\vec{b}   \\right]\n",
    "\\end{equation}"
   ]
  },
  {
   "cell_type": "code",
   "execution_count": 7,
   "metadata": {
    "collapsed": true
   },
   "outputs": [],
   "source": [
    "y = tf.nn.softmax(tf.matmul(x, W) + b)"
   ]
  },
  {
   "cell_type": "markdown",
   "metadata": {},
   "source": [
    "## Defining the loss function"
   ]
  },
  {
   "cell_type": "markdown",
   "metadata": {},
   "source": [
    "We'll use the cross entropy function:\n",
    "\n",
    "\\begin{equation}\n",
    "H_{y'}(y) = - \\sum\\limits_{i} y_{i}' \\log(y_{i}),\n",
    "\\end{equation}\n",
    "\n",
    "here the index $i$ goes over the second component of the $y$ vector, which correspond to the different digits.\n",
    "\n",
    "Recommended reading here:\n",
    "\n",
    "http://colah.github.io/posts/2015-09-Visual-Information/\n",
    "\n",
    "Notation:\n",
    "- $y'$: true probability distribution. In this case it is a one-hot vector, $y'=(0,0,...,1,0)$, which only has one element with value 1.\n",
    "- $y$: predicted probability distribution"
   ]
  },
  {
   "cell_type": "code",
   "execution_count": 8,
   "metadata": {
    "collapsed": true
   },
   "outputs": [],
   "source": [
    "y_ = tf.placeholder(tf.float32, [None, 10])"
   ]
  },
  {
   "cell_type": "markdown",
   "metadata": {},
   "source": [
    "tf.reduce_mean: Computes the mean of elements across dimensions of a tensor."
   ]
  },
  {
   "cell_type": "code",
   "execution_count": 9,
   "metadata": {
    "collapsed": true
   },
   "outputs": [],
   "source": [
    "cross_entropy = tf.reduce_mean(-tf.reduce_sum(y_ * tf.log(y), reduction_indices=[1]))"
   ]
  },
  {
   "cell_type": "markdown",
   "metadata": {},
   "source": [
    "**Note:**\n",
    "- This formulation is numerically unstable. Instead, we apply `tf.nn.softmax_cross_entropy_with_logits` on the unnormalized logits (e.g., we call `softmax_cross_entropy_with_logits` on `tf.matmul(x, W) + b)`, because this more numerically stable function internally computes the softmax activation. In your code, consider using `tf.nn.softmax_cross_entropy_with_logits` instead."
   ]
  },
  {
   "cell_type": "markdown",
   "metadata": {},
   "source": [
    "## Optimization algorithm\n",
    "\n",
    "\n",
    "We are using the Gradient Descent Optimizer, but there are many other:\n",
    "https://www.tensorflow.org/api_guides/python/train#Optimizers"
   ]
  },
  {
   "cell_type": "code",
   "execution_count": 10,
   "metadata": {},
   "outputs": [],
   "source": [
    "learning_rate = 0.5\n",
    "train_step = tf.train.GradientDescentOptimizer(learning_rate).minimize(cross_entropy)"
   ]
  },
  {
   "cell_type": "markdown",
   "metadata": {},
   "source": [
    "## Launching the model"
   ]
  },
  {
   "cell_type": "code",
   "execution_count": 11,
   "metadata": {
    "collapsed": true
   },
   "outputs": [],
   "source": [
    "sess = tf.InteractiveSession()"
   ]
  },
  {
   "cell_type": "code",
   "execution_count": 12,
   "metadata": {
    "collapsed": true
   },
   "outputs": [],
   "source": [
    "tf.global_variables_initializer().run()"
   ]
  },
  {
   "cell_type": "markdown",
   "metadata": {},
   "source": [
    "Train using small batches: stochastic training.\n",
    "\n",
    "Since our optimization algorithm is stochastic gradient descent: Stochastic gradient descent (SGD)"
   ]
  },
  {
   "cell_type": "code",
   "execution_count": 13,
   "metadata": {
    "collapsed": true
   },
   "outputs": [],
   "source": [
    "for _ in range(1000):\n",
    "  batch_xs, batch_ys = mnist.train.next_batch(100)\n",
    "  sess.run(train_step, feed_dict={x: batch_xs, y_: batch_ys})"
   ]
  },
  {
   "cell_type": "markdown",
   "metadata": {},
   "source": [
    "Each step of the loop, we get a \"batch\" of one hundred random data points from our training set. We run train_step feeding in the batches data to replace the placeholders."
   ]
  },
  {
   "cell_type": "markdown",
   "metadata": {},
   "source": [
    "## Evaluating the model"
   ]
  },
  {
   "cell_type": "markdown",
   "metadata": {},
   "source": [
    "`tf.argmax`:\n",
    "Returns the index with the largest value across axes of a tensor."
   ]
  },
  {
   "cell_type": "code",
   "execution_count": 14,
   "metadata": {
    "collapsed": true
   },
   "outputs": [],
   "source": [
    "correct_prediction = tf.equal(tf.argmax(y,1), tf.argmax(y_,1))"
   ]
  },
  {
   "cell_type": "markdown",
   "metadata": {},
   "source": [
    "tf.cast: Casts a tensor to a new type."
   ]
  },
  {
   "cell_type": "code",
   "execution_count": 15,
   "metadata": {
    "collapsed": true
   },
   "outputs": [],
   "source": [
    "accuracy = tf.reduce_mean(tf.cast(correct_prediction, tf.float32))"
   ]
  },
  {
   "cell_type": "code",
   "execution_count": 16,
   "metadata": {},
   "outputs": [
    {
     "name": "stdout",
     "output_type": "stream",
     "text": [
      "0.919\n"
     ]
    }
   ],
   "source": [
    "print(sess.run(accuracy, feed_dict={x: mnist.test.images, y_: mnist.test.labels}))"
   ]
  },
  {
   "cell_type": "markdown",
   "metadata": {},
   "source": [
    "List of results online:\n",
    "\n",
    "https://rodrigob.github.io/are_we_there_yet/build/classification_datasets_results"
   ]
  },
  {
   "cell_type": "markdown",
   "metadata": {},
   "source": [
    "## Sandbox"
   ]
  },
  {
   "cell_type": "code",
   "execution_count": 17,
   "metadata": {
    "collapsed": true
   },
   "outputs": [],
   "source": [
    "getlabel = y"
   ]
  },
  {
   "cell_type": "code",
   "execution_count": 18,
   "metadata": {},
   "outputs": [],
   "source": [
    "prediction = sess.run(getlabel, feed_dict={x: mnist.test.images[:1], y_: mnist.test.labels[:1]})"
   ]
  },
  {
   "cell_type": "code",
   "execution_count": 19,
   "metadata": {
    "collapsed": true
   },
   "outputs": [],
   "source": [
    "def getdigit(labels):\n",
    "    digit = np.argmax(labels)\n",
    "    return digit"
   ]
  },
  {
   "cell_type": "code",
   "execution_count": 20,
   "metadata": {},
   "outputs": [
    {
     "data": {
      "image/png": "[encoded data removed]",
      "text/plain": [
       "<matplotlib.figure.Figure at 0x7f7411fcf390>"
      ]
     },
     "metadata": {},
     "output_type": "display_data"
    }
   ],
   "source": [
    "showimg(mnist.test.images[0])"
   ]
  },
  {
   "cell_type": "code",
   "execution_count": 21,
   "metadata": {},
   "outputs": [
    {
     "data": {
      "text/plain": [
       "7"
      ]
     },
     "execution_count": 21,
     "metadata": {},
     "output_type": "execute_result"
    }
   ],
   "source": [
    "getdigit(mnist.test.labels[0])"
   ]
  },
  {
   "cell_type": "code",
   "execution_count": 22,
   "metadata": {},
   "outputs": [],
   "source": [
    "def showprediction(prediction):\n",
    "    f,a = plt.subplots()\n",
    "    digits = range(0,10,1)\n",
    "    a.plot(digits,prediction[0], marker='*')\n",
    "    a.set_xlabel('Digit')\n",
    "    a.set_ylabel('Probability')\n",
    "    a.xaxis.set_ticks(np.linspace(0.0, 10.0, 11, endpoint=True))"
   ]
  },
  {
   "cell_type": "code",
   "execution_count": 23,
   "metadata": {},
   "outputs": [
    {
     "data": {
      "image/png": "[encoded data removed]",
      "text/plain": [
       "<matplotlib.figure.Figure at 0x7f7411ffa908>"
      ]
     },
     "metadata": {},
     "output_type": "display_data"
    }
   ],
   "source": [
    "showprediction(prediction)"
   ]
  },
  {
   "cell_type": "markdown",
   "metadata": {},
   "source": [
    "Find labels which were predicted incorrectly"
   ]
  },
  {
   "cell_type": "code",
   "execution_count": 25,
   "metadata": {
    "collapsed": true
   },
   "outputs": [],
   "source": [
    "matches = sess.run(correct_prediction, feed_dict={x: mnist.test.images, y_: mnist.test.labels})"
   ]
  },
  {
   "cell_type": "code",
   "execution_count": 33,
   "metadata": {},
   "outputs": [
    {
     "data": {
      "text/plain": [
       "array([   8,   33,   63,   66,   77,  124,  149,  193,  195,  211,  217,\n",
       "        233,  241,  245,  247,  259,  290,  300,  307,  313,  318,  320,\n",
       "        321,  340,  341,  352,  362,  412,  435,  444,  445,  448,  449,\n",
       "        457,  468,  478,  479,  495,  502,  507,  511,  531,  536,  542,\n",
       "        543,  551,  565,  569,  571,  578,  582,  591,  610,  613,  619,\n",
       "        628,  629,  658,  659,  684,  691,  692,  707,  717,  720,  728,\n",
       "        738,  740,  741,  760,  781,  791,  839,  844,  857,  877,  881,\n",
       "        898,  924,  938,  939,  947,  950,  956,  959,  965,  982, 1003,\n",
       "       1012, 1014, 1017, 1032, 1033, 1039, 1044, 1062, 1068, 1073, 1082,\n",
       "       1096, 1101, 1107, 1112, 1114, 1119, 1157, 1173, 1181, 1182, 1191,\n",
       "       1192, 1194, 1198, 1202, 1204, 1206, 1217, 1226, 1232, 1234, 1242,\n",
       "       1247, 1248, 1256, 1260, 1283, 1289, 1299, 1310, 1319, 1325, 1326,\n",
       "       1328, 1337, 1339, 1347, 1357, 1364, 1391, 1393, 1409, 1410, 1413,\n",
       "       1433, 1440, 1444, 1453, 1465, 1466, 1467, 1494, 1500, 1514, 1522,\n",
       "       1525, 1527, 1530, 1549, 1553, 1559, 1569, 1581, 1587, 1609, 1626,\n",
       "       1634, 1640, 1671, 1681, 1686, 1695, 1696, 1709, 1717, 1718, 1722,\n",
       "       1727, 1751, 1754, 1765, 1772, 1773, 1774, 1790, 1800, 1813, 1828,\n",
       "       1839, 1850, 1857, 1865, 1878, 1883, 1899, 1901, 1917, 1930, 1938,\n",
       "       1940, 1952, 1956, 1969, 1970, 1973, 1981, 1982, 1989, 2001, 2016,\n",
       "       2024, 2035, 2040, 2043, 2044, 2053, 2063, 2070, 2098, 2099, 2109,\n",
       "       2110, 2118, 2129, 2130, 2131, 2135, 2138, 2148, 2152, 2182, 2185,\n",
       "       2186, 2189, 2192, 2215, 2224, 2266, 2272, 2282, 2291, 2293, 2299,\n",
       "       2305, 2325, 2328, 2369, 2371, 2380, 2381, 2387, 2393, 2394, 2395,\n",
       "       2404, 2406, 2408, 2422, 2425, 2433, 2460, 2488, 2507, 2514, 2525,\n",
       "       2526, 2534, 2545, 2556, 2559, 2560, 2573, 2574, 2578, 2586, 2598,\n",
       "       2607, 2610, 2628, 2631, 2635, 2648, 2654, 2668, 2670, 2695, 2698,\n",
       "       2713, 2721, 2740, 2751, 2771, 2780, 2810, 2832, 2836, 2850, 2852,\n",
       "       2854, 2866, 2896, 2905, 2906, 2907, 2919, 2921, 2925, 2927, 2945,\n",
       "       2953, 2995, 3005, 3060, 3073, 3100, 3102, 3106, 3110, 3114, 3117,\n",
       "       3129, 3130, 3133, 3136, 3145, 3157, 3166, 3189, 3193, 3206, 3225,\n",
       "       3240, 3254, 3262, 3269, 3280, 3284, 3288, 3316, 3329, 3330, 3333,\n",
       "       3369, 3381, 3405, 3414, 3422, 3436, 3437, 3468, 3475, 3490, 3503,\n",
       "       3520, 3533, 3537, 3549, 3550, 3558, 3559, 3565, 3567, 3573, 3597,\n",
       "       3598, 3604, 3612, 3629, 3662, 3681, 3688, 3718, 3726, 3730, 3732,\n",
       "       3751, 3752, 3757, 3758, 3763, 3767, 3776, 3780, 3794, 3796, 3801,\n",
       "       3806, 3808, 3811, 3817, 3821, 3833, 3834, 3836, 3838, 3846, 3848,\n",
       "       3853, 3855, 3862, 3869, 3876, 3893, 3902, 3906, 3926, 3941, 3943,\n",
       "       3946, 3951, 3952, 3962, 3968, 3976, 3986, 4000, 4012, 4017, 4063,\n",
       "       4065, 4072, 4075, 4076, 4078, 4121, 4131, 4140, 4145, 4152, 4159,\n",
       "       4163, 4176, 4199, 4201, 4205, 4211, 4212, 4224, 4238, 4239, 4248,\n",
       "       4254, 4256, 4265, 4271, 4289, 4297, 4300, 4302, 4306, 4312, 4313,\n",
       "       4315, 4317, 4330, 4341, 4355, 4356, 4359, 4373, 4374, 4380, 4423,\n",
       "       4427, 4433, 4435, 4449, 4451, 4461, 4463, 4477, 4497, 4498, 4500,\n",
       "       4523, 4536, 4540, 4567, 4571, 4575, 4578, 4583, 4601, 4615, 4639,\n",
       "       4640, 4671, 4695, 4731, 4735, 4751, 4753, 4761, 4785, 4807, 4808,\n",
       "       4812, 4814, 4823, 4826, 4827, 4829, 4837, 4852, 4860, 4863, 4874,\n",
       "       4876, 4879, 4880, 4886, 4890, 4896, 4914, 4915, 4939, 4950, 4952,\n",
       "       4956, 4966, 4990, 5001, 5038, 5046, 5054, 5065, 5067, 5068, 5078,\n",
       "       5135, 5140, 5165, 5176, 5177, 5183, 5201, 5210, 5217, 5246, 5331,\n",
       "       5360, 5409, 5457, 5523, 5562, 5577, 5600, 5611, 5617, 5620, 5634,\n",
       "       5642, 5649, 5653, 5662, 5676, 5677, 5678, 5688, 5714, 5718, 5734,\n",
       "       5735, 5749, 5821, 5835, 5842, 5851, 5852, 5862, 5867, 5874, 5887,\n",
       "       5888, 5891, 5912, 5913, 5922, 5926, 5936, 5937, 5955, 5972, 5973,\n",
       "       5975, 5985, 6023, 6024, 6037, 6042, 6043, 6059, 6065, 6071, 6081,\n",
       "       6091, 6093, 6109, 6112, 6124, 6157, 6160, 6166, 6168, 6172, 6173,\n",
       "       6304, 6324, 6347, 6391, 6400, 6421, 6425, 6426, 6428, 6432, 6501,\n",
       "       6505, 6517, 6555, 6560, 6568, 6569, 6571, 6574, 6578, 6597, 6598,\n",
       "       6603, 6625, 6632, 6641, 6651, 6657, 6706, 6721, 6739, 6740, 6744,\n",
       "       6746, 6769, 6775, 6785, 6796, 6847, 6872, 6926, 7107, 7121, 7130,\n",
       "       7153, 7220, 7265, 7304, 7338, 7394, 7432, 7434, 7451, 7459, 7473,\n",
       "       7492, 7498, 7539, 7545, 7603, 7637, 7691, 7797, 7800, 7812, 7821,\n",
       "       7839, 7842, 7847, 7849, 7850, 7851, 7856, 7857, 7858, 7859, 7870,\n",
       "       7886, 7888, 7899, 7900, 7905, 7917, 7918, 7920, 7928, 7945, 7990,\n",
       "       8020, 8047, 8061, 8062, 8072, 8081, 8091, 8094, 8095, 8181, 8183,\n",
       "       8196, 8246, 8272, 8273, 8277, 8279, 8294, 8308, 8332, 8339, 8406,\n",
       "       8408, 8410, 8426, 8453, 8520, 8522, 8553, 8639, 8952, 9007, 9009,\n",
       "       9010, 9013, 9015, 9016, 9019, 9024, 9036, 9045, 9103, 9128, 9141,\n",
       "       9182, 9209, 9211, 9214, 9245, 9280, 9316, 9426, 9427, 9446, 9456,\n",
       "       9465, 9482, 9534, 9538, 9544, 9554, 9560, 9587, 9595, 9624, 9634,\n",
       "       9642, 9643, 9662, 9679, 9698, 9700, 9716, 9719, 9729, 9732, 9733,\n",
       "       9735, 9738, 9740, 9741, 9744, 9745, 9749, 9752, 9764, 9767, 9768,\n",
       "       9770, 9777, 9779, 9792, 9808, 9811, 9839, 9840, 9855, 9856, 9858,\n",
       "       9867, 9874, 9879, 9883, 9888, 9890, 9892, 9893, 9905, 9925, 9941,\n",
       "       9943, 9944, 9970, 9975, 9980, 9982, 9986])"
      ]
     },
     "execution_count": 33,
     "metadata": {},
     "output_type": "execute_result"
    }
   ],
   "source": [
    "np.where(matches == False)[0]"
   ]
  },
  {
   "cell_type": "code",
   "execution_count": 34,
   "metadata": {},
   "outputs": [
    {
     "data": {
      "image/png": "[encoded data removed]",
      "text/plain": [
       "<matplotlib.figure.Figure at 0x7f740fab7a90>"
      ]
     },
     "metadata": {},
     "output_type": "display_data"
    }
   ],
   "source": [
    "showimg(mnist.test.images[8])"
   ]
  },
  {
   "cell_type": "code",
   "execution_count": 39,
   "metadata": {},
   "outputs": [
    {
     "data": {
      "text/plain": [
       "5"
      ]
     },
     "execution_count": 39,
     "metadata": {},
     "output_type": "execute_result"
    }
   ],
   "source": [
    "getdigit(mnist.test.labels[8])"
   ]
  },
  {
   "cell_type": "code",
   "execution_count": 40,
   "metadata": {
    "collapsed": true
   },
   "outputs": [],
   "source": [
    "prediction = sess.run(getlabel, feed_dict={x: mnist.test.images[8:9], y_: mnist.test.labels[8:9]})"
   ]
  },
  {
   "cell_type": "code",
   "execution_count": 41,
   "metadata": {},
   "outputs": [
    {
     "data": {
      "image/png": "[encoded data removed]",
      "text/plain": [
       "<matplotlib.figure.Figure at 0x7f740faa70f0>"
      ]
     },
     "metadata": {},
     "output_type": "display_data"
    }
   ],
   "source": [
    "showprediction(prediction)"
   ]
  }
 ],
 "metadata": {
  "kernelspec": {
   "display_name": "Python 3",
   "language": "python",
   "name": "python3"
  },
  "language_info": {
   "codemirror_mode": {
    "name": "ipython",
    "version": 3
   },
   "file_extension": ".py",
   "mimetype": "text/x-python",
   "name": "python",
   "nbconvert_exporter": "python",
   "pygments_lexer": "ipython3",
   "version": "3.5.4"
  }
 },
 "nbformat": 4,
 "nbformat_minor": 2
}
