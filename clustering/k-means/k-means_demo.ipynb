{
 "cells": [
  {
   "cell_type": "markdown",
   "metadata": {},
   "source": [
    "# Demonstration of k-means algorithm"
   ]
  },
  {
   "cell_type": "markdown",
   "metadata": {},
   "source": [
    "Cost function:\n",
    "\n",
    "\\begin{equation}\n",
    "    J\n",
    "    =\n",
    "    \\frac{1}{m}\n",
    "    \\sum_{i=1}^{m}\n",
    "    || x^{(i)} - \\mu_{c^{(i)}} ||^{2}\n",
    "\\end{equation}"
   ]
  },
  {
   "cell_type": "markdown",
   "metadata": {},
   "source": [
    "**Note:**\n",
    "- k-means can get stuck in local minimum which is not the global minimum.\n",
    "    - Solution:\n",
    "        - try multiple random initilizations (N)\n",
    "        - look at $J_{l}$  (l=1,2,..,N)\n",
    "        - Pick clustering that gives $min_{l} [J_{l}]$"
   ]
  },
  {
   "cell_type": "code",
   "execution_count": 1,
   "metadata": {
    "collapsed": true
   },
   "outputs": [],
   "source": [
    "import numpy as np\n",
    "import scipy.stats\n",
    "import matplotlib.pyplot as plt\n",
    "%matplotlib inline"
   ]
  },
  {
   "cell_type": "code",
   "execution_count": 2,
   "metadata": {
    "collapsed": true
   },
   "outputs": [],
   "source": [
    "def eucledian_distance(a, b):\n",
    "    return np.sqrt(np.sum((a-b)**2))"
   ]
  },
  {
   "cell_type": "code",
   "execution_count": 3,
   "metadata": {},
   "outputs": [],
   "source": [
    "def assign_to_clusters(X, mus):\n",
    "    \n",
    "    cluster_indices = []\n",
    "    \n",
    "    for x in X:\n",
    "        \n",
    "        d = np.inf\n",
    "\n",
    "        \n",
    "        for i,mu in enumerate(mus):\n",
    "\n",
    "            d_current = eucledian_distance(x,mu)\n",
    "            if d_current < d:\n",
    "                d = d_current\n",
    "                cluster_index = i\n",
    "        cluster_indices.append(cluster_index)\n",
    "    return np.array(cluster_indices)"
   ]
  },
  {
   "cell_type": "code",
   "execution_count": 4,
   "metadata": {
    "collapsed": true
   },
   "outputs": [],
   "source": [
    "def show_updates(X, mu_init, steps=10):\n",
    "    \n",
    "    mu_A = mu_init[0]\n",
    "    mu_B = mu_init[1]\n",
    "    \n",
    "    fig, ax = plt.subplots()\n",
    "    ax.scatter(X[:,0], X[:,1], c='grey')\n",
    "    ax.scatter(mu_A[0], mu_A[1], c='purple', marker='x', s=100)\n",
    "    ax.scatter(mu_B[0], mu_B[1], c='green', marker='x', s=100)\n",
    "    \n",
    "    costs = []\n",
    "    \n",
    "    for i in range(steps):\n",
    "        \n",
    "        # - Get cluster assignments\n",
    "        ci = assign_to_clusters(X, [mu_A, mu_B])\n",
    "\n",
    "        # - Move the cluster centroids\n",
    "        mu_A = (np.mean(X[ci==0,0]), np.mean(X[ci==0,1]))\n",
    "        mu_B = (np.mean(X[ci==1,0]), np.mean(X[ci==1,1]))\n",
    "        mus = [mu_A, mu_B]\n",
    "    \n",
    "        fig, ax = plt.subplots()\n",
    "        ax.scatter(X[ci==0,0], X[ci==0,1], c='purple') \n",
    "        ax.scatter(X[ci==1,0], X[ci==1,1], c='green')\n",
    "        \n",
    "        ax.scatter(mu_A[0], mu_A[1], c='purple', marker='x', s=100)\n",
    "        ax.scatter(mu_B[0], mu_B[1], c='green', marker='x', s=100)\n",
    "        \n",
    "        cost = 0.0\n",
    "        for i,xi in enumerate(X):\n",
    "            cost += eucledian_distance(xi, mus[ci[i]])\n",
    "        cost = cost/len(X)    \n",
    "        costs.append(cost)\n",
    "        \n",
    "    return costs"
   ]
  },
  {
   "cell_type": "code",
   "execution_count": 5,
   "metadata": {
    "collapsed": true
   },
   "outputs": [],
   "source": [
    "X1_mean = [2.0, 2.0]\n",
    "X1_cov = [[2.0, 0.0],\n",
    "          [0.0, 2.0]]\n",
    "\n",
    "X2_mean = [-2.0, -2.0]\n",
    "X2_cov = [[2.0, 0.0],\n",
    "          [0.0, 2.0]]"
   ]
  },
  {
   "cell_type": "code",
   "execution_count": 6,
   "metadata": {
    "collapsed": true
   },
   "outputs": [],
   "source": [
    "npts = 20"
   ]
  },
  {
   "cell_type": "code",
   "execution_count": 7,
   "metadata": {},
   "outputs": [],
   "source": [
    "X1 = scipy.stats.multivariate_normal.rvs(mean=X1_mean, cov=X1_cov, size=npts)\n",
    "X2 = scipy.stats.multivariate_normal.rvs(mean=X2_mean, cov=X2_cov, size=npts)"
   ]
  },
  {
   "cell_type": "code",
   "execution_count": 8,
   "metadata": {},
   "outputs": [
    {
     "data": {
      "text/plain": [
       "<matplotlib.collections.PathCollection at 0x7fef0b9eef98>"
      ]
     },
     "execution_count": 8,
     "metadata": {},
     "output_type": "execute_result"
    },
    {
     "data": {
      "image/png": "[encoded data removed]",
      "text/plain": [
       "<Figure size 432x288 with 1 Axes>"
      ]
     },
     "metadata": {},
     "output_type": "display_data"
    }
   ],
   "source": [
    "fig, ax = plt.subplots()\n",
    "ax.scatter(X1[:,0], X1[:,1], c='firebrick')\n",
    "ax.scatter(X2[:,0], X2[:,1], c='navy')"
   ]
  },
  {
   "cell_type": "code",
   "execution_count": 9,
   "metadata": {
    "collapsed": true
   },
   "outputs": [],
   "source": [
    "X = np.r_[X1, X2]"
   ]
  },
  {
   "cell_type": "code",
   "execution_count": 10,
   "metadata": {},
   "outputs": [
    {
     "data": {
      "text/plain": [
       "<matplotlib.collections.PathCollection at 0x7fef0b97f9e8>"
      ]
     },
     "execution_count": 10,
     "metadata": {},
     "output_type": "execute_result"
    },
    {
     "data": {
      "image/png": "[encoded data removed]",
      "text/plain": [
       "<Figure size 432x288 with 1 Axes>"
      ]
     },
     "metadata": {},
     "output_type": "display_data"
    }
   ],
   "source": [
    "fig, ax = plt.subplots()\n",
    "ax.scatter(X[:,0], X[:,1], c='grey')"
   ]
  },
  {
   "cell_type": "code",
   "execution_count": 11,
   "metadata": {
    "collapsed": true
   },
   "outputs": [],
   "source": [
    "mu_A_init = [scipy.stats.uniform.rvs(min(X[:,0]), max(X[:,0])), scipy.stats.uniform.rvs(min(X[:,1]), max(X[:,1]))]\n",
    "mu_B_init = [scipy.stats.uniform.rvs(min(X[:,0]), max(X[:,0])), scipy.stats.uniform.rvs(min(X[:,1]), max(X[:,1]))]"
   ]
  },
  {
   "cell_type": "code",
   "execution_count": 12,
   "metadata": {},
   "outputs": [],
   "source": [
    "mu_A_init = X[np.random.randint(low=0, high=npts)]\n",
    "mu_B_init = X[np.random.randint(low=0, high=npts)]"
   ]
  },
  {
   "cell_type": "code",
   "execution_count": 13,
   "metadata": {},
   "outputs": [
    {
     "data": {
      "text/plain": [
       "<matplotlib.collections.PathCollection at 0x7fef0b9654a8>"
      ]
     },
     "execution_count": 13,
     "metadata": {},
     "output_type": "execute_result"
    },
    {
     "data": {
      "image/png": "[encoded data removed]",
      "text/plain": [
       "<Figure size 432x288 with 1 Axes>"
      ]
     },
     "metadata": {},
     "output_type": "display_data"
    }
   ],
   "source": [
    "fig, ax = plt.subplots()\n",
    "ax.scatter(X[:,0], X[:,1], c='grey')\n",
    "ax.scatter(mu_A_init[0], mu_A_init[1], c='purple', marker='x', s=100)\n",
    "ax.scatter(mu_B_init[0], mu_B_init[1], c='green', marker='x', s=100)"
   ]
  },
  {
   "cell_type": "code",
   "execution_count": 14,
   "metadata": {},
   "outputs": [],
   "source": [
    "ci = assign_to_clusters(X, [mu_A_init, mu_B_init])"
   ]
  },
  {
   "cell_type": "code",
   "execution_count": 15,
   "metadata": {},
   "outputs": [],
   "source": [
    "Xci = np.c_[X,ci]"
   ]
  },
  {
   "cell_type": "code",
   "execution_count": 16,
   "metadata": {},
   "outputs": [
    {
     "data": {
      "text/plain": [
       "<matplotlib.collections.PathCollection at 0x7fef0b8c9390>"
      ]
     },
     "execution_count": 16,
     "metadata": {},
     "output_type": "execute_result"
    },
    {
     "data": {
      "image/png": "[encoded data removed]",
      "text/plain": [
       "<Figure size 432x288 with 1 Axes>"
      ]
     },
     "metadata": {},
     "output_type": "display_data"
    }
   ],
   "source": [
    "fig, ax = plt.subplots()\n",
    "ax.scatter(mu_A_init[0], mu_A_init[1], c='purple', marker='x', s=100)\n",
    "ax.scatter(mu_B_init[0], mu_B_init[1], c='green', marker='x', s=100)\n",
    "\n",
    "ax.scatter(X[ci==0,0], X[ci==0,1], c='purple')\n",
    "ax.scatter(X[ci==1,0], X[ci==1,1], c='green')"
   ]
  },
  {
   "cell_type": "code",
   "execution_count": 17,
   "metadata": {},
   "outputs": [],
   "source": [
    "mu_A_new = (np.mean(X[ci==0,0]), np.mean(X[ci==0,1]))\n",
    "mu_B_new = (np.mean(X[ci==1,0]), np.mean(X[ci==1,1]))"
   ]
  },
  {
   "cell_type": "code",
   "execution_count": 18,
   "metadata": {},
   "outputs": [
    {
     "data": {
      "text/plain": [
       "<matplotlib.collections.PathCollection at 0x7fef0b8a1668>"
      ]
     },
     "execution_count": 18,
     "metadata": {},
     "output_type": "execute_result"
    },
    {
     "data": {
      "image/png": "[encoded data removed]",
      "text/plain": [
       "<Figure size 432x288 with 1 Axes>"
      ]
     },
     "metadata": {},
     "output_type": "display_data"
    }
   ],
   "source": [
    "fig, ax = plt.subplots()\n",
    "ax.scatter(mu_A_new[0], mu_A_new[1], c='purple', marker='x', s=100)\n",
    "ax.scatter(mu_B_new[0], mu_B_new[1], c='green', marker='x', s=100)\n",
    "\n",
    "ax.scatter(X[ci==0,0], X[ci==0,1], c='purple') \n",
    "ax.scatter(X[ci==1,0], X[ci==1,1], c='green')"
   ]
  },
  {
   "cell_type": "code",
   "execution_count": 19,
   "metadata": {},
   "outputs": [
    {
     "data": {
      "image/png": "[encoded data removed]",
      "text/plain": [
       "<Figure size 432x288 with 1 Axes>"
      ]
     },
     "metadata": {},
     "output_type": "display_data"
    },
    {
     "data": {
      "image/png": "[encoded data removed]",
      "text/plain": [
       "<Figure size 432x288 with 1 Axes>"
      ]
     },
     "metadata": {},
     "output_type": "display_data"
    },
    {
     "data": {
      "image/png": "[encoded data removed]",
      "text/plain": [
       "<Figure size 432x288 with 1 Axes>"
      ]
     },
     "metadata": {},
     "output_type": "display_data"
    },
    {
     "data": {
      "image/png": "[encoded data removed]",
      "text/plain": [
       "<Figure size 432x288 with 1 Axes>"
      ]
     },
     "metadata": {},
     "output_type": "display_data"
    },
    {
     "data": {
      "image/png": "[encoded data removed]",
      "text/plain": [
       "<Figure size 432x288 with 1 Axes>"
      ]
     },
     "metadata": {},
     "output_type": "display_data"
    },
    {
     "data": {
      "image/png": "[encoded data removed]",
      "text/plain": [
       "<Figure size 432x288 with 1 Axes>"
      ]
     },
     "metadata": {},
     "output_type": "display_data"
    }
   ],
   "source": [
    "costs = show_updates(X, [mu_A_new, mu_B_new], steps=5)"
   ]
  },
  {
   "cell_type": "code",
   "execution_count": 20,
   "metadata": {},
   "outputs": [
    {
     "data": {
      "text/plain": [
       "<matplotlib.collections.PathCollection at 0x7fef0b6595f8>"
      ]
     },
     "execution_count": 20,
     "metadata": {},
     "output_type": "execute_result"
    },
    {
     "data": {
      "image/png": "[encoded data removed]",
      "text/plain": [
       "<Figure size 432x288 with 1 Axes>"
      ]
     },
     "metadata": {},
     "output_type": "display_data"
    }
   ],
   "source": [
    "fig, ax = plt.subplots()\n",
    "ax.scatter(X1[:,0], X1[:,1], c='firebrick')\n",
    "ax.scatter(X2[:,0], X2[:,1], c='navy')"
   ]
  },
  {
   "cell_type": "code",
   "execution_count": 21,
   "metadata": {
    "collapsed": true
   },
   "outputs": [],
   "source": [
    "steps = 5"
   ]
  },
  {
   "cell_type": "code",
   "execution_count": 22,
   "metadata": {},
   "outputs": [
    {
     "data": {
      "image/png": "[encoded data removed]",
      "text/plain": [
       "<Figure size 432x288 with 1 Axes>"
      ]
     },
     "metadata": {},
     "output_type": "display_data"
    }
   ],
   "source": [
    "fig, ax = plt.subplots()\n",
    "ax.scatter(range(steps), costs, c='k')\n",
    "ax.set_xlabel('Iteration')\n",
    "ax.set_ylabel('Cost')\n",
    "ax.set_xticks(range(steps));"
   ]
  },
  {
   "cell_type": "code",
   "execution_count": null,
   "metadata": {
    "collapsed": true
   },
   "outputs": [],
   "source": []
  }
 ],
 "metadata": {
  "kernelspec": {
   "display_name": "Python 3",
   "language": "python",
   "name": "python3"
  },
  "language_info": {
   "codemirror_mode": {
    "name": "ipython",
    "version": 3
   },
   "file_extension": ".py",
   "mimetype": "text/x-python",
   "name": "python",
   "nbconvert_exporter": "python",
   "pygments_lexer": "ipython3",
   "version": "3.6.6"
  }
 },
 "nbformat": 4,
 "nbformat_minor": 2
}
