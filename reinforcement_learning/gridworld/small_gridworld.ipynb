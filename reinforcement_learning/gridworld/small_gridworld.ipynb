{
 "cells": [
  {
   "cell_type": "markdown",
   "metadata": {},
   "source": [
    "# Small Gridworld Example"
   ]
  },
  {
   "cell_type": "markdown",
   "metadata": {},
   "source": [
    "Demonstrative example to illustrate policy evaluation with dynamic programming.\n",
    "\n",
    "Iteration based on Bellman Expectation Equation:\n",
    "\n",
    "\\begin{equation}\n",
    "    v_{k+1}(s)\n",
    "    =\n",
    "    \\sum_{a \\in \\mathcal{A}}\n",
    "    \\pi(a|s)\n",
    "    \\left(\n",
    "        \\mathcal{R}_{s}^{a}\n",
    "        +\n",
    "        \\gamma\n",
    "        \\sum_{s' \\in S}\n",
    "        P^{a}_{ss'}\n",
    "        v_{k}(s')\n",
    "    \\right)\n",
    "\\end{equation}"
   ]
  },
  {
   "cell_type": "code",
   "execution_count": 17,
   "metadata": {},
   "outputs": [],
   "source": [
    "import numpy as np\n",
    "import matplotlib.pyplot as plt\n",
    "%matplotlib inline"
   ]
  },
  {
   "cell_type": "code",
   "execution_count": 89,
   "metadata": {},
   "outputs": [],
   "source": [
    "class UnknownActionException(Exception):\n",
    "    def __init__(self, message):\n",
    "\n",
    "        # Call the base class constructor with the parameters it needs\n",
    "        super(UnknownActionException, self).__init__(message)"
   ]
  },
  {
   "cell_type": "code",
   "execution_count": 18,
   "metadata": {},
   "outputs": [],
   "source": [
    "def plot_gridworld():\n",
    "    \n",
    "    fig, ax = plt.subplots(figsize=(8,8))\n",
    "    ax.set_xlim(0.0, 4.0)\n",
    "    ax.set_ylim(0.0, 4.0)\n",
    "    ax.set_xticks(range(0,4))\n",
    "    ax.set_xticklabels('')\n",
    "    ax.set_yticks(range(0,4))\n",
    "    ax.set_yticklabels('')\n",
    "    plt.grid()\n",
    "    \n",
    "    return fig, ax"
   ]
  },
  {
   "cell_type": "code",
   "execution_count": 252,
   "metadata": {},
   "outputs": [],
   "source": [
    "class Environment:\n",
    "    \n",
    "    def __init__(self, agent_state, size=(4,4)):\n",
    "        self.size = size\n",
    "        self.width = size[0]\n",
    "        self.height = size[1]\n",
    "        self.nblocks = size[0]*size[1]\n",
    "        self.nactions = 4\n",
    "        self.rewards = -np.ones(shape=(self.width, self.height, self.nactions))\n",
    "        self.states = np.array([(x,y) for x in range(self.width) for y in range(self.height)])\n",
    "        self.actions = np.array( [[[range(4)] for y in range(self.height)]] for x in range(self.width) )\n",
    "        self.agent_state = agent_state\n",
    "    \n",
    "    def possible_actions(self, state):\n",
    "        return self.action[state[0], state1]\n",
    "    \n",
    "    def transition(self, current_state, action):\n",
    "        \n",
    "        if action == 0:\n",
    "            new_x = min(0, current_state[0] - 1)\n",
    "            new_y = current_state[1] \n",
    "        elif action == 1:\n",
    "            new_x = max(self.width, current_state[0] + 1)\n",
    "            new_y = current_state[1]\n",
    "        elif action == 2:\n",
    "            new_x = current_state[1]\n",
    "            new_y = min(0, current_state[1] - 1)\n",
    "        elif action == 3:\n",
    "            new_x = current_state[1]\n",
    "            new_y = max(self.height, current_state[1] + 1)\n",
    "        else:\n",
    "            raise UnknownActionException(\"Unknown action '{}'\".format(action))\n",
    "            \n",
    "        new_state = (new_x, new_y)\n",
    "        \n",
    "        return new_state\n",
    "    \n",
    "    def update(self, action):\n",
    "        reward = self.rewards[self.agent_state[0], self.agent_state[1], action]\n",
    "        self.agent_state = self.transition(self.agent_state, action)\n",
    "        return self.agent_state, reward"
   ]
  },
  {
   "cell_type": "code",
   "execution_count": 244,
   "metadata": {},
   "outputs": [],
   "source": [
    "class Agent:\n",
    "    \n",
    "    def __init__(self, environment, gamma=1.0, initial_pos=(1,1)):\n",
    "        self.environment = environment\n",
    "        self.current_state = initial_pos\n",
    "        self.gamma = gamma\n",
    "        self.recent_reward = 0.0\n",
    "        self.gain = 0.0\n",
    "    \n",
    "    def get_current_state(self):\n",
    "        return self.current_state\n",
    "        \n",
    "        \n",
    "    def act(self, action):\n",
    "        new_state, reward = self.environment.update(action)\n",
    "        self.current_state = new_state\n",
    "        self.recent_reward = reward\n",
    "        self.gain += self.gamma*reward\n",
    "    \n",
    "    def policy(self):\n",
    "        pass"
   ]
  },
  {
   "cell_type": "code",
   "execution_count": 245,
   "metadata": {},
   "outputs": [
    {
     "ename": "SyntaxError",
     "evalue": "invalid syntax (<ipython-input-245-60dc9e336e2d>, line 6)",
     "output_type": "error",
     "traceback": [
      "\u001b[0;36m  File \u001b[0;32m\"<ipython-input-245-60dc9e336e2d>\"\u001b[0;36m, line \u001b[0;32m6\u001b[0m\n\u001b[0;31m    for states in\u001b[0m\n\u001b[0m                  ^\u001b[0m\n\u001b[0;31mSyntaxError\u001b[0m\u001b[0;31m:\u001b[0m invalid syntax\n"
     ]
    }
   ],
   "source": [
    "def policy_evaluation(environment, policy, initial_value_function):\n",
    "    \n",
    "    value_function = initial_value_function\n",
    "    value_function_shape = value_function.shape\n",
    "    \n",
    "    for states in environment.states:\n",
    "        value_function "
   ]
  },
  {
   "cell_type": "code",
   "execution_count": 246,
   "metadata": {
    "collapsed": true
   },
   "outputs": [],
   "source": [
    "ACTION_LABELS = { \n",
    "    (-1,  0): '←', \n",
    "    ( 1,  0): '→', \n",
    "    ( 0, -1): '↓', \n",
    "    ( 0,  1): '↑', \n",
    "}"
   ]
  },
  {
   "cell_type": "code",
   "execution_count": 247,
   "metadata": {
    "collapsed": true
   },
   "outputs": [],
   "source": [
    "actions = ['left', 'right', 'up', 'down']"
   ]
  },
  {
   "cell_type": "markdown",
   "metadata": {},
   "source": [
    "## Main"
   ]
  },
  {
   "cell_type": "code",
   "execution_count": 27,
   "metadata": {
    "collapsed": true
   },
   "outputs": [],
   "source": [
    "value_function = np.zeros(shape=(4,4))"
   ]
  },
  {
   "cell_type": "code",
   "execution_count": null,
   "metadata": {
    "collapsed": true
   },
   "outputs": [],
   "source": []
  },
  {
   "cell_type": "markdown",
   "metadata": {},
   "source": [
    "## Test area"
   ]
  },
  {
   "cell_type": "code",
   "execution_count": 221,
   "metadata": {
    "collapsed": true
   },
   "outputs": [],
   "source": [
    "agent_initial_position = (1,1)"
   ]
  },
  {
   "cell_type": "code",
   "execution_count": 253,
   "metadata": {},
   "outputs": [],
   "source": [
    "E = Environment(agent_initial_position)"
   ]
  },
  {
   "cell_type": "code",
   "execution_count": 262,
   "metadata": {},
   "outputs": [
    {
     "data": {
      "text/plain": [
       "array(<generator object Environment.__init__.<locals>.<genexpr> at 0x7f3051470780>, dtype=object)"
      ]
     },
     "execution_count": 262,
     "metadata": {},
     "output_type": "execute_result"
    }
   ],
   "source": [
    "E.actions"
   ]
  },
  {
   "cell_type": "code",
   "execution_count": 229,
   "metadata": {},
   "outputs": [],
   "source": [
    "A = Agent(environment=E, initial_pos=agent_initial_position)"
   ]
  },
  {
   "cell_type": "code",
   "execution_count": 230,
   "metadata": {},
   "outputs": [
    {
     "data": {
      "text/plain": [
       "(1, 1)"
      ]
     },
     "execution_count": 230,
     "metadata": {},
     "output_type": "execute_result"
    }
   ],
   "source": [
    "A.get_current_state()"
   ]
  },
  {
   "cell_type": "code",
   "execution_count": 231,
   "metadata": {},
   "outputs": [],
   "source": [
    "A.act(0)"
   ]
  },
  {
   "cell_type": "code",
   "execution_count": 232,
   "metadata": {},
   "outputs": [
    {
     "data": {
      "text/plain": [
       "(0, 1)"
      ]
     },
     "execution_count": 232,
     "metadata": {},
     "output_type": "execute_result"
    }
   ],
   "source": [
    "A.get_current_state()"
   ]
  },
  {
   "cell_type": "code",
   "execution_count": 233,
   "metadata": {},
   "outputs": [
    {
     "data": {
      "text/plain": [
       "(0, 1)"
      ]
     },
     "execution_count": 233,
     "metadata": {},
     "output_type": "execute_result"
    }
   ],
   "source": [
    "E.agent_state"
   ]
  },
  {
   "cell_type": "code",
   "execution_count": 28,
   "metadata": {},
   "outputs": [
    {
     "data": {
      "text/plain": [
       "array([[ 0.,  0.,  0.,  0.],\n",
       "       [ 0.,  0.,  0.,  0.],\n",
       "       [ 0.,  0.,  0.,  0.],\n",
       "       [ 0.,  0.,  0.,  0.]])"
      ]
     },
     "execution_count": 28,
     "metadata": {},
     "output_type": "execute_result"
    }
   ],
   "source": [
    "value_function"
   ]
  },
  {
   "cell_type": "code",
   "execution_count": 16,
   "metadata": {},
   "outputs": [
    {
     "data": {
      "image/png": "[encoded data removed]",
      "text/plain": [
       "<Figure size 576x576 with 1 Axes>"
      ]
     },
     "metadata": {},
     "output_type": "display_data"
    }
   ],
   "source": [
    "fig, ax = plot_gridworld()"
   ]
  },
  {
   "cell_type": "code",
   "execution_count": null,
   "metadata": {
    "collapsed": true
   },
   "outputs": [],
   "source": []
  }
 ],
 "metadata": {
  "kernelspec": {
   "display_name": "Python 3",
   "language": "python",
   "name": "python3"
  },
  "language_info": {
   "codemirror_mode": {
    "name": "ipython",
    "version": 3
   },
   "file_extension": ".py",
   "mimetype": "text/x-python",
   "name": "python",
   "nbconvert_exporter": "python",
   "pygments_lexer": "ipython3",
   "version": "3.6.6"
  }
 },
 "nbformat": 4,
 "nbformat_minor": 2
}
