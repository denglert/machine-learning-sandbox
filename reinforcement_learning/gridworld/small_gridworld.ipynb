{
 "cells": [
  {
   "cell_type": "markdown",
   "metadata": {},
   "source": [
    "# Small Gridworld Example"
   ]
  },
  {
   "cell_type": "markdown",
   "metadata": {},
   "source": [
    "Demonstrative example to illustrate policy evaluation with dynamic programming.\n"
   ]
  },
  {
   "cell_type": "markdown",
   "metadata": {},
   "source": [
    "**References:**\n",
    "- https://www.youtube.com/watch?v=Nd1-UUMVfz4\n",
    "- http://incompleteideas.net/book/the-book.html"
   ]
  },
  {
   "cell_type": "markdown",
   "metadata": {},
   "source": [
    "## Notation\n",
    "\n",
    "Objects:\n",
    "- $v(s)$ is the value function\n",
    "- $\\pi(a|s)$ is the policy\n",
    "- $R_{s}^{s}$ is the reward function\n",
    "- $P^{a}_{ss'}$ is the transition matrix\n",
    "\n",
    "Variables:\n",
    "- $\\gamma$ is the discount factor\n",
    "\n",
    "Indeces and labels:\n",
    "- $k$: index of  the policy iteration\n",
    "- $s$: is the state label\n",
    "- $a$ is the action label"
   ]
  },
  {
   "cell_type": "markdown",
   "metadata": {},
   "source": [
    "## Bellman Expectation Equation\n",
    "\n",
    "\\begin{equation}\n",
    "    v(s)\n",
    "    =\n",
    "    \\sum_{a \\in \\mathcal{A}}\n",
    "    \\pi(a|s)\n",
    "    \\left(\n",
    "        \\mathcal{R}_{s}^{a}\n",
    "        +\n",
    "        \\gamma\n",
    "        \\sum_{s' \\in S}\n",
    "        P^{a}_{ss'}\n",
    "        v(s')\n",
    "    \\right)\n",
    "\\end{equation}"
   ]
  },
  {
   "cell_type": "markdown",
   "metadata": {},
   "source": [
    "## Iterative policy iteration for the value function\n",
    "\n",
    "### Input\n",
    "\n",
    "- $\\pi(a|s)$ policy\n",
    "- $P^{a}_{ss'}$\n",
    "- $R^{a}_{s}$\n",
    "\n",
    "### Algorithm\n",
    "\n",
    "1. Initialise the value function $v(s)_{k=0}$ for $\\forall$ $s$ with ad-hoc values.\n",
    "\n",
    "2. Start iteration\n",
    "\n",
    "\n",
    "At each iteration $k+1$, for all states $s$ update the value function $v_{k+1}(s)$ using the values function from the previous iteration $v_{k}(s')$:\n",
    "\n",
    "\\begin{equation}\n",
    "    v_{k+1}(s)\n",
    "    =\n",
    "    \\sum_{a \\in \\mathcal{A}}\n",
    "    \\pi(a|s)\n",
    "    \\left(\n",
    "        \\mathcal{R}_{s}^{a}\n",
    "        +\n",
    "        \\gamma\n",
    "        \\sum_{s' \\in S}\n",
    "        P^{a}_{ss'}\n",
    "        v_{k}(s')\n",
    "    \\right)\n",
    "\\end{equation}"
   ]
  },
  {
   "cell_type": "code",
   "execution_count": 32,
   "metadata": {},
   "outputs": [
    {
     "name": "stdout",
     "output_type": "stream",
     "text": [
      "The autoreload extension is already loaded. To reload it, use:\n",
      "  %reload_ext autoreload\n"
     ]
    }
   ],
   "source": [
    "import numpy as np\n",
    "import matplotlib.pyplot as plt\n",
    "import scipy.stats\n",
    "from rl_model import *\n",
    "%matplotlib inline\n",
    "%load_ext autoreload\n",
    "%autoreload 2"
   ]
  },
  {
   "cell_type": "markdown",
   "metadata": {},
   "source": [
    "## Main"
   ]
  },
  {
   "cell_type": "code",
   "execution_count": 33,
   "metadata": {
    "collapsed": true
   },
   "outputs": [],
   "source": [
    "value_function = np.zeros(shape=(4,4))"
   ]
  },
  {
   "cell_type": "markdown",
   "metadata": {},
   "source": [
    "## Test area"
   ]
  },
  {
   "cell_type": "code",
   "execution_count": 34,
   "metadata": {
    "collapsed": true
   },
   "outputs": [],
   "source": [
    "agent_initial_position = (1,1)"
   ]
  },
  {
   "cell_type": "code",
   "execution_count": 35,
   "metadata": {
    "collapsed": true
   },
   "outputs": [],
   "source": [
    "E = Environment(agent_initial_position)"
   ]
  },
  {
   "cell_type": "code",
   "execution_count": 36,
   "metadata": {
    "collapsed": true
   },
   "outputs": [],
   "source": [
    "A = Agent(environment=E, initial_pos=agent_initial_position, policy=random_policy)"
   ]
  },
  {
   "cell_type": "code",
   "execution_count": 37,
   "metadata": {},
   "outputs": [
    {
     "data": {
      "text/plain": [
       "(<Figure size 144x144 with 1 Axes>,\n",
       " <matplotlib.axes._subplots.AxesSubplot at 0x7fd1311e4f28>)"
      ]
     },
     "execution_count": 37,
     "metadata": {},
     "output_type": "execute_result"
    },
    {
     "data": {
      "image/png": "[encoded data removed]",
      "text/plain": [
       "<Figure size 144x144 with 1 Axes>"
      ]
     },
     "metadata": {},
     "output_type": "display_data"
    }
   ],
   "source": [
    "E.plot()"
   ]
  },
  {
   "cell_type": "code",
   "execution_count": 38,
   "metadata": {},
   "outputs": [
    {
     "data": {
      "text/plain": [
       "(1, 1)"
      ]
     },
     "execution_count": 38,
     "metadata": {},
     "output_type": "execute_result"
    }
   ],
   "source": [
    "A.get_current_state()"
   ]
  },
  {
   "cell_type": "code",
   "execution_count": 39,
   "metadata": {},
   "outputs": [
    {
     "name": "stdout",
     "output_type": "stream",
     "text": [
      "Action: [2]\n",
      "Action: [1]\n",
      "Action: [0]\n"
     ]
    }
   ],
   "source": [
    "A.make_nsteps(3)"
   ]
  },
  {
   "cell_type": "code",
   "execution_count": 41,
   "metadata": {},
   "outputs": [
    {
     "data": {
      "text/plain": [
       "(<Figure size 144x144 with 1 Axes>,\n",
       " <matplotlib.axes._subplots.AxesSubplot at 0x7fd131133358>)"
      ]
     },
     "execution_count": 41,
     "metadata": {},
     "output_type": "execute_result"
    },
    {
     "data": {
      "image/png": "[encoded data removed]",
      "text/plain": [
       "<Figure size 144x144 with 1 Axes>"
      ]
     },
     "metadata": {},
     "output_type": "display_data"
    }
   ],
   "source": [
    "E.plot()"
   ]
  },
  {
   "cell_type": "code",
   "execution_count": 40,
   "metadata": {},
   "outputs": [
    {
     "data": {
      "image/png": "[encoded data removed]",
      "text/plain": [
       "<Figure size 144x144 with 1 Axes>"
      ]
     },
     "metadata": {},
     "output_type": "display_data"
    }
   ],
   "source": [
    "A.act([1], doPlot=True)"
   ]
  },
  {
   "cell_type": "code",
   "execution_count": 27,
   "metadata": {},
   "outputs": [
    {
     "data": {
      "text/plain": [
       "(2, 0)"
      ]
     },
     "execution_count": 27,
     "metadata": {},
     "output_type": "execute_result"
    }
   ],
   "source": [
    "A.get_current_state()"
   ]
  },
  {
   "cell_type": "code",
   "execution_count": 42,
   "metadata": {},
   "outputs": [
    {
     "data": {
      "text/plain": [
       "-4.0"
      ]
     },
     "execution_count": 42,
     "metadata": {},
     "output_type": "execute_result"
    }
   ],
   "source": [
    "A.gain"
   ]
  },
  {
   "cell_type": "code",
   "execution_count": 28,
   "metadata": {},
   "outputs": [
    {
     "data": {
      "text/plain": [
       "(<Figure size 144x144 with 1 Axes>,\n",
       " <matplotlib.axes._subplots.AxesSubplot at 0x7fd13113e128>)"
      ]
     },
     "execution_count": 28,
     "metadata": {},
     "output_type": "execute_result"
    },
    {
     "data": {
      "image/png": "[encoded data removed]",
      "text/plain": [
       "<Figure size 144x144 with 1 Axes>"
      ]
     },
     "metadata": {},
     "output_type": "display_data"
    }
   ],
   "source": [
    "E.plot()"
   ]
  },
  {
   "cell_type": "code",
   "execution_count": 29,
   "metadata": {},
   "outputs": [
    {
     "data": {
      "text/plain": [
       "(2, 0)"
      ]
     },
     "execution_count": 29,
     "metadata": {},
     "output_type": "execute_result"
    }
   ],
   "source": [
    "E.agent_state"
   ]
  },
  {
   "cell_type": "code",
   "execution_count": null,
   "metadata": {
    "collapsed": true
   },
   "outputs": [],
   "source": []
  }
 ],
 "metadata": {
  "kernelspec": {
   "display_name": "Python 3",
   "language": "python",
   "name": "python3"
  },
  "language_info": {
   "codemirror_mode": {
    "name": "ipython",
    "version": 3
   },
   "file_extension": ".py",
   "mimetype": "text/x-python",
   "name": "python",
   "nbconvert_exporter": "python",
   "pygments_lexer": "ipython3",
   "version": "3.6.6"
  }
 },
 "nbformat": 4,
 "nbformat_minor": 2
}
