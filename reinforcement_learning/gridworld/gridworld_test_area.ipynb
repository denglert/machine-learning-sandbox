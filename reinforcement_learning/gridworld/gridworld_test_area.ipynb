{
 "cells": [
  {
   "cell_type": "markdown",
   "metadata": {},
   "source": [
    "# Gridworld environment test suite"
   ]
  },
  {
   "cell_type": "code",
   "execution_count": 1,
   "metadata": {},
   "outputs": [
    {
     "name": "stderr",
     "output_type": "stream",
     "text": [
      "/Users/edy/lib/build/anaconda/lib/python3.6/importlib/_bootstrap.py:219: RuntimeWarning: numpy.dtype size changed, may indicate binary incompatibility. Expected 96, got 88\n",
      "  return f(*args, **kwds)\n"
     ]
    }
   ],
   "source": [
    "import numpy as np\n",
    "import matplotlib.pyplot as plt\n",
    "import scipy.stats\n",
    "from rl_model import *\n",
    "%matplotlib inline\n",
    "%load_ext autoreload\n",
    "%autoreload 2"
   ]
  },
  {
   "cell_type": "markdown",
   "metadata": {},
   "source": [
    "## Environment test area"
   ]
  },
  {
   "cell_type": "code",
   "execution_count": 2,
   "metadata": {},
   "outputs": [],
   "source": [
    "gridsize = (6,6)\n",
    "agent_initial_position = (1,1)\n",
    "target_position = (4,4)\n",
    "walls = [(1,2), (1,3)]\n",
    "winds = {(0,0) : Wind((1,1), 0.2)}"
   ]
  },
  {
   "cell_type": "code",
   "execution_count": 3,
   "metadata": {},
   "outputs": [],
   "source": [
    "E = Environment(agent_position=agent_initial_position,\n",
    "                target_position=target_position,\n",
    "                gridsize=gridsize,\n",
    "                walls=walls,\n",
    "                winds=winds)"
   ]
  },
  {
   "cell_type": "code",
   "execution_count": 4,
   "metadata": {},
   "outputs": [
    {
     "data": {
      "text/plain": [
       "(<Figure size 144x144 with 1 Axes>,\n",
       " <matplotlib.axes._subplots.AxesSubplot at 0x1a18dc6080>)"
      ]
     },
     "execution_count": 4,
     "metadata": {},
     "output_type": "execute_result"
    },
    {
     "data": {
      "image/png": "[encoded data removed]",
      "text/plain": [
       "<Figure size 144x144 with 1 Axes>"
      ]
     },
     "metadata": {},
     "output_type": "display_data"
    }
   ],
   "source": [
    "E.plot()"
   ]
  },
  {
   "cell_type": "code",
   "execution_count": 5,
   "metadata": {},
   "outputs": [
    {
     "data": {
      "text/plain": [
       "{((0, 0), (-1, 0)): {(0, 1): 1.0},\n",
       " ((0, 0), (1, 0)): {(1, 0): 0.8, (2, 1): 0.2},\n",
       " ((0, 0), (0, -1)): {(1, 0): 1.0},\n",
       " ((0, 0), (0, 1)): {(0, 1): 1.0},\n",
       " ((0, 0), (-1, 1)): {(0, 2): 1.0},\n",
       " ((0, 0), (1, 1)): {(1, 1): 0.8, (2, 2): 0.2},\n",
       " ((0, 0), (1, -1)): {(2, 0): 1.0},\n",
       " ((0, 0), (-1, -1)): {(0, 0): 1.0},\n",
       " ((0, 1), (-1, 0)): {(0, 1): 1.0},\n",
       " ((0, 1), (1, 0)): {(1, 1): 1.0},\n",
       " ((0, 1), (0, -1)): {(0, 0): 1.0},\n",
       " ((0, 1), (0, 1)): {(0, 2): 1.0},\n",
       " ((0, 1), (-1, 1)): {(0, 1): 1.0},\n",
       " ((0, 1), (1, 1)): {(0, 1): 1.0},\n",
       " ((0, 1), (1, -1)): {(1, 0): 1.0},\n",
       " ((0, 1), (-1, -1)): {(0, 1): 1.0},\n",
       " ((0, 2), (-1, 0)): {(0, 2): 1.0},\n",
       " ((0, 2), (1, 0)): {(0, 2): 1.0},\n",
       " ((0, 2), (0, -1)): {(0, 1): 1.0},\n",
       " ((0, 2), (0, 1)): {(0, 3): 1.0},\n",
       " ((0, 2), (-1, 1)): {(0, 2): 1.0},\n",
       " ((0, 2), (1, 1)): {(0, 2): 1.0},\n",
       " ((0, 2), (1, -1)): {(1, 1): 1.0},\n",
       " ((0, 2), (-1, -1)): {(0, 2): 1.0},\n",
       " ((0, 3), (-1, 0)): {(0, 3): 1.0},\n",
       " ((0, 3), (1, 0)): {(0, 3): 1.0},\n",
       " ((0, 3), (0, -1)): {(0, 2): 1.0},\n",
       " ((0, 3), (0, 1)): {(0, 4): 1.0},\n",
       " ((0, 3), (-1, 1)): {(0, 3): 1.0},\n",
       " ((0, 3), (1, 1)): {(1, 4): 1.0},\n",
       " ((0, 3), (1, -1)): {(0, 3): 1.0},\n",
       " ((0, 3), (-1, -1)): {(0, 3): 1.0},\n",
       " ((0, 4), (-1, 0)): {(0, 4): 1.0},\n",
       " ((0, 4), (1, 0)): {(1, 4): 1.0},\n",
       " ((0, 4), (0, -1)): {(0, 3): 1.0},\n",
       " ((0, 4), (0, 1)): {(0, 5): 1.0},\n",
       " ((0, 4), (-1, 1)): {(0, 4): 1.0},\n",
       " ((0, 4), (1, 1)): {(1, 5): 1.0},\n",
       " ((0, 4), (1, -1)): {(0, 4): 1.0},\n",
       " ((0, 4), (-1, -1)): {(0, 4): 1.0},\n",
       " ((0, 5), (-1, 0)): {(0, 5): 1.0},\n",
       " ((0, 5), (1, 0)): {(1, 5): 1.0},\n",
       " ((0, 5), (0, -1)): {(0, 4): 1.0},\n",
       " ((0, 5), (0, 1)): {(0, 5): 1.0},\n",
       " ((0, 5), (-1, 1)): {(0, 5): 1.0},\n",
       " ((0, 5), (1, 1)): {(0, 5): 1.0},\n",
       " ((0, 5), (1, -1)): {(1, 4): 1.0},\n",
       " ((0, 5), (-1, -1)): {(0, 5): 1.0},\n",
       " ((1, 0), (-1, 0)): {(0, 0): 1.0},\n",
       " ((1, 0), (1, 0)): {(2, 0): 1.0},\n",
       " ((1, 0), (0, -1)): {(1, 0): 1.0},\n",
       " ((1, 0), (0, 1)): {(1, 1): 1.0},\n",
       " ((1, 0), (-1, 1)): {(0, 1): 1.0},\n",
       " ((1, 0), (1, 1)): {(2, 1): 1.0},\n",
       " ((1, 0), (1, -1)): {(1, 0): 1.0},\n",
       " ((1, 0), (-1, -1)): {(1, 0): 1.0},\n",
       " ((1, 1), (-1, 0)): {(0, 1): 1.0},\n",
       " ((1, 1), (1, 0)): {(2, 1): 1.0},\n",
       " ((1, 1), (0, -1)): {(1, 0): 1.0},\n",
       " ((1, 1), (0, 1)): {(1, 1): 1.0},\n",
       " ((1, 1), (-1, 1)): {(0, 2): 1.0},\n",
       " ((1, 1), (1, 1)): {(2, 2): 1.0},\n",
       " ((1, 1), (1, -1)): {(2, 0): 1.0},\n",
       " ((1, 1), (-1, -1)): {(0, 0): 1.0},\n",
       " ((1, 4), (-1, 0)): {(0, 4): 1.0},\n",
       " ((1, 4), (1, 0)): {(2, 4): 1.0},\n",
       " ((1, 4), (0, -1)): {(1, 4): 1.0},\n",
       " ((1, 4), (0, 1)): {(1, 5): 1.0},\n",
       " ((1, 4), (-1, 1)): {(0, 5): 1.0},\n",
       " ((1, 4), (1, 1)): {(2, 5): 1.0},\n",
       " ((1, 4), (1, -1)): {(2, 3): 1.0},\n",
       " ((1, 4), (-1, -1)): {(0, 3): 1.0},\n",
       " ((1, 5), (-1, 0)): {(0, 5): 1.0},\n",
       " ((1, 5), (1, 0)): {(2, 5): 1.0},\n",
       " ((1, 5), (0, -1)): {(1, 4): 1.0},\n",
       " ((1, 5), (0, 1)): {(1, 5): 1.0},\n",
       " ((1, 5), (-1, 1)): {(1, 5): 1.0},\n",
       " ((1, 5), (1, 1)): {(1, 5): 1.0},\n",
       " ((1, 5), (1, -1)): {(2, 4): 1.0},\n",
       " ((1, 5), (-1, -1)): {(0, 4): 1.0},\n",
       " ((2, 0), (-1, 0)): {(1, 0): 1.0},\n",
       " ((2, 0), (1, 0)): {(3, 0): 1.0},\n",
       " ((2, 0), (0, -1)): {(2, 0): 1.0},\n",
       " ((2, 0), (0, 1)): {(2, 1): 1.0},\n",
       " ((2, 0), (-1, 1)): {(1, 1): 1.0},\n",
       " ((2, 0), (1, 1)): {(3, 1): 1.0},\n",
       " ((2, 0), (1, -1)): {(2, 0): 1.0},\n",
       " ((2, 0), (-1, -1)): {(2, 0): 1.0},\n",
       " ((2, 1), (-1, 0)): {(1, 1): 1.0},\n",
       " ((2, 1), (1, 0)): {(3, 1): 1.0},\n",
       " ((2, 1), (0, -1)): {(2, 0): 1.0},\n",
       " ((2, 1), (0, 1)): {(2, 2): 1.0},\n",
       " ((2, 1), (-1, 1)): {(2, 1): 1.0},\n",
       " ((2, 1), (1, 1)): {(3, 2): 1.0},\n",
       " ((2, 1), (1, -1)): {(3, 0): 1.0},\n",
       " ((2, 1), (-1, -1)): {(1, 0): 1.0},\n",
       " ((2, 2), (-1, 0)): {(2, 2): 1.0},\n",
       " ((2, 2), (1, 0)): {(3, 2): 1.0},\n",
       " ((2, 2), (0, -1)): {(2, 1): 1.0},\n",
       " ((2, 2), (0, 1)): {(2, 3): 1.0},\n",
       " ((2, 2), (-1, 1)): {(2, 2): 1.0},\n",
       " ((2, 2), (1, 1)): {(3, 3): 1.0},\n",
       " ((2, 2), (1, -1)): {(3, 1): 1.0},\n",
       " ((2, 2), (-1, -1)): {(1, 1): 1.0},\n",
       " ((2, 3), (-1, 0)): {(2, 3): 1.0},\n",
       " ((2, 3), (1, 0)): {(3, 3): 1.0},\n",
       " ((2, 3), (0, -1)): {(2, 2): 1.0},\n",
       " ((2, 3), (0, 1)): {(2, 4): 1.0},\n",
       " ((2, 3), (-1, 1)): {(1, 4): 1.0},\n",
       " ((2, 3), (1, 1)): {(3, 4): 1.0},\n",
       " ((2, 3), (1, -1)): {(3, 2): 1.0},\n",
       " ((2, 3), (-1, -1)): {(2, 3): 1.0},\n",
       " ((2, 4), (-1, 0)): {(1, 4): 1.0},\n",
       " ((2, 4), (1, 0)): {(3, 4): 1.0},\n",
       " ((2, 4), (0, -1)): {(2, 3): 1.0},\n",
       " ((2, 4), (0, 1)): {(2, 5): 1.0},\n",
       " ((2, 4), (-1, 1)): {(1, 5): 1.0},\n",
       " ((2, 4), (1, 1)): {(3, 5): 1.0},\n",
       " ((2, 4), (1, -1)): {(3, 3): 1.0},\n",
       " ((2, 4), (-1, -1)): {(2, 4): 1.0},\n",
       " ((2, 5), (-1, 0)): {(1, 5): 1.0},\n",
       " ((2, 5), (1, 0)): {(3, 5): 1.0},\n",
       " ((2, 5), (0, -1)): {(2, 4): 1.0},\n",
       " ((2, 5), (0, 1)): {(2, 5): 1.0},\n",
       " ((2, 5), (-1, 1)): {(2, 5): 1.0},\n",
       " ((2, 5), (1, 1)): {(2, 5): 1.0},\n",
       " ((2, 5), (1, -1)): {(3, 4): 1.0},\n",
       " ((2, 5), (-1, -1)): {(1, 4): 1.0},\n",
       " ((3, 0), (-1, 0)): {(2, 0): 1.0},\n",
       " ((3, 0), (1, 0)): {(4, 0): 1.0},\n",
       " ((3, 0), (0, -1)): {(3, 0): 1.0},\n",
       " ((3, 0), (0, 1)): {(3, 1): 1.0},\n",
       " ((3, 0), (-1, 1)): {(2, 1): 1.0},\n",
       " ((3, 0), (1, 1)): {(4, 1): 1.0},\n",
       " ((3, 0), (1, -1)): {(3, 0): 1.0},\n",
       " ((3, 0), (-1, -1)): {(3, 0): 1.0},\n",
       " ((3, 1), (-1, 0)): {(2, 1): 1.0},\n",
       " ((3, 1), (1, 0)): {(4, 1): 1.0},\n",
       " ((3, 1), (0, -1)): {(3, 0): 1.0},\n",
       " ((3, 1), (0, 1)): {(3, 2): 1.0},\n",
       " ((3, 1), (-1, 1)): {(2, 2): 1.0},\n",
       " ((3, 1), (1, 1)): {(4, 2): 1.0},\n",
       " ((3, 1), (1, -1)): {(4, 0): 1.0},\n",
       " ((3, 1), (-1, -1)): {(2, 0): 1.0},\n",
       " ((3, 2), (-1, 0)): {(2, 2): 1.0},\n",
       " ((3, 2), (1, 0)): {(4, 2): 1.0},\n",
       " ((3, 2), (0, -1)): {(3, 1): 1.0},\n",
       " ((3, 2), (0, 1)): {(3, 3): 1.0},\n",
       " ((3, 2), (-1, 1)): {(2, 3): 1.0},\n",
       " ((3, 2), (1, 1)): {(4, 3): 1.0},\n",
       " ((3, 2), (1, -1)): {(4, 1): 1.0},\n",
       " ((3, 2), (-1, -1)): {(2, 1): 1.0},\n",
       " ((3, 3), (-1, 0)): {(2, 3): 1.0},\n",
       " ((3, 3), (1, 0)): {(4, 3): 1.0},\n",
       " ((3, 3), (0, -1)): {(3, 2): 1.0},\n",
       " ((3, 3), (0, 1)): {(3, 4): 1.0},\n",
       " ((3, 3), (-1, 1)): {(2, 4): 1.0},\n",
       " ((3, 3), (1, 1)): {(4, 4): 1.0},\n",
       " ((3, 3), (1, -1)): {(4, 2): 1.0},\n",
       " ((3, 3), (-1, -1)): {(2, 2): 1.0},\n",
       " ((3, 4), (-1, 0)): {(2, 4): 1.0},\n",
       " ((3, 4), (1, 0)): {(4, 4): 1.0},\n",
       " ((3, 4), (0, -1)): {(3, 3): 1.0},\n",
       " ((3, 4), (0, 1)): {(3, 5): 1.0},\n",
       " ((3, 4), (-1, 1)): {(2, 5): 1.0},\n",
       " ((3, 4), (1, 1)): {(4, 5): 1.0},\n",
       " ((3, 4), (1, -1)): {(4, 3): 1.0},\n",
       " ((3, 4), (-1, -1)): {(2, 3): 1.0},\n",
       " ((3, 5), (-1, 0)): {(2, 5): 1.0},\n",
       " ((3, 5), (1, 0)): {(4, 5): 1.0},\n",
       " ((3, 5), (0, -1)): {(3, 4): 1.0},\n",
       " ((3, 5), (0, 1)): {(3, 5): 1.0},\n",
       " ((3, 5), (-1, 1)): {(3, 5): 1.0},\n",
       " ((3, 5), (1, 1)): {(3, 5): 1.0},\n",
       " ((3, 5), (1, -1)): {(4, 4): 1.0},\n",
       " ((3, 5), (-1, -1)): {(2, 4): 1.0},\n",
       " ((4, 0), (-1, 0)): {(3, 0): 1.0},\n",
       " ((4, 0), (1, 0)): {(5, 0): 1.0},\n",
       " ((4, 0), (0, -1)): {(4, 0): 1.0},\n",
       " ((4, 0), (0, 1)): {(4, 1): 1.0},\n",
       " ((4, 0), (-1, 1)): {(3, 1): 1.0},\n",
       " ((4, 0), (1, 1)): {(5, 1): 1.0},\n",
       " ((4, 0), (1, -1)): {(4, 0): 1.0},\n",
       " ((4, 0), (-1, -1)): {(4, 0): 1.0},\n",
       " ((4, 1), (-1, 0)): {(3, 1): 1.0},\n",
       " ((4, 1), (1, 0)): {(5, 1): 1.0},\n",
       " ((4, 1), (0, -1)): {(4, 0): 1.0},\n",
       " ((4, 1), (0, 1)): {(4, 2): 1.0},\n",
       " ((4, 1), (-1, 1)): {(3, 2): 1.0},\n",
       " ((4, 1), (1, 1)): {(5, 2): 1.0},\n",
       " ((4, 1), (1, -1)): {(5, 0): 1.0},\n",
       " ((4, 1), (-1, -1)): {(3, 0): 1.0},\n",
       " ((4, 2), (-1, 0)): {(3, 2): 1.0},\n",
       " ((4, 2), (1, 0)): {(5, 2): 1.0},\n",
       " ((4, 2), (0, -1)): {(4, 1): 1.0},\n",
       " ((4, 2), (0, 1)): {(4, 3): 1.0},\n",
       " ((4, 2), (-1, 1)): {(3, 3): 1.0},\n",
       " ((4, 2), (1, 1)): {(5, 3): 1.0},\n",
       " ((4, 2), (1, -1)): {(5, 1): 1.0},\n",
       " ((4, 2), (-1, -1)): {(3, 1): 1.0},\n",
       " ((4, 3), (-1, 0)): {(3, 3): 1.0},\n",
       " ((4, 3), (1, 0)): {(5, 3): 1.0},\n",
       " ((4, 3), (0, -1)): {(4, 2): 1.0},\n",
       " ((4, 3), (0, 1)): {(4, 4): 1.0},\n",
       " ((4, 3), (-1, 1)): {(3, 4): 1.0},\n",
       " ((4, 3), (1, 1)): {(5, 4): 1.0},\n",
       " ((4, 3), (1, -1)): {(5, 2): 1.0},\n",
       " ((4, 3), (-1, -1)): {(3, 2): 1.0},\n",
       " ((4, 4), (-1, 0)): {(3, 4): 1.0},\n",
       " ((4, 4), (1, 0)): {(5, 4): 1.0},\n",
       " ((4, 4), (0, -1)): {(4, 3): 1.0},\n",
       " ((4, 4), (0, 1)): {(4, 5): 1.0},\n",
       " ((4, 4), (-1, 1)): {(3, 5): 1.0},\n",
       " ((4, 4), (1, 1)): {(5, 5): 1.0},\n",
       " ((4, 4), (1, -1)): {(5, 3): 1.0},\n",
       " ((4, 4), (-1, -1)): {(3, 3): 1.0},\n",
       " ((4, 5), (-1, 0)): {(3, 5): 1.0},\n",
       " ((4, 5), (1, 0)): {(5, 5): 1.0},\n",
       " ((4, 5), (0, -1)): {(4, 4): 1.0},\n",
       " ((4, 5), (0, 1)): {(4, 5): 1.0},\n",
       " ((4, 5), (-1, 1)): {(4, 5): 1.0},\n",
       " ((4, 5), (1, 1)): {(4, 5): 1.0},\n",
       " ((4, 5), (1, -1)): {(5, 4): 1.0},\n",
       " ((4, 5), (-1, -1)): {(3, 4): 1.0},\n",
       " ((5, 0), (-1, 0)): {(4, 0): 1.0},\n",
       " ((5, 0), (1, 0)): {(5, 0): 1.0},\n",
       " ((5, 0), (0, -1)): {(5, 0): 1.0},\n",
       " ((5, 0), (0, 1)): {(5, 1): 1.0},\n",
       " ((5, 0), (-1, 1)): {(4, 1): 1.0},\n",
       " ((5, 0), (1, 1)): {(5, 0): 1.0},\n",
       " ((5, 0), (1, -1)): {(5, 0): 1.0},\n",
       " ((5, 0), (-1, -1)): {(5, 0): 1.0},\n",
       " ((5, 1), (-1, 0)): {(4, 1): 1.0},\n",
       " ((5, 1), (1, 0)): {(5, 1): 1.0},\n",
       " ((5, 1), (0, -1)): {(5, 0): 1.0},\n",
       " ((5, 1), (0, 1)): {(5, 2): 1.0},\n",
       " ((5, 1), (-1, 1)): {(4, 2): 1.0},\n",
       " ((5, 1), (1, 1)): {(5, 1): 1.0},\n",
       " ((5, 1), (1, -1)): {(5, 1): 1.0},\n",
       " ((5, 1), (-1, -1)): {(4, 0): 1.0},\n",
       " ((5, 2), (-1, 0)): {(4, 2): 1.0},\n",
       " ((5, 2), (1, 0)): {(5, 2): 1.0},\n",
       " ((5, 2), (0, -1)): {(5, 1): 1.0},\n",
       " ((5, 2), (0, 1)): {(5, 3): 1.0},\n",
       " ((5, 2), (-1, 1)): {(4, 3): 1.0},\n",
       " ((5, 2), (1, 1)): {(5, 2): 1.0},\n",
       " ((5, 2), (1, -1)): {(5, 2): 1.0},\n",
       " ((5, 2), (-1, -1)): {(4, 1): 1.0},\n",
       " ((5, 3), (-1, 0)): {(4, 3): 1.0},\n",
       " ((5, 3), (1, 0)): {(5, 3): 1.0},\n",
       " ((5, 3), (0, -1)): {(5, 2): 1.0},\n",
       " ((5, 3), (0, 1)): {(5, 4): 1.0},\n",
       " ((5, 3), (-1, 1)): {(4, 4): 1.0},\n",
       " ((5, 3), (1, 1)): {(5, 3): 1.0},\n",
       " ((5, 3), (1, -1)): {(5, 3): 1.0},\n",
       " ((5, 3), (-1, -1)): {(4, 2): 1.0},\n",
       " ((5, 4), (-1, 0)): {(4, 4): 1.0},\n",
       " ((5, 4), (1, 0)): {(5, 4): 1.0},\n",
       " ((5, 4), (0, -1)): {(5, 3): 1.0},\n",
       " ((5, 4), (0, 1)): {(5, 5): 1.0},\n",
       " ((5, 4), (-1, 1)): {(4, 5): 1.0},\n",
       " ((5, 4), (1, 1)): {(5, 4): 1.0},\n",
       " ((5, 4), (1, -1)): {(5, 4): 1.0},\n",
       " ((5, 4), (-1, -1)): {(4, 3): 1.0},\n",
       " ((5, 5), (-1, 0)): {(4, 5): 1.0},\n",
       " ((5, 5), (1, 0)): {(5, 5): 1.0},\n",
       " ((5, 5), (0, -1)): {(5, 4): 1.0},\n",
       " ((5, 5), (0, 1)): {(5, 5): 1.0},\n",
       " ((5, 5), (-1, 1)): {(5, 5): 1.0},\n",
       " ((5, 5), (1, 1)): {(5, 5): 1.0},\n",
       " ((5, 5), (1, -1)): {(5, 5): 1.0},\n",
       " ((5, 5), (-1, -1)): {(4, 4): 1.0}}"
      ]
     },
     "execution_count": 5,
     "metadata": {},
     "output_type": "execute_result"
    }
   ],
   "source": [
    "E.Ptransition"
   ]
  },
  {
   "cell_type": "code",
   "execution_count": 6,
   "metadata": {},
   "outputs": [],
   "source": [
    "#E.Ptransition[(1,1)]"
   ]
  },
  {
   "cell_type": "markdown",
   "metadata": {},
   "source": [
    "## Agent test area"
   ]
  },
  {
   "cell_type": "code",
   "execution_count": 7,
   "metadata": {},
   "outputs": [],
   "source": [
    "A = Agent(environment=E, initial_pos=agent_initial_position, policy=random_policy)"
   ]
  },
  {
   "cell_type": "code",
   "execution_count": 8,
   "metadata": {},
   "outputs": [
    {
     "data": {
      "text/plain": [
       "(<Figure size 144x144 with 1 Axes>,\n",
       " <matplotlib.axes._subplots.AxesSubplot at 0x1a1aeb96a0>)"
      ]
     },
     "execution_count": 8,
     "metadata": {},
     "output_type": "execute_result"
    },
    {
     "data": {
      "image/png": "[encoded data removed]",
      "text/plain": [
       "<Figure size 144x144 with 1 Axes>"
      ]
     },
     "metadata": {},
     "output_type": "display_data"
    }
   ],
   "source": [
    "E.plot()"
   ]
  },
  {
   "cell_type": "code",
   "execution_count": 9,
   "metadata": {},
   "outputs": [
    {
     "data": {
      "text/plain": [
       "(1, 1)"
      ]
     },
     "execution_count": 9,
     "metadata": {},
     "output_type": "execute_result"
    }
   ],
   "source": [
    "E.agent_position"
   ]
  },
  {
   "cell_type": "code",
   "execution_count": 10,
   "metadata": {},
   "outputs": [
    {
     "data": {
      "text/plain": [
       "(0, 1)"
      ]
     },
     "execution_count": 10,
     "metadata": {},
     "output_type": "execute_result"
    }
   ],
   "source": [
    "UP"
   ]
  },
  {
   "cell_type": "code",
   "execution_count": 11,
   "metadata": {
    "collapsed": true
   },
   "outputs": [],
   "source": [
    "sa = ((1,1), (0,1))"
   ]
  },
  {
   "cell_type": "code",
   "execution_count": 12,
   "metadata": {},
   "outputs": [
    {
     "data": {
      "text/plain": [
       "[(1, 1)]"
      ]
     },
     "execution_count": 12,
     "metadata": {},
     "output_type": "execute_result"
    }
   ],
   "source": [
    "list(E.Ptransition[sa].keys())"
   ]
  },
  {
   "cell_type": "code",
   "execution_count": 13,
   "metadata": {},
   "outputs": [],
   "source": [
    "#np.random.choice(a=[(2,3), (1,2)], p=(0.1, 0.9))"
   ]
  },
  {
   "cell_type": "code",
   "execution_count": 14,
   "metadata": {},
   "outputs": [
    {
     "data": {
      "text/plain": [
       "dict_values([1.0])"
      ]
     },
     "execution_count": 14,
     "metadata": {},
     "output_type": "execute_result"
    }
   ],
   "source": [
    "E.Ptransition[sa].values()"
   ]
  },
  {
   "cell_type": "code",
   "execution_count": 15,
   "metadata": {},
   "outputs": [
    {
     "data": {
      "text/plain": [
       "(<Figure size 144x144 with 1 Axes>,\n",
       " <matplotlib.axes._subplots.AxesSubplot at 0x7f0468b8b320>)"
      ]
     },
     "execution_count": 15,
     "metadata": {},
     "output_type": "execute_result"
    },
    {
     "data": {
      "image/png": "[encoded data removed]",
      "text/plain": [
       "<Figure size 144x144 with 1 Axes>"
      ]
     },
     "metadata": {},
     "output_type": "display_data"
    }
   ],
   "source": [
    "A.action(RIGHT)\n",
    "E.plot()"
   ]
  },
  {
   "cell_type": "code",
   "execution_count": 16,
   "metadata": {},
   "outputs": [
    {
     "data": {
      "text/plain": [
       "[((1, 0), -1, (2, 1))]"
      ]
     },
     "execution_count": 16,
     "metadata": {},
     "output_type": "execute_result"
    }
   ],
   "source": [
    "A.experience"
   ]
  },
  {
   "cell_type": "code",
   "execution_count": 17,
   "metadata": {},
   "outputs": [
    {
     "data": {
      "text/plain": [
       "(2, 1)"
      ]
     },
     "execution_count": 17,
     "metadata": {},
     "output_type": "execute_result"
    }
   ],
   "source": [
    "A.get_current_state()"
   ]
  },
  {
   "cell_type": "code",
   "execution_count": 20,
   "metadata": {},
   "outputs": [
    {
     "name": "stdout",
     "output_type": "stream",
     "text": [
      "Action: (1, 0)\n",
      "Action: (1, 1)\n",
      "Action: (0, 1)\n"
     ]
    }
   ],
   "source": [
    "A.follow_policy(nsteps=3)"
   ]
  },
  {
   "cell_type": "code",
   "execution_count": 22,
   "metadata": {},
   "outputs": [
    {
     "data": {
      "text/plain": [
       "[((1, 0), -1, (2, 1)),\n",
       " ((1, 0), -1, (3, 1)),\n",
       " ((1, 1), -1, (4, 2)),\n",
       " ((0, 1), -1, (4, 3))]"
      ]
     },
     "execution_count": 22,
     "metadata": {},
     "output_type": "execute_result"
    }
   ],
   "source": [
    "A.experience"
   ]
  },
  {
   "cell_type": "code",
   "execution_count": 21,
   "metadata": {},
   "outputs": [
    {
     "data": {
      "text/plain": [
       "(<Figure size 144x144 with 1 Axes>,\n",
       " <matplotlib.axes._subplots.AxesSubplot at 0x7f0468ad0080>)"
      ]
     },
     "execution_count": 21,
     "metadata": {},
     "output_type": "execute_result"
    },
    {
     "data": {
      "image/png": "[encoded data removed]",
      "text/plain": [
       "<Figure size 144x144 with 1 Axes>"
      ]
     },
     "metadata": {},
     "output_type": "display_data"
    }
   ],
   "source": [
    "E.plot()"
   ]
  },
  {
   "cell_type": "code",
   "execution_count": null,
   "metadata": {},
   "outputs": [],
   "source": [
    "A.act([1], doPlot=True)"
   ]
  },
  {
   "cell_type": "code",
   "execution_count": null,
   "metadata": {},
   "outputs": [],
   "source": [
    "A.get_current_state()"
   ]
  },
  {
   "cell_type": "code",
   "execution_count": null,
   "metadata": {},
   "outputs": [],
   "source": [
    "A.gain"
   ]
  },
  {
   "cell_type": "code",
   "execution_count": null,
   "metadata": {},
   "outputs": [],
   "source": [
    "E.plot()"
   ]
  },
  {
   "cell_type": "code",
   "execution_count": null,
   "metadata": {},
   "outputs": [],
   "source": [
    "E.agent_state"
   ]
  }
 ],
 "metadata": {
  "kernelspec": {
   "display_name": "Python 3",
   "language": "python",
   "name": "python3"
  },
  "language_info": {
   "codemirror_mode": {
    "name": "ipython",
    "version": 3
   },
   "file_extension": ".py",
   "mimetype": "text/x-python",
   "name": "python",
   "nbconvert_exporter": "python",
   "pygments_lexer": "ipython3",
   "version": "3.6.6"
  }
 },
 "nbformat": 4,
 "nbformat_minor": 2
}
