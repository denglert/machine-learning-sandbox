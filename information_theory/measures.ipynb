{
 "cells": [
  {
   "cell_type": "markdown",
   "metadata": {},
   "source": [
    "# Information theory measures"
   ]
  },
  {
   "cell_type": "markdown",
   "metadata": {},
   "source": [
    "**Entropy:**\n",
    "\n",
    "\\begin{equation}\n",
    "    S(p)\n",
    "    =\n",
    "    - \\sum_{i}\n",
    "    p_{i} \\log p_{i}\n",
    "\\end{equation}\n",
    "\n",
    "**Cross-entropy:**\n",
    "\n",
    "\\begin{equation}\n",
    "    H(p,q)\n",
    "    =\n",
    "    - \\sum_{i}\n",
    "    p_{i} \\log q_{i}\n",
    "\\end{equation}\n",
    "\n",
    "**Kullback-Liebler divergence:**\n",
    "\n",
    "\\begin{equation}\n",
    "    D_{KL}(p|q)\n",
    "    =\n",
    "    - \\sum_{i}\n",
    "    p_{i} \\log \\frac{q_{i}}{p_{i}}\n",
    "\\end{equation}\n",
    "\n",
    "\n",
    "-----\n",
    "\n",
    "Relation between entropy, cross-entropy and the Kullback-Liebler divergence:\n",
    "\n",
    "\\begin{equation}\n",
    "    H(p,q) = S(p) + D_{KL}(p|q)\n",
    "\\end{equation}"
   ]
  },
  {
   "cell_type": "code",
   "execution_count": 1,
   "metadata": {
    "collapsed": true
   },
   "outputs": [],
   "source": [
    "import numpy as np\n",
    "from information_theory.measures import *"
   ]
  },
  {
   "cell_type": "code",
   "execution_count": 2,
   "metadata": {
    "collapsed": true
   },
   "outputs": [],
   "source": [
    "def normalize(w):\n",
    "    return w/sum(w)"
   ]
  },
  {
   "cell_type": "code",
   "execution_count": 3,
   "metadata": {},
   "outputs": [],
   "source": [
    "w1 = np.array([1.4, 5.4, 7.8, 1.2, 5.5])\n",
    "w2 = np.array([0.1, 9.0, 1.1, 1.1, 3.3])\n",
    "p = normalize(w1)\n",
    "q = normalize(w2)"
   ]
  },
  {
   "cell_type": "code",
   "execution_count": 4,
   "metadata": {},
   "outputs": [
    {
     "data": {
      "text/plain": [
       "(1.4063746323943336, 1.058118156915995)"
      ]
     },
     "execution_count": 4,
     "metadata": {},
     "output_type": "execute_result"
    }
   ],
   "source": [
    "entropy(p), entropy(q)"
   ]
  },
  {
   "cell_type": "code",
   "execution_count": 5,
   "metadata": {},
   "outputs": [
    {
     "data": {
      "text/plain": [
       "(1.9267605530212746, 1.4630223925976105)"
      ]
     },
     "execution_count": 5,
     "metadata": {},
     "output_type": "execute_result"
    }
   ],
   "source": [
    "cross_entropy(p,q), cross_entropy(q,p)"
   ]
  },
  {
   "cell_type": "code",
   "execution_count": 6,
   "metadata": {},
   "outputs": [
    {
     "data": {
      "text/plain": [
       "(0.52038592062694122, 0.40490423568161532)"
      ]
     },
     "execution_count": 6,
     "metadata": {},
     "output_type": "execute_result"
    }
   ],
   "source": [
    "kl_divergence(p,q), kl_divergence(q,p)"
   ]
  },
  {
   "cell_type": "code",
   "execution_count": 7,
   "metadata": {},
   "outputs": [
    {
     "data": {
      "text/plain": [
       "1.9267605530212746"
      ]
     },
     "execution_count": 7,
     "metadata": {},
     "output_type": "execute_result"
    }
   ],
   "source": [
    "cross_entropy(p,q)"
   ]
  },
  {
   "cell_type": "code",
   "execution_count": 8,
   "metadata": {},
   "outputs": [
    {
     "data": {
      "text/plain": [
       "1.9267605530212748"
      ]
     },
     "execution_count": 8,
     "metadata": {},
     "output_type": "execute_result"
    }
   ],
   "source": [
    "entropy(p) + kl_divergence(p,q)"
   ]
  }
 ],
 "metadata": {
  "kernelspec": {
   "display_name": "Python 3",
   "language": "python",
   "name": "python3"
  },
  "language_info": {
   "codemirror_mode": {
    "name": "ipython",
    "version": 3
   },
   "file_extension": ".py",
   "mimetype": "text/x-python",
   "name": "python",
   "nbconvert_exporter": "python",
   "pygments_lexer": "ipython3",
   "version": "3.6.8"
  }
 },
 "nbformat": 4,
 "nbformat_minor": 2
}
