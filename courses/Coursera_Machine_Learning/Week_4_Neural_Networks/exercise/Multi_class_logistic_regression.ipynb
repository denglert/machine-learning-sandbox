{
 "cells": [
  {
   "cell_type": "markdown",
   "metadata": {},
   "source": [
    "# One-vs-all logistic regression model"
   ]
  },
  {
   "cell_type": "markdown",
   "metadata": {},
   "source": [
    "**Problem description:**\n",
    "\n",
    "Implement and train a one-vs-all multi-class classifier logistic regression model, trained to differentiate between between 20x20 images showing handwritten digits from 0 to 9."
   ]
  },
  {
   "cell_type": "markdown",
   "metadata": {},
   "source": [
    "**Note:**\n",
    "\n",
    "Ideally we would like a split of separate training, test and cross-validation samples. In contrast here we only deal with the training set, as the emphasis is on:\n",
    "- demonstrating logistic regression\n",
    "- one-vs-all multi-class classification procedure"
   ]
  },
  {
   "cell_type": "markdown",
   "metadata": {},
   "source": [
    "**Notation:**\n",
    "\n",
    "- $\\theta_{j}$: weights, $j=1,...,n$\n",
    "- $x^{(i)}_{j}$: the $j$-th feature of the $i$-th sample, $i=1,..,m$, $j=1,...,n$\n",
    "- $y^{(i)}$: $i$-th label, $i=1,..,m$\n",
    "\n",
    "\n",
    "**Vectorized form:**\n",
    "\n",
    "Design/data matrix/features:\n",
    "\n",
    "\\begin{equation}\n",
    "    X\n",
    "    =\n",
    "    \\begin{bmatrix}\n",
    "    -- (x^{(1)})^{T} -- \\\\\n",
    "    -- (x^{(2)})^{T} -- \\\\\n",
    "    ... \\\\\n",
    "    -- (x^{(m)})^{T} --\n",
    "    \\end{bmatrix}\n",
    "\\end{equation}\n",
    "\n",
    "Parameters/weights:\n",
    "\n",
    "\\begin{equation}\n",
    "    \\theta\n",
    "    =\n",
    "    \\begin{bmatrix}\n",
    "    \\theta_{1} \\\\\n",
    "    \\theta_{2} \\\\\n",
    "    ... \\\\\n",
    "    \\theta_{n}\n",
    "    \\end{bmatrix}\n",
    "\\end{equation}\n",
    "\n",
    "Labels:\n",
    "\n",
    "\\begin{equation}\n",
    "    y\n",
    "    =\n",
    "    \\begin{bmatrix}\n",
    "    y^{(1)} \\\\\n",
    "    y^{(2)} \\\\\n",
    "    ... \\\\\n",
    "    y^{(m)}\n",
    "    \\end{bmatrix}\n",
    "\\end{equation}\n",
    "\n",
    "**Dimensions:**\n",
    "- $m$: number of samples\n",
    "- $n$: number of weights"
   ]
  },
  {
   "cell_type": "markdown",
   "metadata": {},
   "source": [
    "### Model:\n",
    "\n",
    "Logistics function:\n",
    "\n",
    "\\begin{equation}\n",
    "    h_{\\theta}(x^{(i)})\n",
    "    =\n",
    "    \\sigma(\\theta^{T} x^{(i)})\n",
    "    =\n",
    "    \\frac{1}{1 + e^{- \\theta^{T} x^{(i)} }}\n",
    "\\end{equation}\n",
    "\n",
    "where $\\sigma(z)$ is the sigmoid function:\n",
    "\n",
    "\\begin{equation}\n",
    "    \\sigma(z)\n",
    "    =\n",
    "    \\frac{1}{1 + e^{-z}}\n",
    "\\end{equation}\n",
    "\n",
    "We wish to achive:\n",
    "\n",
    "\\begin{equation}\n",
    "h_{\\theta}(x^{(i)}) \\simeq y^{(i)}\n",
    "\\end{equation}"
   ]
  },
  {
   "cell_type": "markdown",
   "metadata": {},
   "source": [
    "### Cost function\n",
    "\n",
    "\\begin{equation}\n",
    "    J(\\theta)\n",
    "    =\n",
    "    \\frac{1}{m}\n",
    "    \\sum_{i=1}^{m}\n",
    "    \\left[\n",
    "        -y^{(i)} \\log( h_{\\theta}(x^{(i)}) - (1-y^{(i)}) \\log(1-h_{\\theta}(x^{(i)})\n",
    "    \\right]\n",
    "    +\n",
    "    \\frac{\\lambda}{2m}\n",
    "    \\sum_{j=1}^{n}\n",
    "    \\theta^{2}_{j}\n",
    "\\end{equation}"
   ]
  },
  {
   "cell_type": "markdown",
   "metadata": {},
   "source": [
    "### Gradient\n",
    "\n",
    "The $j=0$ component:\n",
    "\n",
    "\\begin{equation}\n",
    "    \\frac{\\partial J}{\\partial \\theta_{j}}\n",
    "    =\n",
    "    \\frac{1}{m}\n",
    "    \\sum_{i=1}^{m}\n",
    "    \\left[\n",
    "        (\n",
    "        h_{\\theta} (x^{(i)})\n",
    "        -\n",
    "        y^{(i)}\n",
    "        )\n",
    "        x^{(i)}_{j}\n",
    "    \\right]\n",
    "\\end{equation}\n",
    "\n",
    "$j \\neq 0$ components:\n",
    "\n",
    "\\begin{equation}\n",
    "    \\frac{\\partial J}{\\partial \\theta_{j}}\n",
    "    =\n",
    "    \\frac{1}{m}\n",
    "    \\sum_{i=1}^{m}\n",
    "    \\left[\n",
    "        (\n",
    "        h_{\\theta} (x^{(i)})\n",
    "        -\n",
    "        y^{(i)}\n",
    "        )\n",
    "        x^{(i)}_{j}\n",
    "    \\right]\n",
    "    +\n",
    "    \\frac{\\lambda}{m} \\theta_{j}\n",
    "\\end{equation}\n",
    "\n",
    "Vectorized form:\n",
    "\n",
    "\\begin{equation}\n",
    "    \\underline{\\theta}'\n",
    "    =\n",
    "    \\begin{bmatrix}\n",
    "        0 \\\\\n",
    "        \\theta_{1} \\\\\n",
    "        \\theta_{2} \\\\\n",
    "        ... \\\\\n",
    "        \\theta_{n}\n",
    "    \\end{bmatrix}\n",
    "\\end{equation}\n",
    "\n",
    "\\begin{equation}\n",
    "    \\nabla_{\\theta} J\n",
    "    =\n",
    "    \\frac{1}{m}\n",
    "    \\underline{\\underline{X}}^{T}\n",
    "    (\n",
    "        \\underline{h_{\\theta}}(x)\n",
    "        -\n",
    "        \\underline{y}\n",
    "    )\n",
    "    +\n",
    "    \\frac{\\lambda}{m}\n",
    "    \\underline{\\theta'}\n",
    "\\end{equation}"
   ]
  },
  {
   "cell_type": "code",
   "execution_count": 1,
   "metadata": {},
   "outputs": [
    {
     "name": "stdout",
     "output_type": "stream",
     "text": [
      "The autoreload extension is already loaded. To reload it, use:\n",
      "  %reload_ext autoreload\n"
     ]
    }
   ],
   "source": [
    "import os\n",
    "setup_script = os.path.join(os.environ['ENV_JUPYTER_SETUPS_DIR'], 'setup_sci_env_basic.py')\n",
    "%run $setup_script"
   ]
  },
  {
   "cell_type": "code",
   "execution_count": 2,
   "metadata": {
    "collapsed": true
   },
   "outputs": [],
   "source": [
    "import scipy.io\n",
    "from scipy import optimize\n",
    "import matplotlib.colors as mcolors"
   ]
  },
  {
   "cell_type": "code",
   "execution_count": 3,
   "metadata": {},
   "outputs": [
    {
     "name": "stdout",
     "output_type": "stream",
     "text": [
      "1.13.1\n",
      "0.19.1\n"
     ]
    }
   ],
   "source": [
    "print(np.__version__)\n",
    "print(scipy.__version__)"
   ]
  },
  {
   "cell_type": "code",
   "execution_count": 4,
   "metadata": {
    "collapsed": true
   },
   "outputs": [],
   "source": [
    "load_mpl_style('single_plot.mplstyle')\n",
    "ignore_warnings()"
   ]
  },
  {
   "cell_type": "markdown",
   "metadata": {},
   "source": [
    "Load in .mat datafile containing the digits"
   ]
  },
  {
   "cell_type": "code",
   "execution_count": 5,
   "metadata": {
    "collapsed": true
   },
   "outputs": [],
   "source": [
    "data = scipy.io.loadmat('ex3data1.mat')"
   ]
  },
  {
   "cell_type": "code",
   "execution_count": 6,
   "metadata": {
    "collapsed": true
   },
   "outputs": [],
   "source": [
    "features = data['X']\n",
    "labels = data['y'][:,0]\n",
    "X = np.insert(data['X'], 0, 1, axis=1)\n",
    "y = data['y'][:,0]"
   ]
  },
  {
   "cell_type": "markdown",
   "metadata": {},
   "source": [
    "Replace all 10s (denoting a 0 digit) with 0s in order to more seamlessly conform to the convention of indexing in python (0,...,K-1)"
   ]
  },
  {
   "cell_type": "code",
   "execution_count": 7,
   "metadata": {
    "collapsed": true
   },
   "outputs": [],
   "source": [
    "y[y==10] = 0"
   ]
  },
  {
   "cell_type": "markdown",
   "metadata": {},
   "source": [
    "### Examples"
   ]
  },
  {
   "cell_type": "code",
   "execution_count": 8,
   "metadata": {
    "collapsed": true
   },
   "outputs": [],
   "source": [
    "def show_digit(flat_pixels):\n",
    "    img = flat_pixels.reshape([20,20])\n",
    "    img_rot = np.rot90(img)\n",
    "    plt.imshow(img_rot, cmap='gray_r', origin='lower');"
   ]
  },
  {
   "cell_type": "code",
   "execution_count": 9,
   "metadata": {},
   "outputs": [
    {
     "name": "stdout",
     "output_type": "stream",
     "text": [
      "[2]\n"
     ]
    },
    {
     "data": {
      "image/png": "[encoded data removed]",
      "text/plain": [
       "<matplotlib.figure.Figure at 0x7faef40828d0>"
      ]
     },
     "metadata": {},
     "output_type": "display_data"
    }
   ],
   "source": [
    "pick = 1012\n",
    "show_digit(data['X'][pick]);\n",
    "print(data['y'][pick])"
   ]
  },
  {
   "cell_type": "markdown",
   "metadata": {},
   "source": [
    "Pick a couple of images at random"
   ]
  },
  {
   "cell_type": "code",
   "execution_count": 10,
   "metadata": {
    "collapsed": true
   },
   "outputs": [],
   "source": [
    "picks = np.random.choice(data['X'].shape[0], 10)"
   ]
  },
  {
   "cell_type": "code",
   "execution_count": 11,
   "metadata": {},
   "outputs": [
    {
     "data": {
      "image/png": "[encoded data removed]",
      "text/plain": [
       "<matplotlib.figure.Figure at 0x7faef3d458d0>"
      ]
     },
     "metadata": {},
     "output_type": "display_data"
    }
   ],
   "source": [
    "f,a = plt.subplots()\n",
    "a.imshow(data['X'][picks].reshape(-1,20).T, cmap='gray_r')\n",
    "a.axis('off');"
   ]
  },
  {
   "cell_type": "markdown",
   "metadata": {},
   "source": [
    "### Function definitions"
   ]
  },
  {
   "cell_type": "code",
   "execution_count": 12,
   "metadata": {
    "collapsed": true
   },
   "outputs": [],
   "source": [
    "def sigmoid(z):\n",
    "    s = 1.0 / ( 1.0 + np.exp(-z) )\n",
    "    return s"
   ]
  },
  {
   "cell_type": "markdown",
   "metadata": {},
   "source": [
    "Hypothesis:\n",
    "\n",
    "\\begin{equation}\n",
    "    h_{\\theta}(x^{(i)})\n",
    "    =\n",
    "    \\sigma(\\theta^{T} x^{(i)})\n",
    "    =\n",
    "    \\frac{1}{1 + e^{- \\theta^{T} x^{(i)} }}\n",
    "\\end{equation}"
   ]
  },
  {
   "cell_type": "code",
   "execution_count": 13,
   "metadata": {
    "collapsed": true
   },
   "outputs": [],
   "source": [
    "def hypothesis(theta,X):\n",
    "    z = X.dot(theta)\n",
    "    h = sigmoid(z)\n",
    "    return h"
   ]
  },
  {
   "cell_type": "markdown",
   "metadata": {},
   "source": [
    "Cost function:\n",
    "\n",
    "\\begin{equation}\n",
    "    J(\\theta)\n",
    "    =\n",
    "    \\frac{1}{m}\n",
    "    \\sum_{i=1}^{m}\n",
    "    \\left[\n",
    "        -y^{(i)} \\log( h_{\\theta}(x^{(i)}) - (1-y^{(i)}) \\log(1-h_{\\theta}(x^{(i)})\n",
    "    \\right]\n",
    "    +\n",
    "    \\frac{\\lambda}{2m}\n",
    "    \\sum_{j=1}^{n}\n",
    "    \\theta^{2}_{j}\n",
    "\\end{equation}"
   ]
  },
  {
   "cell_type": "code",
   "execution_count": 14,
   "metadata": {
    "collapsed": true
   },
   "outputs": [],
   "source": [
    "def cost_function(theta, X, y, lam=0):\n",
    "    \"\"\" theta: nx1\n",
    "        X: mxn\n",
    "        theta: nx1\n",
    "        lam: 1\n",
    "    \"\"\"\n",
    "    m = len(X)\n",
    "    h = hypothesis(theta, X)\n",
    "    cost_vector = -y * np.log(h) - (1.0-y)*np.log(1.0 - h)\n",
    "    regularization_term = np.sum(theta**2) * lam/(2.0*m)\n",
    "    cost = np.sum(cost_vector)/m + regularization_term\n",
    "    return cost"
   ]
  },
  {
   "cell_type": "markdown",
   "metadata": {},
   "source": [
    "The $j=0$ component:\n",
    "\n",
    "\\begin{equation}\n",
    "    \\frac{\\partial J}{\\partial \\theta_{j}}\n",
    "    =\n",
    "    \\frac{1}{m}\n",
    "    \\sum_{i=1}^{m}\n",
    "    \\left[\n",
    "        (\n",
    "        h_{\\theta} (x^{(i)})\n",
    "        -\n",
    "        y^{(i)}\n",
    "        )\n",
    "        x^{(i)}_{j}\n",
    "    \\right]\n",
    "\\end{equation}\n",
    "\n",
    "$j \\neq 0$ components:\n",
    "\n",
    "\\begin{equation}\n",
    "    \\frac{\\partial J}{\\partial \\theta_{j}}\n",
    "    =\n",
    "    \\frac{1}{m}\n",
    "    \\sum_{i=1}^{m}\n",
    "    \\left[\n",
    "        (\n",
    "        h_{\\theta} (x^{(i)})\n",
    "        -\n",
    "        y^{(i)}\n",
    "        )\n",
    "        x^{(i)}_{j}\n",
    "    \\right]\n",
    "    +\n",
    "    \\frac{\\lambda}{m} \\theta_{j}\n",
    "\\end{equation}"
   ]
  },
  {
   "cell_type": "code",
   "execution_count": 15,
   "metadata": {
    "collapsed": true
   },
   "outputs": [],
   "source": [
    "def gradient(theta, X, y, lam=0):\n",
    "    \"\"\"- X: mxn\n",
    "       - y: mx1\n",
    "       - theta: nx1\n",
    "       - lam: 1\"\"\"\n",
    "    m = len(X)\n",
    "    h = hypothesis(theta,X)\n",
    "    thetap = theta\n",
    "    thetap[0] = 0\n",
    "    gradient = (X.transpose().dot(h-y) + lam*thetap)/m\n",
    "    return gradient"
   ]
  },
  {
   "cell_type": "code",
   "execution_count": 16,
   "metadata": {
    "collapsed": true
   },
   "outputs": [],
   "source": [
    "def accuracy(yreal, ypred):\n",
    "    return np.mean(yreal==ypred)"
   ]
  },
  {
   "cell_type": "markdown",
   "metadata": {},
   "source": [
    "## Single class logistic regression"
   ]
  },
  {
   "cell_type": "markdown",
   "metadata": {},
   "source": [
    "Train on a single, specific digit"
   ]
  },
  {
   "cell_type": "code",
   "execution_count": 17,
   "metadata": {
    "collapsed": true
   },
   "outputs": [],
   "source": [
    "digit = 2"
   ]
  },
  {
   "cell_type": "markdown",
   "metadata": {},
   "source": [
    "Create target vector"
   ]
  },
  {
   "cell_type": "code",
   "execution_count": 18,
   "metadata": {
    "collapsed": true
   },
   "outputs": [],
   "source": [
    "y_single = (y == digit).astype(int)"
   ]
  },
  {
   "cell_type": "code",
   "execution_count": 19,
   "metadata": {
    "collapsed": true
   },
   "outputs": [],
   "source": [
    "index = np.where(y == 1)[0][100]"
   ]
  },
  {
   "cell_type": "code",
   "execution_count": 20,
   "metadata": {},
   "outputs": [
    {
     "data": {
      "text/plain": [
       "600"
      ]
     },
     "execution_count": 20,
     "metadata": {},
     "output_type": "execute_result"
    }
   ],
   "source": [
    "index"
   ]
  },
  {
   "cell_type": "code",
   "execution_count": 21,
   "metadata": {},
   "outputs": [
    {
     "data": {
      "image/png": "[encoded data removed]",
      "text/plain": [
       "<matplotlib.figure.Figure at 0x7faef3cc2b70>"
      ]
     },
     "metadata": {},
     "output_type": "display_data"
    }
   ],
   "source": [
    "show_digit(data['X'][index]);"
   ]
  },
  {
   "cell_type": "code",
   "execution_count": 22,
   "metadata": {
    "collapsed": true
   },
   "outputs": [],
   "source": [
    "theta0 = np.random.uniform(high=0.1, size=401)"
   ]
  },
  {
   "cell_type": "code",
   "execution_count": 23,
   "metadata": {},
   "outputs": [
    {
     "data": {
      "text/plain": [
       "2.3952114474681525"
      ]
     },
     "execution_count": 23,
     "metadata": {},
     "output_type": "execute_result"
    }
   ],
   "source": [
    "cost_function(theta0, X, y_single)"
   ]
  },
  {
   "cell_type": "code",
   "execution_count": 24,
   "metadata": {},
   "outputs": [
    {
     "data": {
      "text/plain": [
       "array([  8.11618856e-01,   0.00000000e+00,   0.00000000e+00,\n",
       "         1.26832590e-07,  -1.64892014e-06,  -2.54676714e-06,\n",
       "         1.15899552e-04,   1.35449214e-04,   6.83752000e-05,\n",
       "         1.50231882e-05,   4.02268286e-05,   1.32388275e-05,\n",
       "        -1.00882798e-05,  -2.20392291e-05,  -3.75681462e-05,\n",
       "        -5.28689111e-05,  -3.94926205e-05,  -1.35488571e-05,\n",
       "        -8.37310269e-08,   1.40360947e-07,   0.00000000e+00,\n",
       "         4.76918882e-08,  -3.90621269e-07,  -1.56359898e-06,\n",
       "        -4.60654864e-06,  -2.71354877e-05,   1.14264909e-04,\n",
       "         5.49040758e-04,   8.16321116e-04,   6.44747284e-04,\n",
       "         2.31454140e-04,  -9.34044575e-05,  -1.62110594e-04,\n",
       "        -1.00047841e-04,  -4.77553648e-05,   8.25649399e-05,\n",
       "         8.91474237e-05,   6.79040932e-07,  -4.54821554e-05,\n",
       "        -7.67483473e-06,  -1.56357603e-06,  -4.09183804e-07,\n",
       "         3.66273642e-06,  -1.55174598e-05,   1.76817857e-04,\n",
       "         8.57049295e-04,   2.35074267e-03,   4.09146862e-03,\n",
       "         4.91963897e-03,   3.68316341e-03,   1.68883427e-03,\n",
       "         9.88920690e-04,   7.79798219e-04,   1.67289414e-03,\n",
       "         4.30003641e-03,   5.80793389e-03,   3.89712877e-03,\n",
       "         1.49861162e-03,   4.35293221e-04,  -1.59889351e-05,\n",
       "         4.89569229e-06,  -1.73175951e-06,   4.54324934e-06,\n",
       "         5.70952796e-05,   1.20285997e-03,   4.11418919e-03,\n",
       "         1.07098891e-02,   1.69117977e-02,   1.96409802e-02,\n",
       "         1.94216683e-02,   1.99052528e-02,   2.41375098e-02,\n",
       "         2.85622954e-02,   3.34093590e-02,   3.88706504e-02,\n",
       "         4.00710137e-02,   2.88341354e-02,   1.29465435e-02,\n",
       "         3.57895540e-03,   6.46080101e-04,   1.32136152e-04,\n",
       "        -2.12684946e-06,  -2.07826393e-05,   2.04341132e-04,\n",
       "         3.22718690e-03,   1.25178001e-02,   2.79351273e-02,\n",
       "         4.48978722e-02,   5.59382785e-02,   6.49861079e-02,\n",
       "         7.93043480e-02,   9.41461090e-02,   9.80111391e-02,\n",
       "         9.38714494e-02,   1.00727795e-01,   1.09497475e-01,\n",
       "         9.10006754e-02,   4.80474047e-02,   1.40199843e-02,\n",
       "         3.84514684e-03,   8.47074483e-04,   3.11444331e-05,\n",
       "         7.46126216e-05,   3.64523636e-04,   8.77618227e-03,\n",
       "         3.22620504e-02,   6.96668935e-02,   1.10027443e-01,\n",
       "         1.39104064e-01,   1.66150257e-01,   1.94158779e-01,\n",
       "         2.00963030e-01,   1.81225302e-01,   1.58187141e-01,\n",
       "         1.58075534e-01,   1.81328321e-01,   1.82570358e-01,\n",
       "         1.22995702e-01,   4.50849469e-02,   1.33467175e-02,\n",
       "         2.35323421e-03,   6.59227649e-05,   4.23848259e-04,\n",
       "         1.43477080e-03,   1.87010090e-02,   6.76405831e-02,\n",
       "         1.42617177e-01,   2.08098506e-01,   2.55488616e-01,\n",
       "         2.87498017e-01,   3.05352613e-01,   2.89618512e-01,\n",
       "         2.45481976e-01,   2.00195310e-01,   1.88262072e-01,\n",
       "         2.23649345e-01,   2.62713588e-01,   2.21351054e-01,\n",
       "         9.45798699e-02,   2.50098827e-02,   3.57259667e-03,\n",
       "         1.05401045e-05,   7.50028204e-04,   4.24199334e-03,\n",
       "         4.20385521e-02,   1.29976308e-01,   2.40171726e-01,\n",
       "         3.21350914e-01,   3.57406706e-01,   3.56480115e-01,\n",
       "         3.45256970e-01,   3.17072407e-01,   2.72804492e-01,\n",
       "         2.22734443e-01,   2.10337924e-01,   2.56181815e-01,\n",
       "         3.32489760e-01,   3.17876493e-01,   1.47033068e-01,\n",
       "         3.36037844e-02,   4.60778358e-03,   2.23162818e-06,\n",
       "         6.31288600e-04,   8.89939296e-03,   7.83788063e-02,\n",
       "         2.06171280e-01,   3.33260044e-01,   3.92007645e-01,\n",
       "         3.63718685e-01,   3.21430877e-01,   3.13774767e-01,\n",
       "         3.18500508e-01,   2.98829253e-01,   2.43122877e-01,\n",
       "         2.24100091e-01,   2.89729689e-01,   3.88757435e-01,\n",
       "         3.74109688e-01,   1.73050640e-01,   3.36779921e-02,\n",
       "         5.09947881e-03,  -8.78075405e-05,   1.11171967e-03,\n",
       "         1.68560314e-02,   1.23173781e-01,   2.86333373e-01,\n",
       "         4.04246461e-01,   3.94042324e-01,   3.02798254e-01,\n",
       "         2.64386056e-01,   3.05753706e-01,   3.65969113e-01,\n",
       "         3.50658235e-01,   2.79567381e-01,   2.65808364e-01,\n",
       "         3.43744664e-01,   4.28094536e-01,   3.80964045e-01,\n",
       "         1.72158479e-01,   3.28933679e-02,   5.42374323e-03,\n",
       "        -3.16248397e-04,   3.06020968e-03,   3.03125061e-02,\n",
       "         1.70701271e-01,   3.56865812e-01,   4.34029875e-01,\n",
       "         3.57621728e-01,   2.56909211e-01,   2.58474076e-01,\n",
       "         3.47203894e-01,   4.22100969e-01,   3.97588407e-01,\n",
       "         3.34675111e-01,   3.27969623e-01,   3.90609455e-01,\n",
       "         4.27328265e-01,   3.35987345e-01,   1.44587922e-01,\n",
       "         3.06493333e-02,   4.93175138e-03,  -5.42903024e-04,\n",
       "         5.72013644e-03,   4.20169731e-02,   1.92814438e-01,\n",
       "         3.73861264e-01,   4.28937508e-01,   3.46432773e-01,\n",
       "         2.73544265e-01,   2.98895520e-01,   3.93079598e-01,\n",
       "         4.45268769e-01,   4.07520656e-01,   3.55323942e-01,\n",
       "         3.52402485e-01,   3.89001016e-01,   3.70429091e-01,\n",
       "         2.53359248e-01,   1.02319906e-01,   2.42511619e-02,\n",
       "         3.64670402e-03,  -6.80435493e-04,   7.03748435e-03,\n",
       "         4.34275917e-02,   1.81609524e-01,   3.41047949e-01,\n",
       "         4.07942826e-01,   3.64159040e-01,   3.19308117e-01,\n",
       "         3.39491652e-01,   3.92751188e-01,   4.10311200e-01,\n",
       "         3.79873908e-01,   3.42329321e-01,   3.39274944e-01,\n",
       "         3.36314559e-01,   2.68258107e-01,   1.58871655e-01,\n",
       "         6.06321785e-02,   1.55355366e-02,   2.23008610e-03,\n",
       "        -5.27353848e-04,   5.10315660e-03,   3.14724075e-02,\n",
       "         1.40238837e-01,   2.75020112e-01,   3.55945196e-01,\n",
       "         3.55408222e-01,   3.24801127e-01,   3.16165759e-01,\n",
       "         3.13931755e-01,   3.06866031e-01,   2.98536677e-01,\n",
       "         2.87929235e-01,   2.75238891e-01,   2.36939234e-01,\n",
       "         1.61187583e-01,   8.50770022e-02,   3.16151721e-02,\n",
       "         7.60743395e-03,   8.11502695e-04,  -1.96924306e-04,\n",
       "         2.32135445e-03,   1.63833558e-02,   8.72636922e-02,\n",
       "         1.86019529e-01,   2.66047372e-01,   2.88442372e-01,\n",
       "         2.67278093e-01,   2.34754918e-01,   2.11836208e-01,\n",
       "         2.09575060e-01,   2.13911893e-01,   2.07136145e-01,\n",
       "         1.78565445e-01,   1.34409699e-01,   7.91780123e-02,\n",
       "         3.84821712e-02,   1.60483958e-02,   4.58654177e-03,\n",
       "         3.59237931e-04,  -2.58082196e-05,   5.37343524e-04,\n",
       "         5.66389634e-03,   4.17924117e-02,   1.01831222e-01,\n",
       "         1.57297387e-01,   1.77540453e-01,   1.58790557e-01,\n",
       "         1.32695241e-01,   1.25474068e-01,   1.30097987e-01,\n",
       "         1.28607540e-01,   1.13967973e-01,   8.75050937e-02,\n",
       "         5.66290310e-02,   2.81310870e-02,   1.35095177e-02,\n",
       "         6.76581436e-03,   2.37485275e-03,   3.35267346e-04,\n",
       "         2.43210177e-06,  -1.09211212e-04,   1.69166353e-03,\n",
       "         2.00201798e-02,   5.36325621e-02,   8.14712186e-02,\n",
       "         8.41709293e-02,   6.96973311e-02,   6.15877852e-02,\n",
       "         6.43306023e-02,   6.68290518e-02,   6.15173172e-02,\n",
       "         4.73195430e-02,   3.10639836e-02,   1.71773932e-02,\n",
       "         7.99341755e-03,   3.96702056e-03,   2.06902574e-03,\n",
       "         7.36878275e-04,   1.16293179e-04,  -5.62309104e-07,\n",
       "        -7.79848963e-05,   1.60079783e-04,   6.50159014e-03,\n",
       "         2.16157182e-02,   3.20154025e-02,   2.62451769e-02,\n",
       "         1.47852597e-02,   1.37497537e-02,   1.76038944e-02,\n",
       "         1.86029655e-02,   1.61934731e-02,   1.08051723e-02,\n",
       "         4.84957275e-03,   2.27341818e-03,   1.25426843e-03,\n",
       "         5.31207254e-04,   1.72482751e-04,   6.68629287e-05,\n",
       "        -8.39113744e-06,   2.51187752e-08,   7.34454018e-07,\n",
       "        -8.82043330e-05,   3.79930806e-04,   3.83861764e-03,\n",
       "         7.65685290e-03,   4.70081289e-03,   8.15541120e-04,\n",
       "        -7.84410903e-05,   1.07988946e-04,   4.44037371e-04,\n",
       "         1.85989259e-04,  -9.80993451e-05,  -2.93609117e-04,\n",
       "        -1.44612269e-04,   1.75734013e-04,   3.48233106e-05,\n",
       "        -3.58620038e-05,  -9.44414046e-06,  -7.97194494e-07,\n",
       "         0.00000000e+00,   2.28534337e-07,  -3.70930184e-06,\n",
       "        -7.61854230e-06,   2.77856714e-04,   4.29937020e-04,\n",
       "         8.02361361e-05,  -2.45772629e-05,   8.35858807e-05,\n",
       "        -4.70735992e-05,  -1.00208276e-04,  -3.05327495e-05,\n",
       "         3.37794030e-05,   1.09737899e-04,   3.66136814e-05,\n",
       "         6.10502046e-05,   6.21596848e-06,  -1.33907059e-06,\n",
       "         2.82237055e-08,   0.00000000e+00])"
      ]
     },
     "execution_count": 24,
     "metadata": {},
     "output_type": "execute_result"
    }
   ],
   "source": [
    "gradient(theta0,X,y_single,lam=0.0)"
   ]
  },
  {
   "cell_type": "code",
   "execution_count": 25,
   "metadata": {
    "collapsed": true
   },
   "outputs": [],
   "source": [
    "h = hypothesis(theta0, X)"
   ]
  },
  {
   "cell_type": "code",
   "execution_count": 26,
   "metadata": {},
   "outputs": [
    {
     "data": {
      "text/plain": [
       "array([ 0.96069346,  0.97695568,  0.97413808, ...,  0.84480908,\n",
       "        0.95454261,  0.95679486])"
      ]
     },
     "execution_count": 26,
     "metadata": {},
     "output_type": "execute_result"
    }
   ],
   "source": [
    "h"
   ]
  },
  {
   "cell_type": "markdown",
   "metadata": {},
   "source": [
    "### Optimization"
   ]
  },
  {
   "cell_type": "markdown",
   "metadata": {},
   "source": [
    "Minimize a function using a nonlinear conjugate gradient algorithm, implemented in `scipy.optimize.fmin_cg`\n",
    "\n",
    "Usage:\n",
    "~~~~\n",
    "scipy.optimize.fmin_cg(f, x0, fprime=None, args=(), gtol=1e-05, norm=inf, epsilon=1.4901161193847656e-08, maxiter=None, full_output=0, disp=1, retall=0, callback=None)\n",
    "~~~~"
   ]
  },
  {
   "cell_type": "markdown",
   "metadata": {},
   "source": [
    "Perform optimization with different choices for the regularization parameter $\\lambda$ in the range of $[0,1]$"
   ]
  },
  {
   "cell_type": "code",
   "execution_count": 27,
   "metadata": {
    "collapsed": true
   },
   "outputs": [],
   "source": [
    "lambdas = np.linspace(0.0, 3.0, 6)"
   ]
  },
  {
   "cell_type": "code",
   "execution_count": 28,
   "metadata": {},
   "outputs": [
    {
     "name": "stdout",
     "output_type": "stream",
     "text": [
      "Warning: Maximum number of iterations has been exceeded.\n",
      "         Current function value: 0.054105\n",
      "         Iterations: 50\n",
      "         Function evaluations: 141\n",
      "         Gradient evaluations: 141\n",
      "Warning: Maximum number of iterations has been exceeded.\n",
      "         Current function value: 0.065563\n",
      "         Iterations: 50\n",
      "         Function evaluations: 141\n",
      "         Gradient evaluations: 141\n",
      "Warning: Maximum number of iterations has been exceeded.\n",
      "         Current function value: 0.071552\n",
      "         Iterations: 50\n",
      "         Function evaluations: 147\n",
      "         Gradient evaluations: 147\n",
      "Warning: Maximum number of iterations has been exceeded.\n",
      "         Current function value: 0.076064\n",
      "         Iterations: 50\n",
      "         Function evaluations: 151\n",
      "         Gradient evaluations: 151\n",
      "Warning: Desired error not necessarily achieved due to precision loss.\n",
      "         Current function value: 0.079749\n",
      "         Iterations: 38\n",
      "         Function evaluations: 200\n",
      "         Gradient evaluations: 188\n",
      "Warning: Maximum number of iterations has been exceeded.\n",
      "         Current function value: 0.082690\n",
      "         Iterations: 50\n",
      "         Function evaluations: 339\n",
      "         Gradient evaluations: 339\n"
     ]
    }
   ],
   "source": [
    "theta_opts, theta_iters = {}, {}\n",
    "for lam in lambdas:\n",
    "    theta_opt, theta_iter = optimize.fmin_cg(f=cost_function, fprime=gradient, x0=theta0, args=(X, y_single, lam), maxiter=50, retall=True)\n",
    "    theta_opts[lam] = theta_opt\n",
    "    theta_iters[lam] = theta_iter"
   ]
  },
  {
   "cell_type": "markdown",
   "metadata": {},
   "source": [
    "### Evolution of cost function with the number of iterations"
   ]
  },
  {
   "cell_type": "code",
   "execution_count": 29,
   "metadata": {
    "collapsed": true
   },
   "outputs": [],
   "source": [
    "costs = {}\n",
    "for lam, theta_iter in theta_iters.items():\n",
    "    costs[lam] = [cost_function(theta, X, y_single, lam) for theta in theta_iter]"
   ]
  },
  {
   "cell_type": "code",
   "execution_count": 30,
   "metadata": {},
   "outputs": [
    {
     "data": {
      "text/plain": [
       "<matplotlib.legend.Legend at 0x7faef3bb0438>"
      ]
     },
     "execution_count": 30,
     "metadata": {},
     "output_type": "execute_result"
    },
    {
     "data": {
      "image/png": "[encoded data removed]",
      "text/plain": [
       "<matplotlib.figure.Figure at 0x7faef3c68128>"
      ]
     },
     "metadata": {},
     "output_type": "display_data"
    }
   ],
   "source": [
    "f,a = plt.subplots()\n",
    "for lam, cost in costs.items():\n",
    "    a.plot(cost, label=\"$\\lambda = {}$\".format(lam))\n",
    "a.set_yscale('log')\n",
    "a.set_xlabel('Iteration number')\n",
    "a.set_ylabel('Cost function')\n",
    "plt.legend()"
   ]
  },
  {
   "cell_type": "markdown",
   "metadata": {},
   "source": [
    "The $l^{2}$ norm of the parameter vector $\\theta$:"
   ]
  },
  {
   "cell_type": "code",
   "execution_count": 31,
   "metadata": {
    "collapsed": true
   },
   "outputs": [],
   "source": [
    "theta_l2 = [np.mean(theta_opt**2) for lam, theta_opt in theta_opts.items()]"
   ]
  },
  {
   "cell_type": "code",
   "execution_count": 32,
   "metadata": {},
   "outputs": [
    {
     "data": {
      "text/plain": [
       "<matplotlib.text.Text at 0x7faef3af3ac8>"
      ]
     },
     "execution_count": 32,
     "metadata": {},
     "output_type": "execute_result"
    },
    {
     "data": {
      "image/png": "[encoded data removed]",
      "text/plain": [
       "<matplotlib.figure.Figure at 0x7faef3ad44e0>"
      ]
     },
     "metadata": {},
     "output_type": "display_data"
    }
   ],
   "source": [
    "f,a = plt.subplots()\n",
    "a.bar(lambdas, theta_l2, align='center', edgecolor='k', width=0.25)\n",
    "a.set_xlabel('$\\lambda$')\n",
    "a.set_ylabel(r'$l^{2}$ norm of $\\theta$')"
   ]
  },
  {
   "cell_type": "markdown",
   "metadata": {},
   "source": [
    "### Accuracy"
   ]
  },
  {
   "cell_type": "code",
   "execution_count": 33,
   "metadata": {},
   "outputs": [
    {
     "data": {
      "text/plain": [
       "array([0, 0, 0, ..., 0, 0, 0])"
      ]
     },
     "execution_count": 33,
     "metadata": {},
     "output_type": "execute_result"
    }
   ],
   "source": [
    "y_single"
   ]
  },
  {
   "cell_type": "markdown",
   "metadata": {},
   "source": [
    "Get the predicted $y$ values:"
   ]
  },
  {
   "cell_type": "code",
   "execution_count": 34,
   "metadata": {},
   "outputs": [],
   "source": [
    "y_predicted = hypothesis(theta_opts[0],X)"
   ]
  },
  {
   "cell_type": "code",
   "execution_count": 35,
   "metadata": {},
   "outputs": [
    {
     "data": {
      "text/plain": [
       "array([  3.15257961e-04,   1.92614755e-05,   2.88185759e-04, ...,\n",
       "         2.19936303e-03,   2.29780849e-09,   1.11645826e-05])"
      ]
     },
     "execution_count": 35,
     "metadata": {},
     "output_type": "execute_result"
    }
   ],
   "source": [
    "y_predicted"
   ]
  },
  {
   "cell_type": "markdown",
   "metadata": {},
   "source": [
    "Accuracy on the training set (we'd also need the accuracy on the test set)"
   ]
  },
  {
   "cell_type": "code",
   "execution_count": 36,
   "metadata": {},
   "outputs": [
    {
     "data": {
      "text/plain": [
       "0.0"
      ]
     },
     "execution_count": 36,
     "metadata": {},
     "output_type": "execute_result"
    }
   ],
   "source": [
    "accuracy(y_single, y_predicted)"
   ]
  },
  {
   "cell_type": "markdown",
   "metadata": {},
   "source": [
    "## Multi class classification with the one-vs-all method"
   ]
  },
  {
   "cell_type": "markdown",
   "metadata": {},
   "source": [
    "**Notation**:\n",
    "\n",
    "- $[k]$ class index $[k]=1,...,K$"
   ]
  },
  {
   "cell_type": "markdown",
   "metadata": {},
   "source": [
    "The labels $y$ belong to one of the $K=10$ distinct classes (digits from 0 to 9) and the goal here is to train $K$ separate logistic regression units each specializing in a specific digit."
   ]
  },
  {
   "cell_type": "code",
   "execution_count": 37,
   "metadata": {
    "collapsed": true
   },
   "outputs": [],
   "source": [
    "K = 10"
   ]
  },
  {
   "cell_type": "markdown",
   "metadata": {},
   "source": []
  },
  {
   "cell_type": "code",
   "execution_count": 38,
   "metadata": {
    "collapsed": true
   },
   "outputs": [],
   "source": [
    "lambdas = [1.0]"
   ]
  },
  {
   "cell_type": "code",
   "execution_count": null,
   "metadata": {
    "collapsed": true
   },
   "outputs": [],
   "source": [
    "theta_opts, theta_iters, cost_iters = {}, {}, {}"
   ]
  },
  {
   "cell_type": "code",
   "execution_count": null,
   "metadata": {},
   "outputs": [
    {
     "name": "stdout",
     "output_type": "stream",
     "text": [
      "Warning: Desired error not necessarily achieved due to precision loss.\n",
      "         Current function value: 0.022685\n",
      "         Iterations: 23\n",
      "         Function evaluations: 123\n",
      "         Gradient evaluations: 111\n",
      "Warning: Maximum number of iterations has been exceeded.\n",
      "         Current function value: 0.027515\n",
      "         Iterations: 50\n",
      "         Function evaluations: 202\n",
      "         Gradient evaluations: 202\n",
      "Warning: Maximum number of iterations has been exceeded.\n",
      "         Current function value: 0.069697\n",
      "         Iterations: 50\n",
      "         Function evaluations: 142\n",
      "         Gradient evaluations: 142\n",
      "Warning: Maximum number of iterations has been exceeded.\n",
      "         Current function value: 0.074423\n",
      "         Iterations: 50\n",
      "         Function evaluations: 145\n",
      "         Gradient evaluations: 145\n",
      "Warning: Maximum number of iterations has been exceeded.\n",
      "         Current function value: 0.052525\n",
      "         Iterations: 50\n",
      "         Function evaluations: 154\n",
      "         Gradient evaluations: 154\n",
      "Warning: Maximum number of iterations has been exceeded.\n",
      "         Current function value: 0.077637\n",
      "         Iterations: 50\n",
      "         Function evaluations: 126\n",
      "         Gradient evaluations: 126\n",
      "Warning: Maximum number of iterations has been exceeded.\n",
      "         Current function value: 0.035835\n",
      "         Iterations: 50\n",
      "         Function evaluations: 162\n",
      "         Gradient evaluations: 162\n",
      "Warning: Maximum number of iterations has been exceeded.\n",
      "         Current function value: 0.047299\n",
      "         Iterations: 50\n",
      "         Function evaluations: 155\n",
      "         Gradient evaluations: 155\n",
      "Warning: Maximum number of iterations has been exceeded.\n",
      "         Current function value: 0.099993\n",
      "         Iterations: 50\n",
      "         Function evaluations: 160\n",
      "         Gradient evaluations: 160\n"
     ]
    }
   ],
   "source": [
    "for lam in lambdas:\n",
    "    \n",
    "    n = len(X[0])\n",
    "    theta_opts[lam] = np.zeros((n,K))\n",
    "    theta_iters[lam] = {}\n",
    "    cost_iters[lam] = {}\n",
    "    \n",
    "    for k in range(K):\n",
    "        digit = k\n",
    "        y_target = (y == digit).astype(int)\n",
    "        \n",
    "        theta0 = np.random.uniform(high=0.1, size=401)\n",
    "        theta_opt, theta_iter = optimize.fmin_cg(f=cost_function, fprime=gradient, x0=theta0, args=(X, y_target, lam), maxiter=50, retall=True)\n",
    "\n",
    "        theta_opts[lam][:,k] = theta_opt\n",
    "        theta_iters[lam][k] = theta_iter\n",
    "        cost_iters[lam][k] = [cost_function(theta, X, y_target, lam) for theta in theta_iter]"
   ]
  },
  {
   "cell_type": "markdown",
   "metadata": {},
   "source": [
    "#### Convergence"
   ]
  },
  {
   "cell_type": "code",
   "execution_count": null,
   "metadata": {
    "collapsed": true
   },
   "outputs": [],
   "source": [
    "lam = 1.0"
   ]
  },
  {
   "cell_type": "code",
   "execution_count": null,
   "metadata": {},
   "outputs": [],
   "source": [
    "f,a = plt.subplots()\n",
    "for k, cost_iter in cost_iters[lam].items():\n",
    "    a.plot(cost_iter, label=\"Class {}\".format(k))\n",
    "a.set_yscale('log')\n",
    "a.set_xlabel('Iteration number')\n",
    "a.set_ylabel('Cost function')\n",
    "plt.legend()"
   ]
  },
  {
   "cell_type": "markdown",
   "metadata": {},
   "source": [
    "#### Result: prediction for the training set"
   ]
  },
  {
   "cell_type": "code",
   "execution_count": null,
   "metadata": {
    "collapsed": true
   },
   "outputs": [],
   "source": [
    "def one_vs_all(theta_opts, X, y):\n",
    "    h = hypothesis(theta_opts, X)\n",
    "    kmax = np.argmax(h, axis=1)\n",
    "    y_pred = kmax\n",
    "    \n",
    "    return y_pred"
   ]
  },
  {
   "cell_type": "code",
   "execution_count": null,
   "metadata": {
    "collapsed": true
   },
   "outputs": [],
   "source": [
    "lam = 1.0"
   ]
  },
  {
   "cell_type": "code",
   "execution_count": null,
   "metadata": {},
   "outputs": [],
   "source": [
    "y_pred = one_vs_all(theta_opts[lam], X, y)"
   ]
  },
  {
   "cell_type": "markdown",
   "metadata": {},
   "source": [
    "#### Accuracy of prediction"
   ]
  },
  {
   "cell_type": "code",
   "execution_count": null,
   "metadata": {},
   "outputs": [],
   "source": [
    "accuracy(labels, y_pred)"
   ]
  },
  {
   "cell_type": "markdown",
   "metadata": {},
   "source": [
    "### Other statistics"
   ]
  },
  {
   "cell_type": "markdown",
   "metadata": {},
   "source": [
    "#### Confusion matrix"
   ]
  },
  {
   "cell_type": "code",
   "execution_count": null,
   "metadata": {
    "collapsed": true
   },
   "outputs": [],
   "source": [
    "def plot_confusion_matrix(matrix, cmap='viridis', vmax=0.05, label_format=\"{:.3f}\"):\n",
    "    nx, ny = matrix.shape\n",
    "    f,a = plt.subplots(figsize=(9,9), subplot_kw={'aspect':'equal'})\n",
    "    a.set_ylabel('Truth')\n",
    "    a.set_xlabel('Predicted')\n",
    "    im = a.imshow(matrix, cmap=cmap, vmax=vmax)\n",
    "\n",
    "    for x in range(nx):\n",
    "        for y in range(ny):\n",
    "            label = label_format.format(matrix[x][y])\n",
    "            a.annotate(label, xy=(y, x), \n",
    "                        horizontalalignment='center',\n",
    "                        verticalalignment='center')\n",
    "    cb = f.colorbar(im)\n",
    "    a.set_xticks(range(K));\n",
    "    a.set_yticks(range(K));"
   ]
  },
  {
   "cell_type": "code",
   "execution_count": null,
   "metadata": {
    "collapsed": true
   },
   "outputs": [],
   "source": [
    "def construct_confusion_matrix(truths, preds):\n",
    "    \n",
    "    K = len(np.unique(truths))\n",
    "    confusion = np.zeros((K,K))\n",
    "    for truth, pred in zip(truths, preds):\n",
    "        confusion[truth][pred] += 1\n",
    "    return confusion"
   ]
  },
  {
   "cell_type": "code",
   "execution_count": null,
   "metadata": {
    "collapsed": true
   },
   "outputs": [],
   "source": [
    "def normalize_confusion_matrix(confusion):\n",
    "    normalized = (confusion.T / np.sum(confusion, axis=1)).T\n",
    "    return normalized"
   ]
  },
  {
   "cell_type": "code",
   "execution_count": null,
   "metadata": {
    "collapsed": true
   },
   "outputs": [],
   "source": [
    "confusion = construct_confusion_matrix(labels,y_pred)"
   ]
  },
  {
   "cell_type": "code",
   "execution_count": null,
   "metadata": {},
   "outputs": [],
   "source": [
    "plot_confusion_matrix(confusion, vmax=50, label_format=\"{:.0f}\")"
   ]
  },
  {
   "cell_type": "markdown",
   "metadata": {},
   "source": [
    "**Normalized version**"
   ]
  },
  {
   "cell_type": "code",
   "execution_count": null,
   "metadata": {
    "collapsed": true
   },
   "outputs": [],
   "source": [
    "confusion_normalized = normalize_confusion_matrix(confusion)"
   ]
  },
  {
   "cell_type": "code",
   "execution_count": null,
   "metadata": {},
   "outputs": [],
   "source": [
    "plot_confusion_matrix(confusion_normalized)"
   ]
  },
  {
   "cell_type": "markdown",
   "metadata": {},
   "source": [
    "#### Most frequent missclassified digits"
   ]
  },
  {
   "cell_type": "code",
   "execution_count": null,
   "metadata": {
    "collapsed": true
   },
   "outputs": [],
   "source": [
    "most_frequent_digits = np.argsort(-confusion_normalized, axis=1)"
   ]
  },
  {
   "cell_type": "code",
   "execution_count": null,
   "metadata": {},
   "outputs": [],
   "source": [
    "f,a = plt.subplots()\n",
    "for i,row in enumerate(most_frequent_digits):\n",
    "    second_most_frequent_digit = row[1]\n",
    "    a.bar(i, confusion_normalized[i][second_most_frequent_digit]*100.0)\n",
    "    a.annotate(second_most_frequent_digit, xy=(i,2), horizontalalignment='center')\n",
    "a.set_xticks(range(10));\n",
    "a.set_xlabel('Truth')\n",
    "a.set_ylabel('Missclassification rate [%]');"
   ]
  },
  {
   "cell_type": "markdown",
   "metadata": {},
   "source": [
    "## Multi class classification with the one-vs-all method in `scikit-learn`"
   ]
  },
  {
   "cell_type": "markdown",
   "metadata": {},
   "source": [
    "http://scikit-learn.org/stable/modules/generated/sklearn.linear_model.LogisticRegression.html"
   ]
  },
  {
   "cell_type": "markdown",
   "metadata": {},
   "source": [
    "~~~~\n",
    " class sklearn.linear_model.LogisticRegression(penalty=’l2’, dual=False, tol=0.0001, C=1.0, fit_intercept=True, intercept_scaling=1, class_weight=None, random_state=None, solver=’liblinear’, max_iter=100, multi_class=’ovr’, verbose=0, warm_start=False, n_jobs=1)[source]\n",
    "~~~~"
   ]
  },
  {
   "cell_type": "code",
   "execution_count": null,
   "metadata": {
    "collapsed": true
   },
   "outputs": [],
   "source": [
    "from sklearn.linear_model import LogisticRegression"
   ]
  },
  {
   "cell_type": "markdown",
   "metadata": {},
   "source": [
    "**Notes about `LogisticRegression`:**\n",
    "- the class automatically infers the number of categories to be classified from the labels, so there is no need to specify the number of classes explicitly\n",
    "- the bias terms are handled internally, therefore it is possible to directly feed the features to it, without prepending the design matrix with the bias column as done above"
   ]
  },
  {
   "cell_type": "code",
   "execution_count": null,
   "metadata": {
    "collapsed": true
   },
   "outputs": [],
   "source": [
    "clf = LogisticRegression(C=10, penalty='l2', solver='liblinear')"
   ]
  },
  {
   "cell_type": "code",
   "execution_count": null,
   "metadata": {},
   "outputs": [],
   "source": [
    "clf.fit(data['X'],data['y'])"
   ]
  },
  {
   "cell_type": "code",
   "execution_count": null,
   "metadata": {
    "collapsed": true
   },
   "outputs": [],
   "source": [
    "y_pred = clf.predict(data['X'])"
   ]
  },
  {
   "cell_type": "code",
   "execution_count": null,
   "metadata": {},
   "outputs": [],
   "source": [
    "y_pred"
   ]
  },
  {
   "cell_type": "code",
   "execution_count": null,
   "metadata": {},
   "outputs": [],
   "source": [
    "accuracy(labels,y_pred)"
   ]
  },
  {
   "cell_type": "code",
   "execution_count": null,
   "metadata": {
    "collapsed": true
   },
   "outputs": [],
   "source": [
    "confusion_sklearn = construct_confusion_matrix(labels, y_pred)"
   ]
  },
  {
   "cell_type": "code",
   "execution_count": null,
   "metadata": {
    "collapsed": true
   },
   "outputs": [],
   "source": [
    "confusion_sklearn_normalized = normalize_confusion_matrix(confusion_sklearn)"
   ]
  },
  {
   "cell_type": "code",
   "execution_count": null,
   "metadata": {},
   "outputs": [],
   "source": [
    "plot_confusion_matrix(confusion_sklearn_normalized)"
   ]
  },
  {
   "cell_type": "markdown",
   "metadata": {},
   "source": [
    "----\n",
    "\n",
    "----\n",
    "\n",
    "----"
   ]
  },
  {
   "cell_type": "markdown",
   "metadata": {},
   "source": [
    "## Test area"
   ]
  },
  {
   "cell_type": "code",
   "execution_count": null,
   "metadata": {
    "collapsed": true
   },
   "outputs": [],
   "source": []
  }
 ],
 "metadata": {
  "kernelspec": {
   "display_name": "Python 3",
   "language": "python",
   "name": "python3"
  },
  "language_info": {
   "codemirror_mode": {
    "name": "ipython",
    "version": 3
   },
   "file_extension": ".py",
   "mimetype": "text/x-python",
   "name": "python",
   "nbconvert_exporter": "python",
   "pygments_lexer": "ipython3",
   "version": "3.6.2"
  }
 },
 "nbformat": 4,
 "nbformat_minor": 2
}
