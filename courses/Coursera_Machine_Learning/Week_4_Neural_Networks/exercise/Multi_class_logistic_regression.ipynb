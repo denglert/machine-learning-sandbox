{
 "cells": [
  {
   "cell_type": "code",
   "execution_count": 1,
   "metadata": {
    "collapsed": true
   },
   "outputs": [],
   "source": [
    "import os\n",
    "setup_script = os.path.join(os.environ['ENV_JUPYTER_SETUPS_DIR'], 'setup_sci_env_basic.py')\n",
    "%run $setup_script"
   ]
  },
  {
   "cell_type": "code",
   "execution_count": 2,
   "metadata": {
    "collapsed": true
   },
   "outputs": [],
   "source": [
    "import scipy.io\n",
    "from scipy import optimize"
   ]
  },
  {
   "cell_type": "code",
   "execution_count": 3,
   "metadata": {
    "collapsed": true
   },
   "outputs": [],
   "source": [
    "data = scipy.io.loadmat('ex3data1.mat')"
   ]
  },
  {
   "cell_type": "code",
   "execution_count": 4,
   "metadata": {
    "collapsed": true
   },
   "outputs": [],
   "source": [
    "features = data['X']\n",
    "labels = data['y'][:,0]\n",
    "X = np.insert(data['X'], 0, 1, axis=1)\n",
    "y = data['y'][:,0]"
   ]
  },
  {
   "cell_type": "code",
   "execution_count": 5,
   "metadata": {
    "collapsed": true
   },
   "outputs": [],
   "source": [
    "def show_img(img):\n",
    "    plt.imshow(img, cmap='gray_r');"
   ]
  },
  {
   "cell_type": "code",
   "execution_count": 6,
   "metadata": {},
   "outputs": [
    {
     "name": "stdout",
     "output_type": "stream",
     "text": [
      "[10]\n"
     ]
    },
    {
     "data": {
      "image/png": "[encoded data removed]",
      "text/plain": [
       "<matplotlib.figure.Figure at 0x1198e42b0>"
      ]
     },
     "metadata": {},
     "output_type": "display_data"
    }
   ],
   "source": [
    "show_img((data['X'][0]).reshape([20,20]));\n",
    "print(data['y'][0])"
   ]
  },
  {
   "cell_type": "code",
   "execution_count": 7,
   "metadata": {},
   "outputs": [
    {
     "name": "stdout",
     "output_type": "stream",
     "text": [
      "[10]\n"
     ]
    },
    {
     "data": {
      "image/png": "[encoded data removed]",
      "text/plain": [
       "<matplotlib.figure.Figure at 0x1198e4240>"
      ]
     },
     "metadata": {},
     "output_type": "display_data"
    }
   ],
   "source": [
    "show_img((data['X'][2]).reshape([20,20]));\n",
    "print(data['y'][2])"
   ]
  },
  {
   "cell_type": "markdown",
   "metadata": {},
   "source": [
    "## One-vs-all logistic regression model"
   ]
  },
  {
   "cell_type": "markdown",
   "metadata": {},
   "source": [
    "- $m$: number of samples, here 5000 handwritten digits\n",
    "\n",
    "**Cost function:**\n",
    "\n",
    "\\begin{equation}\n",
    "    J(\\theta)\n",
    "    =\n",
    "    \\frac{1}{m}\n",
    "    \\sum_{i=1}^{m}\n",
    "    \\left[\n",
    "        -y^{i} \\log( h_{\\theta}(x^{(i)}) - (1-y^{(i)}) \\log(1-h_{\\theta}(x^{(i)})\n",
    "    \\right]\n",
    "    +\n",
    "    \\frac{\\lambda}{2m}\n",
    "    \\sum_{j=1}^{n}\n",
    "    \\theta^{2}_{j}\n",
    "\\end{equation}\n",
    "\n",
    "**Model:**\n",
    "\n",
    "\\begin{equation}\n",
    "    h_{\\theta}(x^{(i)})\n",
    "    =\n",
    "    g(\\theta^{T} x^{(i)})\n",
    "\\end{equation}\n",
    "\n",
    "where $g(z)$ is the sigmoid function:\n",
    "\n",
    "\\begin{equation}\n",
    "    g(z)\n",
    "    =\n",
    "    \\frac{1}{1 + e^{-z}}\n",
    "\\end{equation}\n",
    "\n",
    "\n",
    "\\begin{equation}\n",
    "    X\n",
    "    =\n",
    "    \\begin{bmatrix}\n",
    "    -- (x^{1})^{T} -- \\\\\n",
    "    -- (x^{2})^{T} -- \\\\\n",
    "    ... \\\\\n",
    "    -- (x^{m})^{T} --\n",
    "    \\end{bmatrix}\n",
    "\\end{equation}\n",
    "and\n",
    "\\begin{equation}\n",
    "    \\theta\n",
    "    =\n",
    "    \\begin{bmatrix}\n",
    "    \\theta_{1} \\\\\n",
    "    \\theta_{2} \\\\\n",
    "    ... \\\\\n",
    "    \\theta_{m}\n",
    "    \\end{bmatrix}\n",
    "\\end{equation}\n",
    "\n",
    "\n",
    "**Gradient:**\n",
    "\n",
    "The $j=0$ component:\n",
    "\n",
    "\\begin{equation}\n",
    "    \\frac{\\partial J}{\\partial \\theta_{j}}\n",
    "    =\n",
    "    \\frac{1}{m}\n",
    "    \\sum_{i=1}^{m}\n",
    "    \\left[\n",
    "        (\n",
    "        h_{\\theta} (x^{(i)})\n",
    "        -\n",
    "        y^{(i)}\n",
    "        )\n",
    "        x^{(i)}_{j}\n",
    "    \\right]\n",
    "\\end{equation}\n",
    "\n",
    "the $j \\neq 0$-th component\n",
    "\n",
    "\\begin{equation}\n",
    "    \\frac{\\partial J}{\\partial \\theta_{j}}\n",
    "    =\n",
    "    \\frac{1}{m}\n",
    "    \\sum_{i=1}^{m}\n",
    "    \\left[\n",
    "        (\n",
    "        h_{\\theta} (x^{(i)})\n",
    "        -\n",
    "        y^{(i)}\n",
    "        )\n",
    "        x^{(i)}_{j}\n",
    "    \\right]\n",
    "    +\n",
    "    \\frac{\\lambda}{m} \\theta_{j}\n",
    "\\end{equation}\n",
    "\n",
    "Vectorized form:\n",
    "\n",
    "\\begin{equation}\n",
    "    \\underline{\\theta}'\n",
    "    =\n",
    "    \\begin{bmatrix}\n",
    "        0 \\\\\n",
    "        \\theta_{1} \\\\\n",
    "        \\theta_{2} \\\\\n",
    "        ... \\\\\n",
    "        \\theta_{n}\n",
    "    \\end{bmatrix}\n",
    "\\end{equation}\n",
    "\n",
    "\\begin{equation}\n",
    "    \\nabla_{\\theta} J\n",
    "    =\n",
    "    \\frac{1}{m}\n",
    "    \\underline{\\underline{X}}^{T}\n",
    "    (\n",
    "        \\underline{h_{\\theta}}(x)\n",
    "        -\n",
    "        \\underline{y}\n",
    "    )\n",
    "    +\n",
    "    \\frac{\\lambda}{m}\n",
    "    \\underline{\\theta'}\n",
    "\\end{equation}"
   ]
  },
  {
   "cell_type": "code",
   "execution_count": 8,
   "metadata": {
    "collapsed": true
   },
   "outputs": [],
   "source": [
    "def sigmoid(z):\n",
    "    s = 1.0/(1.0+np.exp(-z))\n",
    "    return s"
   ]
  },
  {
   "cell_type": "code",
   "execution_count": 9,
   "metadata": {
    "collapsed": true
   },
   "outputs": [],
   "source": [
    "def hypothesis(theta,X):\n",
    "    z = X.dot(theta)\n",
    "    h = sigmoid(z)\n",
    "    return h"
   ]
  },
  {
   "cell_type": "code",
   "execution_count": 10,
   "metadata": {
    "collapsed": true
   },
   "outputs": [],
   "source": [
    "def cost_function(theta, X, y, lam=0):\n",
    "    m = len(X)\n",
    "    h = hypothesis(theta,X)\n",
    "    cost_vector = -y * np.log(h) - (1.0-y)*np.log(1.0 - h)\n",
    "    regularization_term = np.sum(theta**2) * lam/(2.0*m)\n",
    "    cost = np.sum(cost_vector)/m + regularization_term\n",
    "    return cost"
   ]
  },
  {
   "cell_type": "code",
   "execution_count": 11,
   "metadata": {
    "collapsed": true
   },
   "outputs": [],
   "source": [
    "def gradient(theta,X,y,lam=0):\n",
    "    \"\"\"- X: mxn\n",
    "       - y: mx1\n",
    "       - theta: nx1\n",
    "       - lam: 1\"\"\"\n",
    "    m = len(X)\n",
    "    h = hypothesis(theta,X)\n",
    "    thetap = theta\n",
    "    thetap[0] = 0\n",
    "    gradient = -(X.transpose().dot(h-y) + lam*thetap)/m\n",
    "    return gradient"
   ]
  },
  {
   "cell_type": "code",
   "execution_count": 12,
   "metadata": {
    "collapsed": true
   },
   "outputs": [],
   "source": [
    "theta = np.random.uniform(high=0.5, size=401)"
   ]
  },
  {
   "cell_type": "code",
   "execution_count": 13,
   "metadata": {},
   "outputs": [
    {
     "data": {
      "text/plain": [
       "-61.483092651460183"
      ]
     },
     "execution_count": 13,
     "metadata": {},
     "output_type": "execute_result"
    }
   ],
   "source": [
    "cost_function(theta,X,y)"
   ]
  },
  {
   "cell_type": "code",
   "execution_count": 14,
   "metadata": {},
   "outputs": [
    {
     "data": {
      "text/plain": [
       "array([  4.50022040e+00,  -0.00000000e+00,  -0.00000000e+00,\n",
       "         1.02580995e-10,  -2.25881345e-06,  -1.71645362e-05,\n",
       "         6.47723840e-04,   8.24713737e-04,   3.32509955e-04,\n",
       "         1.01073735e-04,   1.15225544e-04,   3.41356395e-05,\n",
       "        -2.55074696e-05,  -6.38745506e-05,  -1.45224951e-04,\n",
       "        -1.56287827e-04,  -8.80352285e-05,  -2.76174325e-05,\n",
       "        -1.85479625e-07,   2.92756011e-07,  -0.00000000e+00,\n",
       "         2.46800120e-07,  -2.48433025e-06,  -5.25195675e-07,\n",
       "        -4.85221339e-05,  -7.86360804e-05,   1.05316336e-03,\n",
       "         3.74800995e-03,   5.20836533e-03,   4.02915310e-03,\n",
       "         1.09538281e-03,  -1.01315152e-03,  -1.56965950e-03,\n",
       "        -1.70875547e-03,  -1.26922531e-03,  -9.59382204e-04,\n",
       "        -6.17804433e-04,  -2.62182930e-04,  -1.42062722e-04,\n",
       "        -4.14625003e-05,  -1.55422288e-05,  -2.11721913e-06,\n",
       "         2.39477638e-05,  -5.06304697e-05,   2.00629194e-04,\n",
       "         1.76614348e-03,   9.75211689e-03,   2.17545956e-02,\n",
       "         2.85706090e-02,   2.14890738e-02,   9.51064434e-03,\n",
       "         3.95840064e-03,   1.59037204e-03,   5.60791482e-03,\n",
       "         1.58681702e-02,   1.97878153e-02,   1.03739545e-02,\n",
       "         2.73004586e-03,   5.68755868e-04,  -1.10079919e-04,\n",
       "         9.11336529e-05,  -8.93355157e-06,   4.84625432e-05,\n",
       "         2.97675130e-04,   3.48955969e-03,   1.27140085e-02,\n",
       "         4.81447814e-02,   9.16618845e-02,   1.19516895e-01,\n",
       "         1.24829161e-01,   1.34335839e-01,   1.70045316e-01,\n",
       "         2.06935332e-01,   2.43396297e-01,   2.58599787e-01,\n",
       "         2.30548430e-01,   1.47136130e-01,   5.74333179e-02,\n",
       "         1.34076471e-02,   4.43823006e-03,   1.09076532e-03,\n",
       "        -1.08629154e-05,  -7.74871785e-05,   1.34698371e-03,\n",
       "         1.09107895e-02,   4.36985390e-02,   1.30715530e-01,\n",
       "         2.57185527e-01,   3.56808338e-01,   4.36358486e-01,\n",
       "         5.38700885e-01,   6.45282315e-01,   6.98445746e-01,\n",
       "         7.05572347e-01,   7.21628275e-01,   7.02256531e-01,\n",
       "         5.28973963e-01,   2.53027102e-01,   6.87698104e-02,\n",
       "         2.55722784e-02,   5.90556250e-03,   1.54287734e-04,\n",
       "         5.39479316e-04,   3.16170924e-03,   3.19272593e-02,\n",
       "         1.25771441e-01,   3.59134659e-01,   6.71438337e-01,\n",
       "         9.10776833e-01,   1.10276270e+00,   1.27332198e+00,\n",
       "         1.31444776e+00,   1.22343456e+00,   1.13098345e+00,\n",
       "         1.13618471e+00,   1.20102373e+00,   1.08728850e+00,\n",
       "         6.63532941e-01,   2.41821692e-01,   9.07175356e-02,\n",
       "         1.64689832e-02,   3.23659873e-04,   2.40351761e-03,\n",
       "         1.05971932e-02,   8.14543518e-02,   3.12281024e-01,\n",
       "         8.01151764e-01,   1.31840132e+00,   1.69227905e+00,\n",
       "         1.87938218e+00,   1.92483259e+00,   1.78377530e+00,\n",
       "         1.55365322e+00,   1.34687385e+00,   1.29367371e+00,\n",
       "         1.44290968e+00,   1.53311266e+00,   1.19112297e+00,\n",
       "         5.18893486e-01,   1.73665420e-01,   2.57993004e-02,\n",
       "         2.95449182e-05,   4.31754039e-03,   2.75213306e-02,\n",
       "         1.99035677e-01,   6.71276790e-01,   1.44326278e+00,\n",
       "         2.11336056e+00,   2.37289614e+00,   2.24315912e+00,\n",
       "         2.04395639e+00,   1.83358527e+00,   1.63295472e+00,\n",
       "         1.38068468e+00,   1.27631856e+00,   1.50872311e+00,\n",
       "         1.89080642e+00,   1.74972658e+00,   8.39117018e-01,\n",
       "         2.39683514e-01,   3.31901496e-02,  -4.74626663e-05,\n",
       "         4.22720937e-03,   5.51771896e-02,   4.00385357e-01,\n",
       "         1.14203717e+00,   2.09105577e+00,   2.59556656e+00,\n",
       "         2.34473162e+00,   1.88915906e+00,   1.71049853e+00,\n",
       "         1.71983150e+00,   1.64585148e+00,   1.32062081e+00,\n",
       "         1.18559005e+00,   1.59178528e+00,   2.19737754e+00,\n",
       "         2.12649105e+00,   1.02339394e+00,   2.45604685e-01,\n",
       "         3.62977043e-02,  -5.87377806e-04,   7.12309047e-03,\n",
       "         1.04128980e-01,   6.62833317e-01,   1.64737168e+00,\n",
       "         2.54890609e+00,   2.51764100e+00,   1.76902553e+00,\n",
       "         1.30189024e+00,   1.40232388e+00,   1.74657377e+00,\n",
       "         1.71248250e+00,   1.36752740e+00,   1.36814991e+00,\n",
       "         1.90646829e+00,   2.43255947e+00,   2.16746103e+00,\n",
       "         1.01655262e+00,   2.36658637e-01,   3.84944432e-02,\n",
       "        -1.77453079e-03,   1.74831653e-02,   1.78423538e-01,\n",
       "         9.41697974e-01,   2.08270028e+00,   2.67800186e+00,\n",
       "         2.10758293e+00,   1.20323075e+00,   9.77999087e-01,\n",
       "         1.44460653e+00,   1.97955993e+00,   1.97873246e+00,\n",
       "         1.78830245e+00,   1.85451834e+00,   2.24097061e+00,\n",
       "         2.42828743e+00,   1.87786095e+00,   8.48849608e-01,\n",
       "         2.19228103e-01,   3.59997803e-02,  -2.87979166e-03,\n",
       "         3.16901435e-02,   2.43356163e-01,   1.08450664e+00,\n",
       "         2.18741609e+00,   2.58076939e+00,   1.90042719e+00,\n",
       "         1.21770305e+00,   1.29633835e+00,   1.92277442e+00,\n",
       "         2.35698692e+00,   2.28650899e+00,   2.09874525e+00,\n",
       "         2.10871504e+00,   2.28817661e+00,   2.12540417e+00,\n",
       "         1.42194879e+00,   6.16906105e-01,   1.76696366e-01,\n",
       "         2.63165267e-02,  -3.71455751e-03,   3.83417211e-02,\n",
       "         2.45426673e-01,   1.01088967e+00,   1.96313519e+00,\n",
       "         2.40301027e+00,   2.04477999e+00,   1.70248842e+00,\n",
       "         1.88215042e+00,   2.24936002e+00,   2.33714088e+00,\n",
       "         2.16997730e+00,   2.01365474e+00,   2.04057458e+00,\n",
       "         2.00635255e+00,   1.56479422e+00,   9.06089752e-01,\n",
       "         3.76083944e-01,   1.18601050e-01,   1.58200991e-02,\n",
       "        -2.84880824e-03,   2.77411040e-02,   1.72568915e-01,\n",
       "         7.42220641e-01,   1.52825225e+00,   2.08872213e+00,\n",
       "         2.13729011e+00,   2.02046114e+00,   2.01520044e+00,\n",
       "         1.93727181e+00,   1.76949397e+00,   1.67931352e+00,\n",
       "         1.67044984e+00,   1.64643829e+00,   1.41388194e+00,\n",
       "         9.42984199e-01,   4.89569126e-01,   1.97488837e-01,\n",
       "         5.95061563e-02,   6.11725347e-03,  -1.05625302e-03,\n",
       "         1.26520488e-02,   8.68687915e-02,   4.50971308e-01,\n",
       "         1.02311814e+00,   1.59350656e+00,   1.84777466e+00,\n",
       "         1.82041121e+00,   1.63302170e+00,   1.40598838e+00,\n",
       "         1.28911165e+00,   1.28238978e+00,   1.25494974e+00,\n",
       "         1.08917444e+00,   8.11495421e-01,   4.69998648e-01,\n",
       "         2.25769445e-01,   1.02723202e-01,   3.48077551e-02,\n",
       "         2.81544743e-03,  -1.29493592e-04,   2.98621178e-03,\n",
       "         2.78234911e-02,   2.16742648e-01,   5.63133600e-01,\n",
       "         9.52292905e-01,   1.18501886e+00,   1.16133070e+00,\n",
       "         1.01697747e+00,   9.31888573e-01,   8.99269638e-01,\n",
       "         8.55112925e-01,   7.45473490e-01,   5.63342282e-01,\n",
       "         3.55280864e-01,   1.71335764e-01,   8.19795818e-02,\n",
       "         4.46116158e-02,   1.79770873e-02,   2.48532029e-03,\n",
       "         8.09092783e-06,  -3.62918290e-04,   7.81680614e-03,\n",
       "         9.77268105e-02,   2.79639154e-01,   4.69129727e-01,\n",
       "         5.54811630e-01,   5.32758560e-01,   5.01930895e-01,\n",
       "         5.12695513e-01,   5.05404140e-01,   4.51212884e-01,\n",
       "         3.45050573e-01,   2.22525448e-01,   1.21400101e-01,\n",
       "         5.41815332e-02,   2.47105706e-02,   1.30038357e-02,\n",
       "         5.18484659e-03,   8.97162495e-04,  -9.44571669e-06,\n",
       "        -2.92389949e-04,   7.20057673e-04,   2.92144445e-02,\n",
       "         1.01717260e-01,   1.65089371e-01,   1.55947245e-01,\n",
       "         1.09253784e-01,   1.12949578e-01,   1.39063591e-01,\n",
       "         1.43265173e-01,   1.24371427e-01,   8.94005205e-02,\n",
       "         4.67456963e-02,   2.30976437e-02,   1.17021234e-02,\n",
       "         3.55457518e-03,   8.83128497e-04,   4.84972658e-04,\n",
       "        -6.02084438e-05,   3.79562662e-07,   3.83791931e-07,\n",
       "        -4.12745421e-04,   1.75277726e-03,   1.78000085e-02,\n",
       "         3.52786264e-02,   2.12068949e-02,   2.00306874e-03,\n",
       "        -1.62631606e-03,  -8.69138612e-04,   6.84784218e-04,\n",
       "         6.07532133e-04,   1.38569511e-03,   1.21802822e-04,\n",
       "         4.63952655e-04,   1.51810257e-03,   3.90021309e-04,\n",
       "        -2.25914276e-04,  -6.79215467e-05,  -6.33126870e-06,\n",
       "        -0.00000000e+00,   1.08767375e-06,  -1.96998814e-05,\n",
       "        -4.62426623e-05,   1.82595498e-03,   2.72281786e-03,\n",
       "         5.19225568e-04,  -1.34473920e-04,   7.20526078e-04,\n",
       "        -1.46650141e-04,  -5.54731100e-04,  -1.85556699e-04,\n",
       "         6.72216625e-05,  -1.52167854e-04,   1.91036585e-04,\n",
       "         4.46905728e-04,   1.13460399e-04,  -9.28391249e-06,\n",
       "        -3.96786813e-07,  -0.00000000e+00])"
      ]
     },
     "execution_count": 14,
     "metadata": {},
     "output_type": "execute_result"
    }
   ],
   "source": [
    "gradient(theta,X,y,lam=0.0)"
   ]
  },
  {
   "cell_type": "markdown",
   "metadata": {},
   "source": [
    "## Single class logistic regression"
   ]
  },
  {
   "cell_type": "markdown",
   "metadata": {},
   "source": [
    "Train on a specific digit"
   ]
  },
  {
   "cell_type": "code",
   "execution_count": 15,
   "metadata": {
    "collapsed": true
   },
   "outputs": [],
   "source": [
    "y = (labels == 2)*1"
   ]
  },
  {
   "cell_type": "code",
   "execution_count": 16,
   "metadata": {
    "collapsed": true
   },
   "outputs": [],
   "source": [
    "theta0 = np.random.uniform(high=0.1, size=401)"
   ]
  },
  {
   "cell_type": "code",
   "execution_count": 17,
   "metadata": {},
   "outputs": [
    {
     "data": {
      "text/plain": [
       "array([[ 1.,  0.,  0., ...,  0.,  0.,  0.],\n",
       "       [ 1.,  0.,  0., ...,  0.,  0.,  0.],\n",
       "       [ 1.,  0.,  0., ...,  0.,  0.,  0.],\n",
       "       ..., \n",
       "       [ 1.,  0.,  0., ...,  0.,  0.,  0.],\n",
       "       [ 1.,  0.,  0., ...,  0.,  0.,  0.],\n",
       "       [ 1.,  0.,  0., ...,  0.,  0.,  0.]])"
      ]
     },
     "execution_count": 17,
     "metadata": {},
     "output_type": "execute_result"
    }
   ],
   "source": [
    "X"
   ]
  },
  {
   "cell_type": "code",
   "execution_count": 18,
   "metadata": {},
   "outputs": [],
   "source": [
    "h = hypothesis(theta0,X)"
   ]
  },
  {
   "cell_type": "code",
   "execution_count": 19,
   "metadata": {},
   "outputs": [
    {
     "data": {
      "text/plain": [
       "0.91650225188053813"
      ]
     },
     "execution_count": 19,
     "metadata": {},
     "output_type": "execute_result"
    }
   ],
   "source": [
    "h.mean()"
   ]
  },
  {
   "cell_type": "code",
   "execution_count": 20,
   "metadata": {},
   "outputs": [],
   "source": [
    "g = gradient(theta0,X,y,lam=0)"
   ]
  },
  {
   "cell_type": "markdown",
   "metadata": {},
   "source": [
    "Minimize a function using a nonlinear conjugate gradient algorithm, `fmin_cg`"
   ]
  },
  {
   "cell_type": "code",
   "execution_count": 21,
   "metadata": {
    "collapsed": true
   },
   "outputs": [],
   "source": [
    "lam = 0"
   ]
  },
  {
   "cell_type": "code",
   "execution_count": 22,
   "metadata": {},
   "outputs": [
    {
     "name": "stdout",
     "output_type": "stream",
     "text": [
      "Warning: Desired error not necessarily achieved due to precision loss.\n",
      "         Current function value: 2.361063\n",
      "         Iterations: 0\n",
      "         Function evaluations: 106\n",
      "         Gradient evaluations: 94\n"
     ]
    }
   ],
   "source": [
    "theta_opt = optimize.fmin_cg(f=cost_function, fprime=gradient, x0=theta0, args=(X, y, lam))"
   ]
  },
  {
   "cell_type": "markdown",
   "metadata": {},
   "source": [
    "Nelder-Mead minimization"
   ]
  },
  {
   "cell_type": "code",
   "execution_count": 23,
   "metadata": {},
   "outputs": [
    {
     "ename": "KeyboardInterrupt",
     "evalue": "",
     "output_type": "error",
     "traceback": [
      "\u001b[0;31m---------------------------------------------------------------------------\u001b[0m",
      "\u001b[0;31mKeyboardInterrupt\u001b[0m                         Traceback (most recent call last)",
      "\u001b[0;32m<ipython-input-23-6c6c47af70e1>\u001b[0m in \u001b[0;36m<module>\u001b[0;34m()\u001b[0m\n\u001b[0;32m----> 1\u001b[0;31m \u001b[0moptim\u001b[0m \u001b[0;34m=\u001b[0m \u001b[0moptimize\u001b[0m\u001b[0;34m.\u001b[0m\u001b[0mminimize\u001b[0m\u001b[0;34m(\u001b[0m\u001b[0mfun\u001b[0m\u001b[0;34m=\u001b[0m\u001b[0mcost_function\u001b[0m\u001b[0;34m,\u001b[0m \u001b[0mx0\u001b[0m\u001b[0;34m=\u001b[0m\u001b[0mtheta0\u001b[0m\u001b[0;34m,\u001b[0m \u001b[0margs\u001b[0m\u001b[0;34m=\u001b[0m\u001b[0;34m(\u001b[0m\u001b[0mX\u001b[0m\u001b[0;34m,\u001b[0m \u001b[0my\u001b[0m\u001b[0;34m,\u001b[0m \u001b[0mlam\u001b[0m\u001b[0;34m)\u001b[0m\u001b[0;34m,\u001b[0m \u001b[0mmethod\u001b[0m\u001b[0;34m=\u001b[0m\u001b[0;34m'Nelder-Mead'\u001b[0m\u001b[0;34m)\u001b[0m\u001b[0;34m\u001b[0m\u001b[0m\n\u001b[0m",
      "\u001b[0;32m/Users/edy/lib/build/anaconda/lib/python3.6/site-packages/scipy/optimize/_minimize.py\u001b[0m in \u001b[0;36mminimize\u001b[0;34m(fun, x0, args, method, jac, hess, hessp, bounds, constraints, tol, callback, options)\u001b[0m\n\u001b[1;32m    436\u001b[0m                       callback=callback, **options)\n\u001b[1;32m    437\u001b[0m     \u001b[0;32melif\u001b[0m \u001b[0mmeth\u001b[0m \u001b[0;34m==\u001b[0m \u001b[0;34m'nelder-mead'\u001b[0m\u001b[0;34m:\u001b[0m\u001b[0;34m\u001b[0m\u001b[0m\n\u001b[0;32m--> 438\u001b[0;31m         \u001b[0;32mreturn\u001b[0m \u001b[0m_minimize_neldermead\u001b[0m\u001b[0;34m(\u001b[0m\u001b[0mfun\u001b[0m\u001b[0;34m,\u001b[0m \u001b[0mx0\u001b[0m\u001b[0;34m,\u001b[0m \u001b[0margs\u001b[0m\u001b[0;34m,\u001b[0m \u001b[0mcallback\u001b[0m\u001b[0;34m,\u001b[0m \u001b[0;34m**\u001b[0m\u001b[0moptions\u001b[0m\u001b[0;34m)\u001b[0m\u001b[0;34m\u001b[0m\u001b[0m\n\u001b[0m\u001b[1;32m    439\u001b[0m     \u001b[0;32melif\u001b[0m \u001b[0mmeth\u001b[0m \u001b[0;34m==\u001b[0m \u001b[0;34m'powell'\u001b[0m\u001b[0;34m:\u001b[0m\u001b[0;34m\u001b[0m\u001b[0m\n\u001b[1;32m    440\u001b[0m         \u001b[0;32mreturn\u001b[0m \u001b[0m_minimize_powell\u001b[0m\u001b[0;34m(\u001b[0m\u001b[0mfun\u001b[0m\u001b[0;34m,\u001b[0m \u001b[0mx0\u001b[0m\u001b[0;34m,\u001b[0m \u001b[0margs\u001b[0m\u001b[0;34m,\u001b[0m \u001b[0mcallback\u001b[0m\u001b[0;34m,\u001b[0m \u001b[0;34m**\u001b[0m\u001b[0moptions\u001b[0m\u001b[0;34m)\u001b[0m\u001b[0;34m\u001b[0m\u001b[0m\n",
      "\u001b[0;32m/Users/edy/lib/build/anaconda/lib/python3.6/site-packages/scipy/optimize/optimize.py\u001b[0m in \u001b[0;36m_minimize_neldermead\u001b[0;34m(func, x0, args, callback, maxiter, maxfev, disp, return_all, initial_simplex, xatol, fatol, **unknown_options)\u001b[0m\n\u001b[1;32m    525\u001b[0m \u001b[0;34m\u001b[0m\u001b[0m\n\u001b[1;32m    526\u001b[0m     \u001b[0;32mwhile\u001b[0m \u001b[0;34m(\u001b[0m\u001b[0mfcalls\u001b[0m\u001b[0;34m[\u001b[0m\u001b[0;36m0\u001b[0m\u001b[0;34m]\u001b[0m \u001b[0;34m<\u001b[0m \u001b[0mmaxfun\u001b[0m \u001b[0;32mand\u001b[0m \u001b[0miterations\u001b[0m \u001b[0;34m<\u001b[0m \u001b[0mmaxiter\u001b[0m\u001b[0;34m)\u001b[0m\u001b[0;34m:\u001b[0m\u001b[0;34m\u001b[0m\u001b[0m\n\u001b[0;32m--> 527\u001b[0;31m         if (numpy.max(numpy.ravel(numpy.abs(sim[1:] - sim[0]))) <= xatol and\n\u001b[0m\u001b[1;32m    528\u001b[0m                 numpy.max(numpy.abs(fsim[0] - fsim[1:])) <= fatol):\n\u001b[1;32m    529\u001b[0m             \u001b[0;32mbreak\u001b[0m\u001b[0;34m\u001b[0m\u001b[0m\n",
      "\u001b[0;31mKeyboardInterrupt\u001b[0m: "
     ]
    }
   ],
   "source": [
    "optim = optimize.minimize(fun=cost_function, x0=theta0, args=(X, y, lam), method='Nelder-Mead')"
   ]
  },
  {
   "cell_type": "code",
   "execution_count": null,
   "metadata": {},
   "outputs": [],
   "source": [
    "theta_opt = optim.x"
   ]
  },
  {
   "cell_type": "code",
   "execution_count": null,
   "metadata": {},
   "outputs": [],
   "source": [
    "y_predicted = hypothesis(theta_opt,X)"
   ]
  },
  {
   "cell_type": "markdown",
   "metadata": {},
   "source": [
    "## Test area"
   ]
  },
  {
   "cell_type": "code",
   "execution_count": null,
   "metadata": {
    "collapsed": true
   },
   "outputs": [],
   "source": [
    "y = (labels == 2)*1"
   ]
  },
  {
   "cell_type": "code",
   "execution_count": null,
   "metadata": {
    "collapsed": true
   },
   "outputs": [],
   "source": [
    "z = np.dot(X,theta)"
   ]
  },
  {
   "cell_type": "code",
   "execution_count": null,
   "metadata": {},
   "outputs": [],
   "source": [
    "X.shape"
   ]
  },
  {
   "cell_type": "code",
   "execution_count": null,
   "metadata": {},
   "outputs": [],
   "source": [
    "h.shape"
   ]
  },
  {
   "cell_type": "code",
   "execution_count": null,
   "metadata": {
    "collapsed": true
   },
   "outputs": [],
   "source": [
    "y.shape"
   ]
  },
  {
   "cell_type": "code",
   "execution_count": null,
   "metadata": {
    "collapsed": true
   },
   "outputs": [],
   "source": [
    "z.shape"
   ]
  },
  {
   "cell_type": "code",
   "execution_count": null,
   "metadata": {
    "collapsed": true
   },
   "outputs": [],
   "source": [
    "h = 1.0/(1.0 + np.exp(-z))"
   ]
  },
  {
   "cell_type": "code",
   "execution_count": null,
   "metadata": {
    "collapsed": true
   },
   "outputs": [],
   "source": [
    "X.shape"
   ]
  },
  {
   "cell_type": "code",
   "execution_count": null,
   "metadata": {
    "collapsed": true
   },
   "outputs": [],
   "source": [
    "theta.shape"
   ]
  },
  {
   "cell_type": "code",
   "execution_count": null,
   "metadata": {
    "collapsed": true
   },
   "outputs": [],
   "source": [
    "h.shape"
   ]
  },
  {
   "cell_type": "code",
   "execution_count": null,
   "metadata": {
    "collapsed": true
   },
   "outputs": [],
   "source": [
    "y.shape"
   ]
  },
  {
   "cell_type": "code",
   "execution_count": null,
   "metadata": {
    "collapsed": true
   },
   "outputs": [],
   "source": [
    "lam = 1.0"
   ]
  },
  {
   "cell_type": "code",
   "execution_count": null,
   "metadata": {
    "collapsed": true
   },
   "outputs": [],
   "source": [
    "gradient = X.transpose().dot(h-y)"
   ]
  },
  {
   "cell_type": "code",
   "execution_count": null,
   "metadata": {
    "collapsed": true
   },
   "outputs": [],
   "source": [
    "h.mean()"
   ]
  },
  {
   "cell_type": "code",
   "execution_count": null,
   "metadata": {
    "collapsed": true
   },
   "outputs": [],
   "source": [
    "cost_vector = -y*np.log(h) - (1.0-y)*np.log(1.0-h)"
   ]
  }
 ],
 "metadata": {
  "kernelspec": {
   "display_name": "Python 3",
   "language": "python",
   "name": "python3"
  },
  "language_info": {
   "codemirror_mode": {
    "name": "ipython",
    "version": 3
   },
   "file_extension": ".py",
   "mimetype": "text/x-python",
   "name": "python",
   "nbconvert_exporter": "python",
   "pygments_lexer": "ipython3",
   "version": "3.6.0"
  }
 },
 "nbformat": 4,
 "nbformat_minor": 2
}
