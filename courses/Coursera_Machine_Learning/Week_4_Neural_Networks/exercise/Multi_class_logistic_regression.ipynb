{
 "cells": [
  {
   "cell_type": "markdown",
   "metadata": {},
   "source": [
    "# One-vs-all logistic regression model"
   ]
  },
  {
   "cell_type": "markdown",
   "metadata": {},
   "source": [
    "## Single logistic regression cell"
   ]
  },
  {
   "cell_type": "markdown",
   "metadata": {},
   "source": [
    "**Notation:**\n",
    "\n",
    "- $\\theta_{j}$: weights, $j=1,...,n$\n",
    "- $x^{(i)}_{j}$: the $j$-th feature of the $i$-th sample, $i=1,..,m$, $j=1,...,n$\n",
    "- $y^{(i)}$: $i$-th label, $i=1,..,m$\n",
    "\n",
    "\n",
    "**Vectorized form:**\n",
    "\n",
    "\\begin{equation}\n",
    "    X\n",
    "    =\n",
    "    \\begin{bmatrix}\n",
    "    -- (x^{(1)})^{T} -- \\\\\n",
    "    -- (x^{(2)})^{T} -- \\\\\n",
    "    ... \\\\\n",
    "    -- (x^{(m)})^{T} --\n",
    "    \\end{bmatrix}\n",
    "\\end{equation}\n",
    "\n",
    "\n",
    "\\begin{equation}\n",
    "    \\theta\n",
    "    =\n",
    "    \\begin{bmatrix}\n",
    "    \\theta_{1} \\\\\n",
    "    \\theta_{2} \\\\\n",
    "    ... \\\\\n",
    "    \\theta_{m}\n",
    "    \\end{bmatrix}\n",
    "\\end{equation}\n",
    "\n",
    "\\begin{equation}\n",
    "    y\n",
    "    =\n",
    "    \\begin{bmatrix}\n",
    "    y^{(1)} \\\\\n",
    "    y^{(2)} \\\\\n",
    "    ... \\\\\n",
    "    y^{(m)}\n",
    "    \\end{bmatrix}\n",
    "\\end{equation}\n",
    "\n",
    "**Dimensions:**\n",
    "- $m$: number of samples\n",
    "- $n$: number of weights"
   ]
  },
  {
   "cell_type": "markdown",
   "metadata": {},
   "source": [
    "### Model:\n",
    "\n",
    "Logistics function:\n",
    "\n",
    "\\begin{equation}\n",
    "    h_{\\theta}(x^{(i)})\n",
    "    =\n",
    "    \\sigma(\\theta^{T} x^{(i)})\n",
    "    =\n",
    "    \\frac{1}{1 + e^{- \\theta^{T} x^{(i)} }}\n",
    "\\end{equation}\n",
    "\n",
    "where $\\sigma(z)$ is the sigmoid function:\n",
    "\n",
    "\\begin{equation}\n",
    "    \\sigma(z)\n",
    "    =\n",
    "    \\frac{1}{1 + e^{-z}}\n",
    "\\end{equation}\n",
    "\n",
    "We wish to achive:\n",
    "\n",
    "\\begin{equation}\n",
    "h_{\\theta}(x^{(i)}) \\simeq y^{(i)}\n",
    "\\end{equation}"
   ]
  },
  {
   "cell_type": "markdown",
   "metadata": {},
   "source": [
    "### Cost function\n",
    "\n",
    "\\begin{equation}\n",
    "    J(\\theta)\n",
    "    =\n",
    "    \\frac{1}{m}\n",
    "    \\sum_{i=1}^{m}\n",
    "    \\left[\n",
    "        -y^{(i)} \\log( h_{\\theta}(x^{(i)}) - (1-y^{(i)}) \\log(1-h_{\\theta}(x^{(i)})\n",
    "    \\right]\n",
    "    +\n",
    "    \\frac{\\lambda}{2m}\n",
    "    \\sum_{j=1}^{n}\n",
    "    \\theta^{2}_{j}\n",
    "\\end{equation}"
   ]
  },
  {
   "cell_type": "markdown",
   "metadata": {},
   "source": [
    "### Gradient\n",
    "\n",
    "The $j=0$ component:\n",
    "\n",
    "\\begin{equation}\n",
    "    \\frac{\\partial J}{\\partial \\theta_{j}}\n",
    "    =\n",
    "    \\frac{1}{m}\n",
    "    \\sum_{i=1}^{m}\n",
    "    \\left[\n",
    "        (\n",
    "        h_{\\theta} (x^{(i)})\n",
    "        -\n",
    "        y^{(i)}\n",
    "        )\n",
    "        x^{(i)}_{j}\n",
    "    \\right]\n",
    "\\end{equation}\n",
    "\n",
    "$j \\neq 0$ components:\n",
    "\n",
    "\\begin{equation}\n",
    "    \\frac{\\partial J}{\\partial \\theta_{j}}\n",
    "    =\n",
    "    \\frac{1}{m}\n",
    "    \\sum_{i=1}^{m}\n",
    "    \\left[\n",
    "        (\n",
    "        h_{\\theta} (x^{(i)})\n",
    "        -\n",
    "        y^{(i)}\n",
    "        )\n",
    "        x^{(i)}_{j}\n",
    "    \\right]\n",
    "    +\n",
    "    \\frac{\\lambda}{m} \\theta_{j}\n",
    "\\end{equation}\n",
    "\n",
    "Vectorized form:\n",
    "\n",
    "\\begin{equation}\n",
    "    \\underline{\\theta}'\n",
    "    =\n",
    "    \\begin{bmatrix}\n",
    "        0 \\\\\n",
    "        \\theta_{1} \\\\\n",
    "        \\theta_{2} \\\\\n",
    "        ... \\\\\n",
    "        \\theta_{n}\n",
    "    \\end{bmatrix}\n",
    "\\end{equation}\n",
    "\n",
    "\\begin{equation}\n",
    "    \\nabla_{\\theta} J\n",
    "    =\n",
    "    \\frac{1}{m}\n",
    "    \\underline{\\underline{X}}^{T}\n",
    "    (\n",
    "        \\underline{h_{\\theta}}(x)\n",
    "        -\n",
    "        \\underline{y}\n",
    "    )\n",
    "    +\n",
    "    \\frac{\\lambda}{m}\n",
    "    \\underline{\\theta'}\n",
    "\\end{equation}"
   ]
  },
  {
   "cell_type": "code",
   "execution_count": 31,
   "metadata": {
    "collapsed": true
   },
   "outputs": [],
   "source": [
    "import scipy.io\n",
    "from scipy import optimize"
   ]
  },
  {
   "cell_type": "code",
   "execution_count": 163,
   "metadata": {},
   "outputs": [
    {
     "name": "stdout",
     "output_type": "stream",
     "text": [
      "1.13.1\n",
      "0.19.1\n"
     ]
    }
   ],
   "source": [
    "print(np.__version__)\n",
    "print(scipy.__version__)"
   ]
  },
  {
   "cell_type": "markdown",
   "metadata": {},
   "source": [
    "Load in .mat datafile containing the digits"
   ]
  },
  {
   "cell_type": "code",
   "execution_count": 32,
   "metadata": {
    "collapsed": true
   },
   "outputs": [],
   "source": [
    "data = scipy.io.loadmat('ex3data1.mat')"
   ]
  },
  {
   "cell_type": "code",
   "execution_count": 33,
   "metadata": {
    "collapsed": true
   },
   "outputs": [],
   "source": [
    "features = data['X']\n",
    "labels = data['y'][:,0]\n",
    "X = np.insert(data['X'], 0, 1, axis=1)\n",
    "y = data['y'][:,0]"
   ]
  },
  {
   "cell_type": "code",
   "execution_count": 127,
   "metadata": {},
   "outputs": [],
   "source": [
    "def show_digit(flat_pixels):\n",
    "    img = flat_pixels.reshape([20,20])\n",
    "    img_rot = np.rot90(img)\n",
    "    plt.imshow(img_rot, cmap='gray_r', origin='lower');"
   ]
  },
  {
   "cell_type": "markdown",
   "metadata": {},
   "source": [
    "### Examples"
   ]
  },
  {
   "cell_type": "code",
   "execution_count": 125,
   "metadata": {},
   "outputs": [
    {
     "name": "stdout",
     "output_type": "stream",
     "text": [
      "[10]\n"
     ]
    },
    {
     "data": {
      "image/png": "[encoded data removed]",
      "text/plain": [
       "<matplotlib.figure.Figure at 0x7f64f3c00cf8>"
      ]
     },
     "metadata": {},
     "output_type": "display_data"
    }
   ],
   "source": [
    "show_digit(data['X'][1012]);\n",
    "print(data['y'][0])"
   ]
  },
  {
   "cell_type": "code",
   "execution_count": 126,
   "metadata": {},
   "outputs": [
    {
     "name": "stdout",
     "output_type": "stream",
     "text": [
      "[10]\n"
     ]
    },
    {
     "data": {
      "image/png": "[encoded data removed]",
      "text/plain": [
       "<matplotlib.figure.Figure at 0x7f64f3be8908>"
      ]
     },
     "metadata": {},
     "output_type": "display_data"
    }
   ],
   "source": [
    "show_img(data['X'][]);\n",
    "print(data['y'][2])"
   ]
  },
  {
   "cell_type": "markdown",
   "metadata": {},
   "source": [
    "### Function definitions"
   ]
  },
  {
   "cell_type": "code",
   "execution_count": 49,
   "metadata": {
    "collapsed": true
   },
   "outputs": [],
   "source": [
    "def sigmoid(z):\n",
    "    s = 1.0 / ( 1.0 + np.exp(-z) )\n",
    "    return s"
   ]
  },
  {
   "cell_type": "markdown",
   "metadata": {},
   "source": [
    "Hypothesis:\n",
    "\n",
    "\\begin{equation}\n",
    "    h_{\\theta}(x^{(i)})\n",
    "    =\n",
    "    \\sigma(\\theta^{T} x^{(i)})\n",
    "    =\n",
    "    \\frac{1}{1 + e^{- \\theta^{T} x^{(i)} }}\n",
    "\\end{equation}"
   ]
  },
  {
   "cell_type": "code",
   "execution_count": 44,
   "metadata": {
    "collapsed": true
   },
   "outputs": [],
   "source": [
    "def hypothesis(theta,X):\n",
    "    z = X.dot(theta)\n",
    "    h = sigmoid(z)\n",
    "    return h"
   ]
  },
  {
   "cell_type": "markdown",
   "metadata": {},
   "source": [
    "Cost function:\n",
    "\n",
    "\\begin{equation}\n",
    "    J(\\theta)\n",
    "    =\n",
    "    \\frac{1}{m}\n",
    "    \\sum_{i=1}^{m}\n",
    "    \\left[\n",
    "        -y^{(i)} \\log( h_{\\theta}(x^{(i)}) - (1-y^{(i)}) \\log(1-h_{\\theta}(x^{(i)})\n",
    "    \\right]\n",
    "    +\n",
    "    \\frac{\\lambda}{2m}\n",
    "    \\sum_{j=1}^{n}\n",
    "    \\theta^{2}_{j}\n",
    "\\end{equation}"
   ]
  },
  {
   "cell_type": "code",
   "execution_count": 51,
   "metadata": {
    "collapsed": true
   },
   "outputs": [],
   "source": [
    "def cost_function(theta, X, y, lam=0):\n",
    "    \"\"\" theta: nx1\n",
    "        X: mxn\n",
    "        theta: nx1\n",
    "        lam: 1\n",
    "    \"\"\"\n",
    "    m = len(X)\n",
    "    h = hypothesis(theta, X)\n",
    "    cost_vector = -y * np.log(h) - (1.0-y)*np.log(1.0 - h)\n",
    "    regularization_term = np.sum(theta**2) * lam/(2.0*m)\n",
    "    cost = np.sum(cost_vector)/m + regularization_term\n",
    "    return cost"
   ]
  },
  {
   "cell_type": "markdown",
   "metadata": {},
   "source": [
    "The $j=0$ component:\n",
    "\n",
    "\\begin{equation}\n",
    "    \\frac{\\partial J}{\\partial \\theta_{j}}\n",
    "    =\n",
    "    \\frac{1}{m}\n",
    "    \\sum_{i=1}^{m}\n",
    "    \\left[\n",
    "        (\n",
    "        h_{\\theta} (x^{(i)})\n",
    "        -\n",
    "        y^{(i)}\n",
    "        )\n",
    "        x^{(i)}_{j}\n",
    "    \\right]\n",
    "\\end{equation}\n",
    "\n",
    "$j \\neq 0$ components:\n",
    "\n",
    "\\begin{equation}\n",
    "    \\frac{\\partial J}{\\partial \\theta_{j}}\n",
    "    =\n",
    "    \\frac{1}{m}\n",
    "    \\sum_{i=1}^{m}\n",
    "    \\left[\n",
    "        (\n",
    "        h_{\\theta} (x^{(i)})\n",
    "        -\n",
    "        y^{(i)}\n",
    "        )\n",
    "        x^{(i)}_{j}\n",
    "    \\right]\n",
    "    +\n",
    "    \\frac{\\lambda}{m} \\theta_{j}\n",
    "\\end{equation}"
   ]
  },
  {
   "cell_type": "code",
   "execution_count": 174,
   "metadata": {
    "collapsed": true
   },
   "outputs": [],
   "source": [
    "def gradient(theta, X, y, lam=0):\n",
    "    \"\"\"- X: mxn\n",
    "       - y: mx1\n",
    "       - theta: nx1\n",
    "       - lam: 1\"\"\"\n",
    "    m = len(X)\n",
    "    h = hypothesis(theta,X)\n",
    "    thetap = theta\n",
    "    thetap[0] = 0\n",
    "    gradient = (X.transpose().dot(h-y) + lam*thetap)/m\n",
    "    return gradient"
   ]
  },
  {
   "cell_type": "code",
   "execution_count": 215,
   "metadata": {
    "collapsed": true
   },
   "outputs": [],
   "source": [
    "def accuracy(yreal, ypred):\n",
    "    m = len(yreal)\n",
    "    correct = 0\n",
    "    for yr, yp in zip(yreal,ypred):\n",
    "        if np.abs(yr-yp) <= 0.5:\n",
    "            correct += 1\n",
    "        else:\n",
    "            pass\n",
    "            \n",
    "    accuracy = correct/m\n",
    "    return accuracy"
   ]
  },
  {
   "cell_type": "markdown",
   "metadata": {},
   "source": [
    "## Single class logistic regression"
   ]
  },
  {
   "cell_type": "markdown",
   "metadata": {},
   "source": [
    "Train on a specific digit"
   ]
  },
  {
   "cell_type": "code",
   "execution_count": 193,
   "metadata": {
    "collapsed": true
   },
   "outputs": [],
   "source": [
    "digit = 2"
   ]
  },
  {
   "cell_type": "markdown",
   "metadata": {},
   "source": [
    "Create target vector"
   ]
  },
  {
   "cell_type": "code",
   "execution_count": 194,
   "metadata": {
    "collapsed": true
   },
   "outputs": [],
   "source": [
    "y = (labels == digit).astype(int)"
   ]
  },
  {
   "cell_type": "code",
   "execution_count": 195,
   "metadata": {},
   "outputs": [],
   "source": [
    "index = np.where(y == 1)[0][100]"
   ]
  },
  {
   "cell_type": "code",
   "execution_count": 196,
   "metadata": {},
   "outputs": [
    {
     "data": {
      "text/plain": [
       "1100"
      ]
     },
     "execution_count": 196,
     "metadata": {},
     "output_type": "execute_result"
    }
   ],
   "source": [
    "index"
   ]
  },
  {
   "cell_type": "code",
   "execution_count": 197,
   "metadata": {},
   "outputs": [
    {
     "data": {
      "image/png": "[encoded data removed]",
      "text/plain": [
       "<matplotlib.figure.Figure at 0x7f64f866db00>"
      ]
     },
     "metadata": {},
     "output_type": "display_data"
    }
   ],
   "source": [
    "show_digit(data['X'][index]);"
   ]
  },
  {
   "cell_type": "code",
   "execution_count": 198,
   "metadata": {
    "collapsed": true
   },
   "outputs": [],
   "source": [
    "theta = np.random.uniform(high=0.5, size=401)"
   ]
  },
  {
   "cell_type": "code",
   "execution_count": 199,
   "metadata": {},
   "outputs": [
    {
     "data": {
      "text/plain": [
       "11.626218741454798"
      ]
     },
     "execution_count": 199,
     "metadata": {},
     "output_type": "execute_result"
    }
   ],
   "source": [
    "cost_function(theta, X, y)"
   ]
  },
  {
   "cell_type": "code",
   "execution_count": 200,
   "metadata": {},
   "outputs": [
    {
     "data": {
      "text/plain": [
       "array([  8.99803664e-01,   0.00000000e+00,   0.00000000e+00,\n",
       "         1.54829924e-07,  -1.93726772e-06,  -2.94567187e-06,\n",
       "         1.23105890e-04,   1.47743864e-04,   8.05782869e-05,\n",
       "         1.93994135e-05,   4.36192125e-05,   1.41025418e-05,\n",
       "        -1.08465974e-05,  -2.36774995e-05,  -4.05773460e-05,\n",
       "        -5.65730514e-05,  -4.14585046e-05,  -1.40553512e-05,\n",
       "        -9.27395079e-08,   1.46377947e-07,   0.00000000e+00,\n",
       "         4.93600154e-08,  -4.03749987e-07,  -1.86934790e-06,\n",
       "        -2.57175673e-06,  -2.55787362e-05,   1.28867959e-04,\n",
       "         6.10543332e-04,   9.16260798e-04,   7.18056439e-04,\n",
       "         2.74088862e-04,  -8.94500929e-05,  -1.67486460e-04,\n",
       "        -9.96312725e-05,  -3.99614659e-05,   9.47686302e-05,\n",
       "         9.10514765e-05,  -2.81309192e-06,  -4.85486709e-05,\n",
       "        -8.31142393e-06,  -1.77153611e-06,  -4.23443750e-07,\n",
       "         3.82615143e-06,  -1.64538154e-05,   1.81646877e-04,\n",
       "         8.83611115e-04,   2.52361846e-03,   4.44916249e-03,\n",
       "         5.36227880e-03,   4.02930669e-03,   1.84698270e-03,\n",
       "         1.07134840e-03,   8.46645580e-04,   1.79401139e-03,\n",
       "         4.58465258e-03,   6.17752107e-03,   4.11611673e-03,\n",
       "         1.58127620e-03,   4.63780073e-04,  -1.61116375e-05,\n",
       "         6.31198852e-06,  -1.79110137e-06,   4.51826290e-06,\n",
       "         5.71350205e-05,   1.27555864e-03,   4.36251462e-03,\n",
       "         1.15539614e-02,   1.83247159e-02,   2.11545705e-02,\n",
       "         2.06391058e-02,   2.08847252e-02,   2.52131516e-02,\n",
       "         2.99327970e-02,   3.51215402e-02,   4.10138798e-02,\n",
       "         4.23923301e-02,   3.04809910e-02,   1.36904977e-02,\n",
       "         3.81571361e-03,   6.99649674e-04,   1.45332094e-04,\n",
       "        -2.19991830e-06,  -2.30876554e-05,   2.22120372e-04,\n",
       "         3.51010089e-03,   1.35524877e-02,   3.02300643e-02,\n",
       "         4.84084094e-02,   5.96281496e-02,   6.84197131e-02,\n",
       "         8.31049131e-02,   9.86827846e-02,   1.03119145e-01,\n",
       "         9.92424744e-02,   1.06786108e-01,   1.16167566e-01,\n",
       "         9.64397948e-02,   5.09257820e-02,   1.50258650e-02,\n",
       "         4.14807987e-03,   9.18283921e-04,   3.18918274e-05,\n",
       "         7.03938248e-05,   4.50703570e-04,   9.61387245e-03,\n",
       "         3.50331218e-02,   7.51474757e-02,   1.18250626e-01,\n",
       "         1.48468853e-01,   1.76345466e-01,   2.05978738e-01,\n",
       "         2.13464502e-01,   1.92664419e-01,   1.68165628e-01,\n",
       "         1.67950878e-01,   1.92818926e-01,   1.94271359e-01,\n",
       "         1.31280152e-01,   4.86189740e-02,   1.45767049e-02,\n",
       "         2.57018072e-03,   6.74877021e-05,   4.18257714e-04,\n",
       "         1.66736254e-03,   2.05938347e-02,   7.32228676e-02,\n",
       "         1.53475458e-01,   2.24007329e-01,   2.74388452e-01,\n",
       "         3.08339166e-01,   3.27861145e-01,   3.11555389e-01,\n",
       "         2.64500023e-01,   2.14820231e-01,   2.01436012e-01,\n",
       "         2.39673184e-01,   2.81602063e-01,   2.37755611e-01,\n",
       "         1.02526544e-01,   2.76931193e-02,   3.94855801e-03,\n",
       "         1.00426968e-05,   7.55300087e-04,   4.89364268e-03,\n",
       "         4.61954173e-02,   1.40588239e-01,   2.58979882e-01,\n",
       "         3.46997808e-01,   3.85405674e-01,   3.83968714e-01,\n",
       "         3.72587047e-01,   3.44096160e-01,   2.97474973e-01,\n",
       "         2.42690509e-01,   2.29175316e-01,   2.78617292e-01,\n",
       "         3.59580350e-01,   3.43433293e-01,   1.60281871e-01,\n",
       "         3.75912339e-02,   5.14010477e-03,  -5.22679590e-07,\n",
       "         6.64354769e-04,   1.02214570e-02,   8.60064005e-02,\n",
       "         2.23306415e-01,   3.60776018e-01,   4.24768776e-01,\n",
       "         3.92659265e-01,   3.45840002e-01,   3.38599934e-01,\n",
       "         3.47585332e-01,   3.29768258e-01,   2.70252307e-01,\n",
       "         2.49985474e-01,   3.20075025e-01,   4.23681089e-01,\n",
       "         4.05975623e-01,   1.88914144e-01,   3.77291093e-02,\n",
       "         5.69194870e-03,  -1.01718893e-04,   1.20616730e-03,\n",
       "         1.91522261e-02,   1.35659898e-01,   3.11534599e-01,\n",
       "         4.39350915e-01,   4.28725821e-01,   3.28746778e-01,\n",
       "         2.87334639e-01,   3.34579611e-01,   4.05396389e-01,\n",
       "         3.92814620e-01,   3.16111554e-01,   3.00308616e-01,\n",
       "         3.81543896e-01,   4.67603309e-01,   4.14450667e-01,\n",
       "         1.88115794e-01,   3.67108677e-02,   6.02542297e-03,\n",
       "        -3.44343992e-04,   3.33804902e-03,   3.39505458e-02,\n",
       "         1.87678970e-01,   3.88885479e-01,   4.73567792e-01,\n",
       "         3.92554391e-01,   2.84725913e-01,   2.88097594e-01,\n",
       "         3.86394793e-01,   4.71059697e-01,   4.46889514e-01,\n",
       "         3.77909442e-01,   3.67369851e-01,   4.30389141e-01,\n",
       "         4.65576349e-01,   3.65857778e-01,   1.58350456e-01,\n",
       "         3.42368288e-02,   5.56374732e-03,  -5.83125793e-04,\n",
       "         6.28409643e-03,   4.62762863e-02,   2.10278871e-01,\n",
       "         4.06716438e-01,   4.69577945e-01,   3.83197423e-01,\n",
       "         3.05641261e-01,   3.33115703e-01,   4.35253132e-01,\n",
       "         4.92602493e-01,   4.52303680e-01,   3.94389259e-01,\n",
       "         3.87412860e-01,   4.23178144e-01,   4.00981387e-01,\n",
       "         2.74948740e-01,   1.12075721e-01,   2.71406089e-02,\n",
       "         4.13375014e-03,  -7.39298454e-04,   7.63127749e-03,\n",
       "         4.73978926e-02,   1.96881207e-01,   3.69779583e-01,\n",
       "         4.46232830e-01,   4.02067467e-01,   3.53862287e-01,\n",
       "         3.74222747e-01,   4.30748896e-01,   4.49085926e-01,\n",
       "         4.15164219e-01,   3.72714296e-01,   3.66771135e-01,\n",
       "         3.61579172e-01,   2.87724877e-01,   1.71154360e-01,\n",
       "         6.62334748e-02,   1.71796632e-02,   2.47828003e-03,\n",
       "        -5.66497307e-04,   5.46018649e-03,   3.40712425e-02,\n",
       "         1.51597816e-01,   2.97013846e-01,   3.86497334e-01,\n",
       "         3.88021392e-01,   3.54749208e-01,   3.44104487e-01,\n",
       "         3.40480020e-01,   3.31159405e-01,   3.20985838e-01,\n",
       "         3.08295238e-01,   2.93642921e-01,   2.52438961e-01,\n",
       "         1.71836316e-01,   9.12171812e-02,   3.43784992e-02,\n",
       "         8.35908552e-03,   8.93091335e-04,  -2.10768450e-04,\n",
       "         2.45813406e-03,   1.76414267e-02,   9.40347958e-02,\n",
       "         1.99679010e-01,   2.86050364e-01,   3.10664050e-01,\n",
       "         2.87100947e-01,   2.51115645e-01,   2.25501795e-01,\n",
       "         2.22146170e-01,   2.26395331e-01,   2.19143352e-01,\n",
       "         1.88789040e-01,   1.42464996e-01,   8.43116417e-02,\n",
       "         4.11218957e-02,   1.72587678e-02,   4.91934249e-03,\n",
       "         3.78626631e-04,  -2.60605899e-05,   5.68355311e-04,\n",
       "         6.05562820e-03,   4.47454395e-02,   1.08723496e-01,\n",
       "         1.68129631e-01,   1.89475488e-01,   1.67967551e-01,\n",
       "         1.39038869e-01,   1.31037499e-01,   1.35961469e-01,\n",
       "         1.34623819e-01,   1.19653017e-01,   9.22892206e-02,\n",
       "         6.01900875e-02,   3.02018367e-02,   1.44822785e-02,\n",
       "         7.18216196e-03,   2.51703796e-03,   3.66327738e-04,\n",
       "         2.61733851e-06,  -1.11940982e-04,   1.80666160e-03,\n",
       "         2.14201293e-02,   5.73006078e-02,   8.73308870e-02,\n",
       "         8.98758934e-02,   7.31468509e-02,   6.38526719e-02,\n",
       "         6.67088126e-02,   6.93923661e-02,   6.41079946e-02,\n",
       "         4.97822123e-02,   3.31221208e-02,   1.86592343e-02,\n",
       "         8.81794374e-03,   4.33074994e-03,   2.19691532e-03,\n",
       "         7.76678855e-04,   1.25741310e-04,  -1.02186547e-06,\n",
       "        -7.95465799e-05,   1.71701776e-04,   6.99359382e-03,\n",
       "         2.33021222e-02,   3.47905964e-02,   2.85126366e-02,\n",
       "         1.56632446e-02,   1.43685032e-02,   1.84069191e-02,\n",
       "         1.93864819e-02,   1.70229991e-02,   1.17508180e-02,\n",
       "         5.52765148e-03,   2.76168145e-03,   1.51599974e-03,\n",
       "         6.06802565e-04,   1.83201374e-04,   7.15975432e-05,\n",
       "        -9.35015283e-06,   4.08481441e-08,   4.56583776e-07,\n",
       "        -9.46337032e-05,   4.21240860e-04,   4.20788954e-03,\n",
       "         8.50127945e-03,   5.29382095e-03,   9.48001876e-04,\n",
       "        -1.36961990e-05,   1.60516748e-04,   4.90178558e-04,\n",
       "         2.85497644e-04,   9.11559071e-05,  -1.98769944e-04,\n",
       "        -9.46735148e-05,   2.17630334e-04,   4.59789233e-05,\n",
       "        -3.90083107e-05,  -1.00685031e-05,  -8.36410524e-07,\n",
       "         0.00000000e+00,   2.59538028e-07,  -3.97191499e-06,\n",
       "        -1.08029998e-05,   3.11472820e-04,   4.86874670e-04,\n",
       "         1.08831667e-04,  -2.23970742e-05,   9.22983005e-05,\n",
       "        -4.83727730e-05,  -1.01312036e-04,  -2.54778511e-05,\n",
       "         6.00338108e-05,   1.36157435e-04,   3.97410870e-05,\n",
       "         6.30690108e-05,   6.19625343e-06,  -1.10065247e-06,\n",
       "         7.65950147e-09,   0.00000000e+00])"
      ]
     },
     "execution_count": 200,
     "metadata": {},
     "output_type": "execute_result"
    }
   ],
   "source": [
    "gradient(theta,X,y,lam=0.0)"
   ]
  },
  {
   "cell_type": "code",
   "execution_count": 201,
   "metadata": {
    "collapsed": true
   },
   "outputs": [],
   "source": [
    "theta0 = np.random.uniform(high=0.1, size=401)"
   ]
  },
  {
   "cell_type": "code",
   "execution_count": 202,
   "metadata": {
    "collapsed": true
   },
   "outputs": [],
   "source": [
    "h = hypothesis(theta0, X)"
   ]
  },
  {
   "cell_type": "code",
   "execution_count": 241,
   "metadata": {},
   "outputs": [
    {
     "data": {
      "text/plain": [
       "array([ 0.96010775,  0.97482282,  0.97030039, ...,  0.85778854,\n",
       "        0.96840163,  0.96213185])"
      ]
     },
     "execution_count": 241,
     "metadata": {},
     "output_type": "execute_result"
    }
   ],
   "source": [
    "h"
   ]
  },
  {
   "cell_type": "markdown",
   "metadata": {},
   "source": [
    "### Optimization"
   ]
  },
  {
   "cell_type": "markdown",
   "metadata": {},
   "source": [
    "Minimize a function using a nonlinear conjugate gradient algorithm, `fmin_cg`"
   ]
  },
  {
   "cell_type": "markdown",
   "metadata": {},
   "source": [
    "$\\lambda = [0,1]$"
   ]
  },
  {
   "cell_type": "code",
   "execution_count": 245,
   "metadata": {
    "collapsed": true
   },
   "outputs": [],
   "source": [
    "lambdas = np.linspace(0.0, 1.0, 5)"
   ]
  },
  {
   "cell_type": "code",
   "execution_count": 257,
   "metadata": {},
   "outputs": [
    {
     "name": "stdout",
     "output_type": "stream",
     "text": [
      "Warning: Maximum number of iterations has been exceeded.\n",
      "         Current function value: 0.052079\n",
      "         Iterations: 50\n",
      "         Function evaluations: 147\n",
      "         Gradient evaluations: 147\n",
      "Warning: Maximum number of iterations has been exceeded.\n",
      "         Current function value: 0.060633\n",
      "         Iterations: 50\n",
      "         Function evaluations: 145\n",
      "         Gradient evaluations: 145\n",
      "Warning: Maximum number of iterations has been exceeded.\n",
      "         Current function value: 0.063820\n",
      "         Iterations: 50\n",
      "         Function evaluations: 143\n",
      "         Gradient evaluations: 143\n",
      "Warning: Maximum number of iterations has been exceeded.\n",
      "         Current function value: 0.067382\n",
      "         Iterations: 50\n",
      "         Function evaluations: 155\n",
      "         Gradient evaluations: 155\n",
      "Warning: Maximum number of iterations has been exceeded.\n",
      "         Current function value: 0.070238\n",
      "         Iterations: 50\n",
      "         Function evaluations: 148\n",
      "         Gradient evaluations: 148\n"
     ]
    }
   ],
   "source": [
    "theta_opts, theta_iters = {}, {}\n",
    "for lam in lambdas:\n",
    "    theta_opt, theta_iter = optimize.fmin_cg(f=cost_function, fprime=gradient, x0=theta0, args=(X, y, lam), maxiter=50, retall=True)\n",
    "    theta_opts[lam] = theta_opt\n",
    "    theta_iters[lam] = theta_iter"
   ]
  },
  {
   "cell_type": "code",
   "execution_count": 247,
   "metadata": {
    "collapsed": true
   },
   "outputs": [],
   "source": [
    "y_predicted = hypothesis(theta_opts[0],X)"
   ]
  },
  {
   "cell_type": "markdown",
   "metadata": {},
   "source": [
    "### Evolution of cost function "
   ]
  },
  {
   "cell_type": "code",
   "execution_count": 258,
   "metadata": {
    "collapsed": true
   },
   "outputs": [],
   "source": [
    "costs = {}\n",
    "for lam, theta_iter in theta_iters.items():\n",
    "    costs[lam] = [cost_function(theta, X, y, lam) for theta in theta_iter]"
   ]
  },
  {
   "cell_type": "code",
   "execution_count": 261,
   "metadata": {},
   "outputs": [
    {
     "data": {
      "text/plain": [
       "<matplotlib.legend.Legend at 0x7f64f7ba7cc0>"
      ]
     },
     "execution_count": 261,
     "metadata": {},
     "output_type": "execute_result"
    },
    {
     "data": {
      "image/png": "[encoded data removed]",
      "text/plain": [
       "<matplotlib.figure.Figure at 0x7f64f7c6ab38>"
      ]
     },
     "metadata": {},
     "output_type": "display_data"
    }
   ],
   "source": [
    "f,a = plt.subplots()\n",
    "for lam, cost in costs.items():\n",
    "    a.plot(cost, label=\"$\\lambda = {}$\".format(lam))\n",
    "a.set_yscale('log')\n",
    "a.set_xlabel('Iteration number')\n",
    "a.set_ylabel('Cost function')\n",
    "plt.legend()"
   ]
  },
  {
   "cell_type": "code",
   "execution_count": 272,
   "metadata": {},
   "outputs": [],
   "source": [
    "theta_l2 = [np.mean(theta_opt**2) for lam, theta_opt in theta_opts.items()]"
   ]
  },
  {
   "cell_type": "code",
   "execution_count": 274,
   "metadata": {},
   "outputs": [
    {
     "data": {
      "text/plain": [
       "[0.84687098956488926,\n",
       " 0.32997540187109758,\n",
       " 0.31340363160625606,\n",
       " 0.27062959408879772,\n",
       " 0.18962483238790367]"
      ]
     },
     "execution_count": 274,
     "metadata": {},
     "output_type": "execute_result"
    }
   ],
   "source": [
    "theta_l2"
   ]
  },
  {
   "cell_type": "code",
   "execution_count": 282,
   "metadata": {},
   "outputs": [
    {
     "data": {
      "text/plain": [
       "<matplotlib.text.Text at 0x7f64f775d5f8>"
      ]
     },
     "execution_count": 282,
     "metadata": {},
     "output_type": "execute_result"
    },
    {
     "data": {
      "image/png": "[encoded data removed]",
      "text/plain": [
       "<matplotlib.figure.Figure at 0x7f64f783b470>"
      ]
     },
     "metadata": {},
     "output_type": "display_data"
    }
   ],
   "source": [
    "f,a = plt.subplots()\n",
    "a.bar(lambdas, theta_l2, align='center', width=0.25)\n",
    "a.set_xlabel('$\\lambda$')\n",
    "a.set_ylabel(r'L2 norm of $\\theta$')"
   ]
  },
  {
   "cell_type": "markdown",
   "metadata": {},
   "source": [
    "### Accuracy"
   ]
  },
  {
   "cell_type": "code",
   "execution_count": 238,
   "metadata": {},
   "outputs": [
    {
     "data": {
      "text/plain": [
       "array([0, 0, 0, ..., 0, 0, 0])"
      ]
     },
     "execution_count": 238,
     "metadata": {},
     "output_type": "execute_result"
    }
   ],
   "source": [
    "y"
   ]
  },
  {
   "cell_type": "code",
   "execution_count": 239,
   "metadata": {},
   "outputs": [
    {
     "data": {
      "text/plain": [
       "array([  5.78506129e-05,   1.48696208e-06,   3.29719278e-04, ...,\n",
       "         1.40336717e-03,   9.60171427e-11,   1.05317145e-07])"
      ]
     },
     "execution_count": 239,
     "metadata": {},
     "output_type": "execute_result"
    }
   ],
   "source": [
    "y_predicted"
   ]
  },
  {
   "cell_type": "code",
   "execution_count": 240,
   "metadata": {},
   "outputs": [
    {
     "data": {
      "text/plain": [
       "0.9854"
      ]
     },
     "execution_count": 240,
     "metadata": {},
     "output_type": "execute_result"
    }
   ],
   "source": [
    "accuracy(y, y_predicted)"
   ]
  },
  {
   "cell_type": "markdown",
   "metadata": {},
   "source": [
    "## Test area"
   ]
  },
  {
   "cell_type": "code",
   "execution_count": null,
   "metadata": {
    "collapsed": true
   },
   "outputs": [],
   "source": []
  }
 ],
 "metadata": {
  "kernelspec": {
   "display_name": "Python 3",
   "language": "python",
   "name": "python3"
  },
  "language_info": {
   "codemirror_mode": {
    "name": "ipython",
    "version": 3
   },
   "file_extension": ".py",
   "mimetype": "text/x-python",
   "name": "python",
   "nbconvert_exporter": "python",
   "pygments_lexer": "ipython3",
   "version": "3.6.2"
  }
 },
 "nbformat": 4,
 "nbformat_minor": 2
}
