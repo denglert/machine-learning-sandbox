{
 "cells": [
  {
   "cell_type": "code",
   "execution_count": 1,
   "metadata": {},
   "outputs": [
    {
     "name": "stdout",
     "output_type": "stream",
     "text": [
      "The autoreload extension is already loaded. To reload it, use:\n",
      "  %reload_ext autoreload\n"
     ]
    }
   ],
   "source": [
    "import os\n",
    "setup_script = os.path.join(os.environ['ENV_JUPYTER_SETUPS_DIR'], 'setup_sci_env_basic.py')\n",
    "%run $setup_script"
   ]
  },
  {
   "cell_type": "code",
   "execution_count": 71,
   "metadata": {
    "collapsed": true
   },
   "outputs": [],
   "source": [
    "import scipy.io\n",
    "from scipy import optimize"
   ]
  },
  {
   "cell_type": "code",
   "execution_count": 3,
   "metadata": {
    "collapsed": true
   },
   "outputs": [],
   "source": [
    "data = scipy.io.loadmat('ex3data1.mat')"
   ]
  },
  {
   "cell_type": "code",
   "execution_count": 46,
   "metadata": {},
   "outputs": [],
   "source": [
    "features = data['X']\n",
    "labels = data['y']\n",
    "X = np.insert(data['X'], 0, 1, axis=1)\n",
    "y = data['y'][:,0]"
   ]
  },
  {
   "cell_type": "code",
   "execution_count": 51,
   "metadata": {
    "collapsed": true
   },
   "outputs": [],
   "source": [
    "def show_img(img):\n",
    "    plt.imshow(img, cmap='gray_r');"
   ]
  },
  {
   "cell_type": "code",
   "execution_count": 52,
   "metadata": {},
   "outputs": [
    {
     "name": "stdout",
     "output_type": "stream",
     "text": [
      "[10]\n"
     ]
    },
    {
     "data": {
      "image/png": "[encoded data removed]",
      "text/plain": [
       "<matplotlib.figure.Figure at 0x7fa06a098208>"
      ]
     },
     "metadata": {},
     "output_type": "display_data"
    }
   ],
   "source": [
    "show_img((data['X'][0]).reshape([20,20]));\n",
    "print(data['y'][0])"
   ]
  },
  {
   "cell_type": "code",
   "execution_count": 53,
   "metadata": {},
   "outputs": [
    {
     "name": "stdout",
     "output_type": "stream",
     "text": [
      "[10]\n"
     ]
    },
    {
     "data": {
      "image/png": "[encoded data removed]",
      "text/plain": [
       "<matplotlib.figure.Figure at 0x7fa069ec1b70>"
      ]
     },
     "metadata": {},
     "output_type": "display_data"
    }
   ],
   "source": [
    "show_img((data['X'][2]).reshape([20,20]));\n",
    "print(data['y'][2])"
   ]
  },
  {
   "cell_type": "markdown",
   "metadata": {},
   "source": [
    "## One-vs-all logistic regression model"
   ]
  },
  {
   "cell_type": "markdown",
   "metadata": {},
   "source": [
    "- $m$: number of samples, here 5000 handwritten digits\n",
    "\n",
    "**Cost function:**\n",
    "\n",
    "\\begin{equation}\n",
    "    J(\\theta)\n",
    "    =\n",
    "    \\frac{1}{m}\n",
    "    \\sum_{i=1}^{m}\n",
    "    \\left[\n",
    "        -y^{i} \\log( h_{\\theta}(x^{(i)}) - (1-y^{(i)}) \\log(1-h_{\\theta}(x^{(i)})\n",
    "    \\right]\n",
    "    +\n",
    "    \\frac{\\lambda}{2m}\n",
    "    \\sum_{j=1}^{n}\n",
    "    \\theta^{2}_{j}\n",
    "\\end{equation}\n",
    "\n",
    "**Model:**\n",
    "\n",
    "\\begin{equation}\n",
    "    h_{\\theta}(x^{(i)})\n",
    "    =\n",
    "    g(\\theta^{T} x^{(i)})\n",
    "\\end{equation}\n",
    "\n",
    "where $g(z)$ is the sigmoid function:\n",
    "\n",
    "\\begin{equation}\n",
    "    g(z)\n",
    "    =\n",
    "    \\frac{1}{1 + e^{-z}}\n",
    "\\end{equation}\n",
    "\n",
    "\n",
    "\\begin{equation}\n",
    "    X\n",
    "    =\n",
    "    \\begin{bmatrix}\n",
    "    -- (x^{1})^{T} -- \\\\\n",
    "    -- (x^{2})^{T} -- \\\\\n",
    "    ... \\\\\n",
    "    -- (x^{m})^{T} --\n",
    "    \\end{bmatrix}\n",
    "\\end{equation}\n",
    "and\n",
    "\\begin{equation}\n",
    "    \\theta\n",
    "    =\n",
    "    \\begin{bmatrix}\n",
    "    \\theta_{1} \\\\\n",
    "    \\theta_{2} \\\\\n",
    "    ... \\\\\n",
    "    \\theta_{m}\n",
    "    \\end{bmatrix}\n",
    "\\end{equation}\n",
    "\n",
    "\n",
    "**Gradient:**\n",
    "\n",
    "The $j=0$ component:\n",
    "\n",
    "\\begin{equation}\n",
    "    \\frac{\\partial J}{\\partial \\theta_{j}}\n",
    "    =\n",
    "    \\frac{1}{m}\n",
    "    \\sum_{i=1}^{m}\n",
    "    \\left[\n",
    "        (\n",
    "        h_{\\theta} (x^{i})\n",
    "        -\n",
    "        y^{i}\n",
    "        )\n",
    "        x^{i}_{j}\n",
    "    \\right]\n",
    "\\end{equation}\n",
    "\n",
    "the $j \\neq 0$-th component\n",
    "\n",
    "\\begin{equation}\n",
    "    \\frac{\\partial J}{\\partial \\theta_{j}}\n",
    "    =\n",
    "    \\frac{1}{m}\n",
    "    \\sum_{i=1}^{m}\n",
    "    \\left[\n",
    "        (\n",
    "        h_{\\theta} (x^{i})\n",
    "        -\n",
    "        y^{i}\n",
    "        )\n",
    "        x^{i}_{j}\n",
    "    \\right]\n",
    "    +\n",
    "    \\frac{\\lambda}{m} \\theta_{j}\n",
    "\\end{equation}\n",
    "\n",
    "Vectorized form:\n",
    "\n",
    "\\begin{equation}\n",
    "    \\underline{\\theta}'\n",
    "    =\n",
    "    \\begin{bmatrix}\n",
    "        0 \\\\\n",
    "        \\theta_{1} \\\\\n",
    "        \\theta_{2} \\\\\n",
    "        ... \\\\\n",
    "        \\theta_{n}\n",
    "    \\end{bmatrix}\n",
    "\\end{equation}\n",
    "\n",
    "\\begin{equation}\n",
    "    \\nabla_{\\theta} J\n",
    "    =\n",
    "    \\frac{1}{m}\n",
    "    \\underline{\\underline{X}}^{T}\n",
    "    (\n",
    "        \\underline{h_{\\theta}}(x)\n",
    "        -\n",
    "        \\underline{y}\n",
    "    )\n",
    "    +\n",
    "    \\frac{\\lambda}{m}\n",
    "    \\underline{\\theta'}\n",
    "\\end{equation}"
   ]
  },
  {
   "cell_type": "code",
   "execution_count": 54,
   "metadata": {
    "collapsed": true
   },
   "outputs": [],
   "source": [
    "def sigmoid(z):\n",
    "    s = 1.0/(1.0+np.exp(-z))\n",
    "    return s"
   ]
  },
  {
   "cell_type": "code",
   "execution_count": 55,
   "metadata": {
    "collapsed": true
   },
   "outputs": [],
   "source": [
    "def hypothesis(X,theta):\n",
    "    z = X.dot(theta)\n",
    "    h = sigmoid(z)\n",
    "    return h"
   ]
  },
  {
   "cell_type": "code",
   "execution_count": 56,
   "metadata": {
    "collapsed": true
   },
   "outputs": [],
   "source": [
    "def cost_function(X, y, theta, lam=0):\n",
    "    m = len(X)\n",
    "    h = hypothesis(X,theta)\n",
    "    cost_vector = -y * np.log(h) - (1.0-y)*np.log(1.0 - h)\n",
    "    regularization_term = np.sum(theta**2) * lam/(2.0*m)\n",
    "    cost = np.sum(cost_vector)/m + regularization_term\n",
    "    return cost"
   ]
  },
  {
   "cell_type": "code",
   "execution_count": 67,
   "metadata": {
    "collapsed": true
   },
   "outputs": [],
   "source": [
    "def gradient(X,y,theta,lam):\n",
    "    \"\"\"- X: mxn\n",
    "       - y: mx1\n",
    "       - theta: nx1\n",
    "       - lam: 1\"\"\"\n",
    "    m = len(X)\n",
    "    h = hypothesis(X,theta)\n",
    "    thetap = theta\n",
    "    thetap[0] = 0\n",
    "    gradient = (X.transpose().dot(h-y) + lam*thetap)/m\n",
    "    return gradient"
   ]
  },
  {
   "cell_type": "code",
   "execution_count": 68,
   "metadata": {
    "collapsed": true
   },
   "outputs": [],
   "source": [
    "theta = np.random.uniform(high=0.1, size=401)"
   ]
  },
  {
   "cell_type": "code",
   "execution_count": 69,
   "metadata": {},
   "outputs": [
    {
     "data": {
      "text/plain": [
       "-34.262107753321608"
      ]
     },
     "execution_count": 69,
     "metadata": {},
     "output_type": "execute_result"
    }
   ],
   "source": [
    "cost_function(X,y,theta)"
   ]
  },
  {
   "cell_type": "code",
   "execution_count": 70,
   "metadata": {},
   "outputs": [
    {
     "data": {
      "text/plain": [
       "array([ -4.57720829e+00,   1.90885600e-05,   8.52580456e-07,\n",
       "         7.70344177e-06,   1.91693056e-05,   2.79425217e-05,\n",
       "        -6.41434246e-04,  -8.33533613e-04,  -3.35445109e-04,\n",
       "        -9.82745813e-05,  -1.17613239e-04,  -1.63452171e-05,\n",
       "         3.63039627e-05,   7.79707438e-05,   1.67234039e-04,\n",
       "         1.75554822e-04,   9.94549382e-05,   4.32860588e-05,\n",
       "         2.35927462e-06,   1.48692217e-05,   1.97658299e-05,\n",
       "         1.40979066e-05,   1.12575315e-05,   5.04354487e-06,\n",
       "         6.28512145e-05,   7.87111721e-05,  -1.05517011e-03,\n",
       "        -3.78733004e-03,  -5.27461066e-03,  -4.09721274e-03,\n",
       "        -1.13131262e-03,   1.02748044e-03,   1.58413490e-03,\n",
       "         1.70983749e-03,   1.26449446e-03,   9.54030904e-04,\n",
       "         6.31780284e-04,   2.70888415e-04,   1.59727578e-04,\n",
       "         4.37566258e-05,   1.65320436e-05,   1.31545446e-05,\n",
       "        -8.27327870e-06,   7.01985615e-05,  -1.91981252e-04,\n",
       "        -1.77286794e-03,  -9.90290526e-03,  -2.20307741e-02,\n",
       "        -2.89059264e-02,  -2.17658149e-02,  -9.65672878e-03,\n",
       "        -4.05077071e-03,  -1.66718705e-03,  -5.71031822e-03,\n",
       "        -1.61002207e-02,  -2.00892386e-02,  -1.05281164e-02,\n",
       "        -2.78220608e-03,  -5.79655543e-04,   1.14876898e-04,\n",
       "        -8.05833958e-05,   2.26584908e-05,  -4.41114117e-05,\n",
       "        -2.93512832e-04,  -3.53769209e-03,  -1.29127601e-02,\n",
       "        -4.88913326e-02,  -9.28621320e-02,  -1.20767603e-01,\n",
       "        -1.25892362e-01,  -1.35226417e-01,  -1.71053962e-01,\n",
       "        -2.08184928e-01,  -2.44944119e-01,  -2.60495858e-01,\n",
       "        -2.32542087e-01,  -1.48492332e-01,  -5.80200984e-02,\n",
       "        -1.36030910e-02,  -4.48126942e-03,  -1.09639748e-03,\n",
       "         2.28260204e-05,   8.63794303e-05,  -1.34245648e-03,\n",
       "        -1.11232378e-02,  -4.45390113e-02,  -1.32731130e-01,\n",
       "        -2.60281849e-01,  -3.59997261e-01,  -4.39317078e-01,\n",
       "        -5.41895477e-01,  -6.48999271e-01,  -7.02658061e-01,\n",
       "        -7.10204896e-01,  -7.27150175e-01,  -7.08326615e-01,\n",
       "        -5.33699382e-01,  -2.55462440e-01,  -6.96513461e-02,\n",
       "        -2.58733021e-02,  -5.96530147e-03,  -1.46521883e-04,\n",
       "        -5.23501648e-04,  -3.22068190e-03,  -3.25815772e-02,\n",
       "        -1.28075497e-01,  -3.63924582e-01,  -6.78577398e-01,\n",
       "        -9.18497999e-01,  -1.11087291e+00,  -1.28252665e+00,\n",
       "        -1.32421540e+00,  -1.23260017e+00,  -1.13933657e+00,\n",
       "        -1.14504832e+00,  -1.21175182e+00,  -1.09820066e+00,\n",
       "        -6.71230661e-01,  -2.45036524e-01,  -9.18557008e-02,\n",
       "        -1.66624525e-02,  -3.22199011e-04,  -2.38665302e-03,\n",
       "        -1.07409384e-02,  -8.29373002e-02,  -3.16932785e-01,\n",
       "        -8.10410086e-01,  -1.33170890e+00,  -1.70741073e+00,\n",
       "        -1.89563750e+00,  -1.94233622e+00,  -1.80110374e+00,\n",
       "        -1.56911035e+00,  -1.35920738e+00,  -1.30557832e+00,\n",
       "        -1.45831969e+00,  -1.55150093e+00,  -1.20685816e+00,\n",
       "        -5.25923698e-01,  -1.75913042e-01,  -2.61277654e-02,\n",
       "        -2.18628762e-05,  -4.29434046e-03,  -2.79820044e-02,\n",
       "        -2.02373204e-01,  -6.80067703e-01,  -1.45879482e+00,\n",
       "        -2.13437450e+00,  -2.39555221e+00,  -2.26550909e+00,\n",
       "        -2.06639687e+00,  -1.85584178e+00,  -1.65363109e+00,\n",
       "        -1.39829462e+00,  -1.29394461e+00,  -1.53020649e+00,\n",
       "        -1.91648049e+00,  -1.77325210e+00,  -8.50415805e-01,\n",
       "        -2.42902707e-01,  -3.36248507e-02,   5.63542420e-05,\n",
       "        -4.23531810e-03,  -5.61933000e-02,  -4.06567896e-01,\n",
       "        -1.15605339e+00,  -2.11340541e+00,  -2.62230602e+00,\n",
       "        -2.36889983e+00,  -1.91028564e+00,  -1.73217182e+00,\n",
       "        -1.74503692e+00,  -1.67301032e+00,  -1.34514204e+00,\n",
       "        -1.20935597e+00,  -1.61927820e+00,  -2.22843041e+00,\n",
       "        -2.15432962e+00,  -1.03673201e+00,  -2.48918298e-01,\n",
       "        -3.68027305e-02,   5.99626891e-04,  -7.18093561e-03,\n",
       "        -1.05955061e-01,  -6.73015176e-01,  -1.66789002e+00,\n",
       "        -2.57762264e+00,  -2.54660065e+00,  -1.79168766e+00,\n",
       "        -1.32266129e+00,  -1.42832192e+00,  -1.78182408e+00,\n",
       "        -1.74983039e+00,  -1.39977257e+00,  -1.39844491e+00,\n",
       "        -1.93917884e+00,  -2.46635200e+00,  -2.19594816e+00,\n",
       "        -1.02998939e+00,  -2.39808155e-01,  -3.89837728e-02,\n",
       "         1.80612297e-03,  -1.76390548e-02,  -1.81286074e-01,\n",
       "        -9.55767288e-01,  -2.10934352e+00,  -2.71149774e+00,\n",
       "        -2.13828619e+00,  -1.22884056e+00,  -1.00552797e+00,\n",
       "        -1.48041121e+00,  -2.02314480e+00,  -2.02139611e+00,\n",
       "        -1.82497766e+00,  -1.88781723e+00,  -2.27441072e+00,\n",
       "        -2.46006021e+00,  -1.90255177e+00,  -8.60157193e-01,\n",
       "        -2.22094476e-01,  -3.64996468e-02,   2.90912442e-03,\n",
       "        -3.20432222e-02,  -2.46683717e-01,  -1.09951249e+00,\n",
       "        -2.21577239e+00,  -2.61646234e+00,  -1.93394716e+00,\n",
       "        -1.24791398e+00,  -1.32807195e+00,  -1.96037636e+00,\n",
       "        -2.39784688e+00,  -2.32415417e+00,  -2.13101196e+00,\n",
       "        -2.13752724e+00,  -2.31601943e+00,  -2.15009741e+00,\n",
       "        -1.43942119e+00,  -6.24695671e-01,  -1.78943962e-01,\n",
       "        -2.67001370e-02,   3.77680351e-03,  -3.87324477e-02,\n",
       "        -2.48683987e-01,  -1.02481656e+00,  -1.98902057e+00,\n",
       "        -2.43734276e+00,  -2.07918940e+00,  -1.73383716e+00,\n",
       "        -1.91231892e+00,  -2.28092023e+00,  -2.36910329e+00,\n",
       "        -2.19911043e+00,  -2.03851381e+00,  -2.06280674e+00,\n",
       "        -2.02665723e+00,  -1.58060065e+00,  -9.16143883e-01,\n",
       "        -3.80553098e-01,  -1.19893528e-01,  -1.60235252e-02,\n",
       "         2.88939483e-03,  -2.80077269e-02,  -1.75008657e-01,\n",
       "        -7.53346715e-01,  -1.54871628e+00,  -2.11624882e+00,\n",
       "        -2.16621110e+00,  -2.04608438e+00,  -2.03776126e+00,\n",
       "        -1.95817085e+00,  -1.78883666e+00,  -1.69768732e+00,\n",
       "        -1.68728152e+00,  -1.66170287e+00,  -1.42688168e+00,\n",
       "        -9.52074012e-01,  -4.94799264e-01,  -1.99788418e-01,\n",
       "        -6.01356335e-02,  -6.19393303e-03,   1.07260397e-03,\n",
       "        -1.27598249e-02,  -8.81814487e-02,  -4.57783146e-01,\n",
       "        -1.03576977e+00,  -1.61124852e+00,  -1.86713504e+00,\n",
       "        -1.83706559e+00,  -1.64611680e+00,  -1.41666175e+00,\n",
       "        -1.29904063e+00,  -1.29258062e+00,  -1.26501671e+00,\n",
       "        -1.09802812e+00,  -8.18655246e-01,  -4.74646326e-01,\n",
       "        -2.28140417e-01,  -1.03787132e-01,  -3.51070247e-02,\n",
       "        -2.82221563e-03,   1.43653561e-04,  -3.00657810e-03,\n",
       "        -2.82334937e-02,  -2.19587474e-01,  -5.69205119e-01,\n",
       "        -9.61554136e-01,  -1.19524864e+00,  -1.16910675e+00,\n",
       "        -1.02221305e+00,  -9.36397637e-01,  -9.04040393e-01,\n",
       "        -8.60054840e-01,  -7.50316753e-01,  -5.67600763e-01,\n",
       "        -3.58511015e-01,  -1.73265846e-01,  -8.29010524e-02,\n",
       "        -4.50033479e-02,  -1.81067355e-02,  -2.50957218e-03,\n",
       "         2.41663872e-06,   3.79210731e-04,  -7.91532090e-03,\n",
       "        -9.89503643e-02,  -2.82739232e-01,  -4.74121972e-01,\n",
       "        -5.59779893e-01,  -5.35775942e-01,  -5.03894726e-01,\n",
       "        -5.14766238e-01,  -5.07624749e-01,  -4.53445471e-01,\n",
       "        -3.47253280e-01,  -2.24424782e-01,  -1.22746620e-01,\n",
       "        -5.49121881e-02,  -2.50345878e-02,  -1.31347247e-02,\n",
       "        -5.20778042e-03,  -9.02711899e-04,   2.32316525e-05,\n",
       "         3.06554917e-04,  -7.11054384e-04,  -2.96331951e-02,\n",
       "        -1.03150805e-01,  -1.67562493e-01,  -1.58059976e-01,\n",
       "        -1.10079419e-01,  -1.13517015e-01,  -1.39801252e-01,\n",
       "        -1.43984718e-01,  -1.25117145e-01,  -9.02803100e-02,\n",
       "        -4.74089843e-02,  -2.35399207e-02,  -1.19149777e-02,\n",
       "        -3.59745175e-03,  -8.85469537e-04,  -4.70148293e-04,\n",
       "         6.55231709e-05,   2.97901130e-06,   9.62980435e-06,\n",
       "         4.36219821e-04,  -1.77131694e-03,  -1.81118060e-02,\n",
       "        -3.60535853e-02,  -2.17739014e-02,  -2.14603304e-03,\n",
       "         1.56856083e-03,   8.41159653e-04,  -7.03247060e-04,\n",
       "        -6.72929017e-04,  -1.55912459e-03,  -2.19154187e-04,\n",
       "        -4.94014570e-04,  -1.54968391e-03,  -3.86805065e-04,\n",
       "         2.36598555e-04,   7.01426412e-05,   2.04397749e-05,\n",
       "         1.54190689e-05,   8.69114395e-06,   2.28182099e-05,\n",
       "         5.36305841e-05,  -1.85767670e-03,  -2.76928009e-03,\n",
       "        -5.33299476e-04,   1.52177962e-04,  -7.16801489e-04,\n",
       "         1.61622923e-04,   5.63109014e-04,   2.01184260e-04,\n",
       "        -7.01671549e-05,   1.45196290e-04,  -1.82315134e-04,\n",
       "        -4.41347745e-04,  -1.07323551e-04,   2.82356502e-05,\n",
       "         4.96249383e-06,   9.35885380e-06])"
      ]
     },
     "execution_count": 70,
     "metadata": {},
     "output_type": "execute_result"
    }
   ],
   "source": [
    "gradient(X,y,theta,lam=1.0)"
   ]
  },
  {
   "cell_type": "markdown",
   "metadata": {},
   "source": [
    "## Test area"
   ]
  },
  {
   "cell_type": "code",
   "execution_count": 72,
   "metadata": {
    "collapsed": true
   },
   "outputs": [],
   "source": [
    "y = (labels == 2)*1"
   ]
  },
  {
   "cell_type": "code",
   "execution_count": 73,
   "metadata": {
    "collapsed": true
   },
   "outputs": [],
   "source": [
    "z = np.dot(X,theta)"
   ]
  },
  {
   "cell_type": "code",
   "execution_count": 74,
   "metadata": {},
   "outputs": [
    {
     "data": {
      "text/plain": [
       "(5000, 401)"
      ]
     },
     "execution_count": 74,
     "metadata": {},
     "output_type": "execute_result"
    }
   ],
   "source": [
    "X.shape"
   ]
  },
  {
   "cell_type": "code",
   "execution_count": 75,
   "metadata": {},
   "outputs": [
    {
     "ename": "NameError",
     "evalue": "name 'h' is not defined",
     "output_type": "error",
     "traceback": [
      "\u001b[0;31m---------------------------------------------------------------------------\u001b[0m",
      "\u001b[0;31mNameError\u001b[0m                                 Traceback (most recent call last)",
      "\u001b[0;32m<ipython-input-75-a73f5b4d8793>\u001b[0m in \u001b[0;36m<module>\u001b[0;34m()\u001b[0m\n\u001b[0;32m----> 1\u001b[0;31m \u001b[0mh\u001b[0m\u001b[0;34m.\u001b[0m\u001b[0mshape\u001b[0m\u001b[0;34m\u001b[0m\u001b[0m\n\u001b[0m",
      "\u001b[0;31mNameError\u001b[0m: name 'h' is not defined"
     ]
    }
   ],
   "source": [
    "h.shape"
   ]
  },
  {
   "cell_type": "code",
   "execution_count": 76,
   "metadata": {},
   "outputs": [
    {
     "data": {
      "text/plain": [
       "(5000, 1)"
      ]
     },
     "execution_count": 76,
     "metadata": {},
     "output_type": "execute_result"
    }
   ],
   "source": [
    "y.shape"
   ]
  },
  {
   "cell_type": "code",
   "execution_count": 83,
   "metadata": {},
   "outputs": [
    {
     "data": {
      "text/plain": [
       "(5000,)"
      ]
     },
     "execution_count": 83,
     "metadata": {},
     "output_type": "execute_result"
    }
   ],
   "source": [
    "z.shape"
   ]
  },
  {
   "cell_type": "code",
   "execution_count": 84,
   "metadata": {
    "collapsed": true
   },
   "outputs": [],
   "source": [
    "h = 1.0/(1.0 + np.exp(-z))"
   ]
  },
  {
   "cell_type": "code",
   "execution_count": 85,
   "metadata": {},
   "outputs": [
    {
     "data": {
      "text/plain": [
       "(5000, 401)"
      ]
     },
     "execution_count": 85,
     "metadata": {},
     "output_type": "execute_result"
    }
   ],
   "source": [
    "X.shape"
   ]
  },
  {
   "cell_type": "code",
   "execution_count": 86,
   "metadata": {},
   "outputs": [
    {
     "data": {
      "text/plain": [
       "(401,)"
      ]
     },
     "execution_count": 86,
     "metadata": {},
     "output_type": "execute_result"
    }
   ],
   "source": [
    "theta.shape"
   ]
  },
  {
   "cell_type": "code",
   "execution_count": 87,
   "metadata": {},
   "outputs": [
    {
     "data": {
      "text/plain": [
       "(5000,)"
      ]
     },
     "execution_count": 87,
     "metadata": {},
     "output_type": "execute_result"
    }
   ],
   "source": [
    "h.shape"
   ]
  },
  {
   "cell_type": "code",
   "execution_count": 88,
   "metadata": {},
   "outputs": [
    {
     "data": {
      "text/plain": [
       "(5000, 1)"
      ]
     },
     "execution_count": 88,
     "metadata": {},
     "output_type": "execute_result"
    }
   ],
   "source": [
    "y.shape"
   ]
  },
  {
   "cell_type": "code",
   "execution_count": 89,
   "metadata": {
    "collapsed": true
   },
   "outputs": [],
   "source": [
    "lam = 1.0"
   ]
  },
  {
   "cell_type": "code",
   "execution_count": 90,
   "metadata": {
    "collapsed": true
   },
   "outputs": [],
   "source": [
    "gradient = X.transpose().dot(h-y)"
   ]
  },
  {
   "cell_type": "code",
   "execution_count": 91,
   "metadata": {},
   "outputs": [
    {
     "data": {
      "text/plain": [
       "0.9158196948994537"
      ]
     },
     "execution_count": 91,
     "metadata": {},
     "output_type": "execute_result"
    }
   ],
   "source": [
    "h.mean()"
   ]
  },
  {
   "cell_type": "code",
   "execution_count": 92,
   "metadata": {
    "collapsed": true
   },
   "outputs": [],
   "source": [
    "cost_vector = -y*np.log(h) - (1.0-y)*np.log(1.0-h)"
   ]
  }
 ],
 "metadata": {
  "kernelspec": {
   "display_name": "Python 3",
   "language": "python",
   "name": "python3"
  },
  "language_info": {
   "codemirror_mode": {
    "name": "ipython",
    "version": 3
   },
   "file_extension": ".py",
   "mimetype": "text/x-python",
   "name": "python",
   "nbconvert_exporter": "python",
   "pygments_lexer": "ipython3",
   "version": "3.6.2"
  }
 },
 "nbformat": 4,
 "nbformat_minor": 2
}
