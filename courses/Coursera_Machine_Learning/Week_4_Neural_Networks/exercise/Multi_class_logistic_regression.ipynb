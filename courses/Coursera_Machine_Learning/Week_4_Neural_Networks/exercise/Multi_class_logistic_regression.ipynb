{
 "cells": [
  {
   "cell_type": "markdown",
   "metadata": {},
   "source": [
    "# One-vs-all logistic regression model"
   ]
  },
  {
   "cell_type": "markdown",
   "metadata": {},
   "source": [
    "**Problem description:**\n",
    "\n",
    "Implement and traind a one-vs-all multi-class classifier logistic regression model, trained to differentiate between between 20x20 images showing handwritten digits from 0 to 9."
   ]
  },
  {
   "cell_type": "markdown",
   "metadata": {},
   "source": [
    "**Note:**\n",
    "\n",
    "Ideally we would like a split of separate training, test and cross-validation samples. In contrast here we only deal with the training set, as the emphasis is on:\n",
    "- demonstrating logistic regression\n",
    "- one-vs-all multi-class classification procedure"
   ]
  },
  {
   "cell_type": "markdown",
   "metadata": {},
   "source": [
    "**Notation:**\n",
    "\n",
    "- $\\theta_{j}$: weights, $j=1,...,n$\n",
    "- $x^{(i)}_{j}$: the $j$-th feature of the $i$-th sample, $i=1,..,m$, $j=1,...,n$\n",
    "- $y^{(i)}$: $i$-th label, $i=1,..,m$\n",
    "\n",
    "\n",
    "**Vectorized form:**\n",
    "\n",
    "Design/data matrix/features:\n",
    "\n",
    "\\begin{equation}\n",
    "    X\n",
    "    =\n",
    "    \\begin{bmatrix}\n",
    "    -- (x^{(1)})^{T} -- \\\\\n",
    "    -- (x^{(2)})^{T} -- \\\\\n",
    "    ... \\\\\n",
    "    -- (x^{(m)})^{T} --\n",
    "    \\end{bmatrix}\n",
    "\\end{equation}\n",
    "\n",
    "Parameters/weights:\n",
    "\n",
    "\\begin{equation}\n",
    "    \\theta\n",
    "    =\n",
    "    \\begin{bmatrix}\n",
    "    \\theta_{1} \\\\\n",
    "    \\theta_{2} \\\\\n",
    "    ... \\\\\n",
    "    \\theta_{n}\n",
    "    \\end{bmatrix}\n",
    "\\end{equation}\n",
    "\n",
    "Labels:\n",
    "\n",
    "\\begin{equation}\n",
    "    y\n",
    "    =\n",
    "    \\begin{bmatrix}\n",
    "    y^{(1)} \\\\\n",
    "    y^{(2)} \\\\\n",
    "    ... \\\\\n",
    "    y^{(m)}\n",
    "    \\end{bmatrix}\n",
    "\\end{equation}\n",
    "\n",
    "**Dimensions:**\n",
    "- $m$: number of samples\n",
    "- $n$: number of weights"
   ]
  },
  {
   "cell_type": "markdown",
   "metadata": {},
   "source": [
    "### Model:\n",
    "\n",
    "Logistics function:\n",
    "\n",
    "\\begin{equation}\n",
    "    h_{\\theta}(x^{(i)})\n",
    "    =\n",
    "    \\sigma(\\theta^{T} x^{(i)})\n",
    "    =\n",
    "    \\frac{1}{1 + e^{- \\theta^{T} x^{(i)} }}\n",
    "\\end{equation}\n",
    "\n",
    "where $\\sigma(z)$ is the sigmoid function:\n",
    "\n",
    "\\begin{equation}\n",
    "    \\sigma(z)\n",
    "    =\n",
    "    \\frac{1}{1 + e^{-z}}\n",
    "\\end{equation}\n",
    "\n",
    "We wish to achive:\n",
    "\n",
    "\\begin{equation}\n",
    "h_{\\theta}(x^{(i)}) \\simeq y^{(i)}\n",
    "\\end{equation}"
   ]
  },
  {
   "cell_type": "markdown",
   "metadata": {},
   "source": [
    "### Cost function\n",
    "\n",
    "\\begin{equation}\n",
    "    J(\\theta)\n",
    "    =\n",
    "    \\frac{1}{m}\n",
    "    \\sum_{i=1}^{m}\n",
    "    \\left[\n",
    "        -y^{(i)} \\log( h_{\\theta}(x^{(i)}) - (1-y^{(i)}) \\log(1-h_{\\theta}(x^{(i)})\n",
    "    \\right]\n",
    "    +\n",
    "    \\frac{\\lambda}{2m}\n",
    "    \\sum_{j=1}^{n}\n",
    "    \\theta^{2}_{j}\n",
    "\\end{equation}"
   ]
  },
  {
   "cell_type": "markdown",
   "metadata": {},
   "source": [
    "### Gradient\n",
    "\n",
    "The $j=0$ component:\n",
    "\n",
    "\\begin{equation}\n",
    "    \\frac{\\partial J}{\\partial \\theta_{j}}\n",
    "    =\n",
    "    \\frac{1}{m}\n",
    "    \\sum_{i=1}^{m}\n",
    "    \\left[\n",
    "        (\n",
    "        h_{\\theta} (x^{(i)})\n",
    "        -\n",
    "        y^{(i)}\n",
    "        )\n",
    "        x^{(i)}_{j}\n",
    "    \\right]\n",
    "\\end{equation}\n",
    "\n",
    "$j \\neq 0$ components:\n",
    "\n",
    "\\begin{equation}\n",
    "    \\frac{\\partial J}{\\partial \\theta_{j}}\n",
    "    =\n",
    "    \\frac{1}{m}\n",
    "    \\sum_{i=1}^{m}\n",
    "    \\left[\n",
    "        (\n",
    "        h_{\\theta} (x^{(i)})\n",
    "        -\n",
    "        y^{(i)}\n",
    "        )\n",
    "        x^{(i)}_{j}\n",
    "    \\right]\n",
    "    +\n",
    "    \\frac{\\lambda}{m} \\theta_{j}\n",
    "\\end{equation}\n",
    "\n",
    "Vectorized form:\n",
    "\n",
    "\\begin{equation}\n",
    "    \\underline{\\theta}'\n",
    "    =\n",
    "    \\begin{bmatrix}\n",
    "        0 \\\\\n",
    "        \\theta_{1} \\\\\n",
    "        \\theta_{2} \\\\\n",
    "        ... \\\\\n",
    "        \\theta_{n}\n",
    "    \\end{bmatrix}\n",
    "\\end{equation}\n",
    "\n",
    "\\begin{equation}\n",
    "    \\nabla_{\\theta} J\n",
    "    =\n",
    "    \\frac{1}{m}\n",
    "    \\underline{\\underline{X}}^{T}\n",
    "    (\n",
    "        \\underline{h_{\\theta}}(x)\n",
    "        -\n",
    "        \\underline{y}\n",
    "    )\n",
    "    +\n",
    "    \\frac{\\lambda}{m}\n",
    "    \\underline{\\theta'}\n",
    "\\end{equation}"
   ]
  },
  {
   "cell_type": "code",
   "execution_count": 1,
   "metadata": {},
   "outputs": [
    {
     "name": "stdout",
     "output_type": "stream",
     "text": [
      "The autoreload extension is already loaded. To reload it, use:\n",
      "  %reload_ext autoreload\n"
     ]
    }
   ],
   "source": [
    "import os\n",
    "setup_script = os.path.join(os.environ['ENV_JUPYTER_SETUPS_DIR'], 'setup_sci_env_basic.py')\n",
    "%run $setup_script"
   ]
  },
  {
   "cell_type": "code",
   "execution_count": 2,
   "metadata": {
    "collapsed": true
   },
   "outputs": [],
   "source": [
    "import scipy.io\n",
    "from scipy import optimize\n",
    "import matplotlib.colors as mcolors"
   ]
  },
  {
   "cell_type": "code",
   "execution_count": 3,
   "metadata": {},
   "outputs": [
    {
     "name": "stdout",
     "output_type": "stream",
     "text": [
      "1.13.1\n",
      "0.19.1\n"
     ]
    }
   ],
   "source": [
    "print(np.__version__)\n",
    "print(scipy.__version__)"
   ]
  },
  {
   "cell_type": "code",
   "execution_count": 4,
   "metadata": {
    "collapsed": true
   },
   "outputs": [],
   "source": [
    "load_mpl_style('single_plot.mplstyle')\n",
    "ignore_warnings()"
   ]
  },
  {
   "cell_type": "markdown",
   "metadata": {},
   "source": [
    "Load in .mat datafile containing the digits"
   ]
  },
  {
   "cell_type": "code",
   "execution_count": 5,
   "metadata": {
    "collapsed": true
   },
   "outputs": [],
   "source": [
    "data = scipy.io.loadmat('ex3data1.mat')"
   ]
  },
  {
   "cell_type": "code",
   "execution_count": 6,
   "metadata": {
    "collapsed": true
   },
   "outputs": [],
   "source": [
    "features = data['X']\n",
    "labels = data['y'][:,0]\n",
    "X = np.insert(data['X'], 0, 1, axis=1)\n",
    "y = data['y'][:,0]"
   ]
  },
  {
   "cell_type": "markdown",
   "metadata": {},
   "source": [
    "Replace all 10s (denoting a 0 digit) with 0s in order to more seamlessly conform to convention of indexing in python (0,...,K-1)"
   ]
  },
  {
   "cell_type": "code",
   "execution_count": 7,
   "metadata": {
    "collapsed": true
   },
   "outputs": [],
   "source": [
    "y[y==10] = 0"
   ]
  },
  {
   "cell_type": "markdown",
   "metadata": {},
   "source": [
    "### Examples"
   ]
  },
  {
   "cell_type": "code",
   "execution_count": 8,
   "metadata": {
    "collapsed": true
   },
   "outputs": [],
   "source": [
    "def show_digit(flat_pixels):\n",
    "    img = flat_pixels.reshape([20,20])\n",
    "    img_rot = np.rot90(img)\n",
    "    plt.imshow(img_rot, cmap='gray_r', origin='lower');"
   ]
  },
  {
   "cell_type": "code",
   "execution_count": 9,
   "metadata": {},
   "outputs": [
    {
     "name": "stdout",
     "output_type": "stream",
     "text": [
      "[2]\n"
     ]
    },
    {
     "data": {
      "image/png": "[encoded data removed]",
      "text/plain": [
       "<matplotlib.figure.Figure at 0x7fa5f0f8e898>"
      ]
     },
     "metadata": {},
     "output_type": "display_data"
    }
   ],
   "source": [
    "pick = 1012\n",
    "show_digit(data['X'][pick]);\n",
    "print(data['y'][pick])"
   ]
  },
  {
   "cell_type": "markdown",
   "metadata": {},
   "source": [
    "Pick a couple of images at random"
   ]
  },
  {
   "cell_type": "code",
   "execution_count": 10,
   "metadata": {
    "collapsed": true
   },
   "outputs": [],
   "source": [
    "picks = np.random.choice(data['X'].shape[0], 10)"
   ]
  },
  {
   "cell_type": "code",
   "execution_count": 11,
   "metadata": {},
   "outputs": [
    {
     "data": {
      "image/png": "[encoded data removed]",
      "text/plain": [
       "<matplotlib.figure.Figure at 0x7fa5f0cda630>"
      ]
     },
     "metadata": {},
     "output_type": "display_data"
    }
   ],
   "source": [
    "f,a = plt.subplots()\n",
    "a.imshow(data['X'][picks].reshape(-1,20).T, cmap='gray_r')\n",
    "a.axis('off');"
   ]
  },
  {
   "cell_type": "markdown",
   "metadata": {},
   "source": [
    "### Function definitions"
   ]
  },
  {
   "cell_type": "code",
   "execution_count": 12,
   "metadata": {
    "collapsed": true
   },
   "outputs": [],
   "source": [
    "def sigmoid(z):\n",
    "    s = 1.0 / ( 1.0 + np.exp(-z) )\n",
    "    return s"
   ]
  },
  {
   "cell_type": "markdown",
   "metadata": {},
   "source": [
    "Hypothesis:\n",
    "\n",
    "\\begin{equation}\n",
    "    h_{\\theta}(x^{(i)})\n",
    "    =\n",
    "    \\sigma(\\theta^{T} x^{(i)})\n",
    "    =\n",
    "    \\frac{1}{1 + e^{- \\theta^{T} x^{(i)} }}\n",
    "\\end{equation}"
   ]
  },
  {
   "cell_type": "code",
   "execution_count": 13,
   "metadata": {
    "collapsed": true
   },
   "outputs": [],
   "source": [
    "def hypothesis(theta,X):\n",
    "    z = X.dot(theta)\n",
    "    h = sigmoid(z)\n",
    "    return h"
   ]
  },
  {
   "cell_type": "markdown",
   "metadata": {},
   "source": [
    "Cost function:\n",
    "\n",
    "\\begin{equation}\n",
    "    J(\\theta)\n",
    "    =\n",
    "    \\frac{1}{m}\n",
    "    \\sum_{i=1}^{m}\n",
    "    \\left[\n",
    "        -y^{(i)} \\log( h_{\\theta}(x^{(i)}) - (1-y^{(i)}) \\log(1-h_{\\theta}(x^{(i)})\n",
    "    \\right]\n",
    "    +\n",
    "    \\frac{\\lambda}{2m}\n",
    "    \\sum_{j=1}^{n}\n",
    "    \\theta^{2}_{j}\n",
    "\\end{equation}"
   ]
  },
  {
   "cell_type": "code",
   "execution_count": 14,
   "metadata": {
    "collapsed": true
   },
   "outputs": [],
   "source": [
    "def cost_function(theta, X, y, lam=0):\n",
    "    \"\"\" theta: nx1\n",
    "        X: mxn\n",
    "        theta: nx1\n",
    "        lam: 1\n",
    "    \"\"\"\n",
    "    m = len(X)\n",
    "    h = hypothesis(theta, X)\n",
    "    cost_vector = -y * np.log(h) - (1.0-y)*np.log(1.0 - h)\n",
    "    regularization_term = np.sum(theta**2) * lam/(2.0*m)\n",
    "    cost = np.sum(cost_vector)/m + regularization_term\n",
    "    return cost"
   ]
  },
  {
   "cell_type": "markdown",
   "metadata": {},
   "source": [
    "The $j=0$ component:\n",
    "\n",
    "\\begin{equation}\n",
    "    \\frac{\\partial J}{\\partial \\theta_{j}}\n",
    "    =\n",
    "    \\frac{1}{m}\n",
    "    \\sum_{i=1}^{m}\n",
    "    \\left[\n",
    "        (\n",
    "        h_{\\theta} (x^{(i)})\n",
    "        -\n",
    "        y^{(i)}\n",
    "        )\n",
    "        x^{(i)}_{j}\n",
    "    \\right]\n",
    "\\end{equation}\n",
    "\n",
    "$j \\neq 0$ components:\n",
    "\n",
    "\\begin{equation}\n",
    "    \\frac{\\partial J}{\\partial \\theta_{j}}\n",
    "    =\n",
    "    \\frac{1}{m}\n",
    "    \\sum_{i=1}^{m}\n",
    "    \\left[\n",
    "        (\n",
    "        h_{\\theta} (x^{(i)})\n",
    "        -\n",
    "        y^{(i)}\n",
    "        )\n",
    "        x^{(i)}_{j}\n",
    "    \\right]\n",
    "    +\n",
    "    \\frac{\\lambda}{m} \\theta_{j}\n",
    "\\end{equation}"
   ]
  },
  {
   "cell_type": "code",
   "execution_count": 15,
   "metadata": {
    "collapsed": true
   },
   "outputs": [],
   "source": [
    "def gradient(theta, X, y, lam=0):\n",
    "    \"\"\"- X: mxn\n",
    "       - y: mx1\n",
    "       - theta: nx1\n",
    "       - lam: 1\"\"\"\n",
    "    m = len(X)\n",
    "    h = hypothesis(theta,X)\n",
    "    thetap = theta\n",
    "    thetap[0] = 0\n",
    "    gradient = (X.transpose().dot(h-y) + lam*thetap)/m\n",
    "    return gradient"
   ]
  },
  {
   "cell_type": "code",
   "execution_count": 16,
   "metadata": {
    "collapsed": true
   },
   "outputs": [],
   "source": [
    "def accuracy(yreal, ypred):\n",
    "    m = len(yreal)\n",
    "    correct = 0\n",
    "    for yr, yp in zip(yreal,ypred):\n",
    "        if np.abs(yr-yp) <= 0.5:\n",
    "            correct += 1\n",
    "        else:\n",
    "            pass\n",
    "            \n",
    "    accuracy = correct/m\n",
    "    return accuracy"
   ]
  },
  {
   "cell_type": "markdown",
   "metadata": {},
   "source": [
    "## Single class logistic regression"
   ]
  },
  {
   "cell_type": "markdown",
   "metadata": {},
   "source": [
    "Train on a single, specific digit"
   ]
  },
  {
   "cell_type": "code",
   "execution_count": 17,
   "metadata": {
    "collapsed": true
   },
   "outputs": [],
   "source": [
    "digit = 2"
   ]
  },
  {
   "cell_type": "markdown",
   "metadata": {},
   "source": [
    "Create target vector"
   ]
  },
  {
   "cell_type": "code",
   "execution_count": 18,
   "metadata": {
    "collapsed": true
   },
   "outputs": [],
   "source": [
    "y_single = (labels == digit).astype(int)"
   ]
  },
  {
   "cell_type": "code",
   "execution_count": 19,
   "metadata": {
    "collapsed": true
   },
   "outputs": [],
   "source": [
    "index = np.where(y == 1)[0][100]"
   ]
  },
  {
   "cell_type": "code",
   "execution_count": 20,
   "metadata": {},
   "outputs": [
    {
     "data": {
      "text/plain": [
       "600"
      ]
     },
     "execution_count": 20,
     "metadata": {},
     "output_type": "execute_result"
    }
   ],
   "source": [
    "index"
   ]
  },
  {
   "cell_type": "code",
   "execution_count": 21,
   "metadata": {},
   "outputs": [
    {
     "data": {
      "image/png": "[encoded data removed]",
      "text/plain": [
       "<matplotlib.figure.Figure at 0x7fa5f0b903c8>"
      ]
     },
     "metadata": {},
     "output_type": "display_data"
    }
   ],
   "source": [
    "show_digit(data['X'][index]);"
   ]
  },
  {
   "cell_type": "code",
   "execution_count": 22,
   "metadata": {
    "collapsed": true
   },
   "outputs": [],
   "source": [
    "theta0 = np.random.uniform(high=0.1, size=401)"
   ]
  },
  {
   "cell_type": "code",
   "execution_count": 23,
   "metadata": {},
   "outputs": [
    {
     "data": {
      "text/plain": [
       "2.4560490333488256"
      ]
     },
     "execution_count": 23,
     "metadata": {},
     "output_type": "execute_result"
    }
   ],
   "source": [
    "cost_function(theta0, X, y_single)"
   ]
  },
  {
   "cell_type": "code",
   "execution_count": 24,
   "metadata": {},
   "outputs": [
    {
     "data": {
      "text/plain": [
       "array([  8.17692028e-01,   0.00000000e+00,   0.00000000e+00,\n",
       "         1.29905114e-07,  -1.67033032e-06,  -2.55641098e-06,\n",
       "         1.14282657e-04,   1.33192908e-04,   6.58472022e-05,\n",
       "         1.32625283e-05,   3.97989108e-05,   1.32937614e-05,\n",
       "        -1.00571821e-05,  -2.19648950e-05,  -3.75615938e-05,\n",
       "        -5.25716904e-05,  -3.94095117e-05,  -1.35286223e-05,\n",
       "        -8.33477829e-08,   1.40112731e-07,   0.00000000e+00,\n",
       "         4.74300312e-08,  -3.89351643e-07,  -1.58990830e-06,\n",
       "        -4.16408201e-06,  -2.62760216e-05,   1.11745988e-04,\n",
       "         5.42530448e-04,   8.10915100e-04,   6.42603203e-04,\n",
       "         2.32634136e-04,  -9.19419207e-05,  -1.61811773e-04,\n",
       "        -9.96706532e-05,  -4.59732105e-05,   8.06746211e-05,\n",
       "         8.83515571e-05,   8.53653082e-08,  -4.57395506e-05,\n",
       "        -7.75375288e-06,  -1.58734105e-06,  -4.06750272e-07,\n",
       "         3.65619483e-06,  -1.55997861e-05,   1.75581178e-04,\n",
       "         8.49290379e-04,   2.31485209e-03,   4.06318094e-03,\n",
       "         4.94063237e-03,   3.71443868e-03,   1.69680523e-03,\n",
       "         9.83488546e-04,   7.67417104e-04,   1.66142452e-03,\n",
       "         4.28891734e-03,   5.79793516e-03,   3.89934963e-03,\n",
       "         1.50344936e-03,   4.38346521e-04,  -1.59356701e-05,\n",
       "         5.07358209e-06,  -1.72427828e-06,   4.51738315e-06,\n",
       "         5.68235945e-05,   1.19952398e-03,   4.08448574e-03,\n",
       "         1.06011068e-02,   1.68385384e-02,   1.97111146e-02,\n",
       "         1.94995620e-02,   1.99067218e-02,   2.41054401e-02,\n",
       "         2.85316641e-02,   3.33244444e-02,   3.87054831e-02,\n",
       "         3.99352009e-02,   2.88119146e-02,   1.29720417e-02,\n",
       "         3.59677716e-03,   6.54424788e-04,   1.33569579e-04,\n",
       "        -2.13579445e-06,  -2.07132666e-05,   2.06600953e-04,\n",
       "         3.21214802e-03,   1.24203993e-02,   2.77206193e-02,\n",
       "         4.47929052e-02,   5.60827509e-02,   6.51503446e-02,\n",
       "         7.94981086e-02,   9.44703828e-02,   9.83407689e-02,\n",
       "         9.38496481e-02,   1.00407811e-01,   1.09236894e-01,\n",
       "         9.09473093e-02,   4.81112454e-02,   1.40788317e-02,\n",
       "         3.87180849e-03,   8.51330774e-04,   3.11976332e-05,\n",
       "         7.48626878e-05,   3.67343778e-04,   8.72994110e-03,\n",
       "         3.20557238e-02,   6.93593017e-02,   1.10099618e-01,\n",
       "         1.39743945e-01,   1.67160238e-01,   1.95579406e-01,\n",
       "         2.02541996e-01,   1.82401123e-01,   1.58579094e-01,\n",
       "         1.57919062e-01,   1.81121136e-01,   1.82460419e-01,\n",
       "         1.23052463e-01,   4.52849961e-02,   1.34821305e-02,\n",
       "         2.37479490e-03,   6.62579957e-05,   4.23174865e-04,\n",
       "         1.43383181e-03,   1.86412501e-02,   6.74378429e-02,\n",
       "         1.42531977e-01,   2.08871885e-01,   2.57477109e-01,\n",
       "         2.90297975e-01,   3.08436066e-01,   2.92255408e-01,\n",
       "         2.47224218e-01,   2.00802463e-01,   1.88102923e-01,\n",
       "         2.23309163e-01,   2.62634044e-01,   2.21709298e-01,\n",
       "         9.53058444e-02,   2.54938354e-02,   3.64306689e-03,\n",
       "         1.09736836e-05,   7.43627710e-04,   4.23102971e-03,\n",
       "         4.20192509e-02,   1.29963781e-01,   2.40803757e-01,\n",
       "         3.23445791e-01,   3.60653228e-01,   3.59683411e-01,\n",
       "         3.47971175e-01,   3.19345119e-01,   2.74591336e-01,\n",
       "         2.23410403e-01,   2.10148761e-01,   2.56020682e-01,\n",
       "         3.33236908e-01,   3.19607368e-01,   1.48820338e-01,\n",
       "         3.44990434e-02,   4.73417255e-03,   1.98206753e-06,\n",
       "         6.17755551e-04,   8.89395342e-03,   7.85604042e-02,\n",
       "         2.06636736e-01,   3.34939534e-01,   3.95031427e-01,\n",
       "         3.66300316e-01,   3.22800830e-01,   3.14898433e-01,\n",
       "         3.20365298e-01,   3.01058068e-01,   2.44750323e-01,\n",
       "         2.25184045e-01,   2.91176541e-01,   3.91443253e-01,\n",
       "         3.77568953e-01,   1.75446032e-01,   3.45477780e-02,\n",
       "         5.22115961e-03,  -8.85063058e-05,   1.09706797e-03,\n",
       "         1.68918121e-02,   1.23725351e-01,   2.87481219e-01,\n",
       "         4.06645325e-01,   3.96862265e-01,   3.04230005e-01,\n",
       "         2.64948258e-01,   3.07016338e-01,   3.68814247e-01,\n",
       "         3.54425963e-01,   2.83103707e-01,   2.69119445e-01,\n",
       "         3.47314303e-01,   4.32232011e-01,   3.84969391e-01,\n",
       "         1.74180573e-01,   3.35074626e-02,   5.52278954e-03,\n",
       "        -3.15660344e-04,   3.04829687e-03,   3.03623764e-02,\n",
       "         1.71531043e-01,   3.58579732e-01,   4.36680246e-01,\n",
       "         3.59979502e-01,   2.58289542e-01,   2.59675222e-01,\n",
       "         3.49268121e-01,   4.26033653e-01,   4.02777202e-01,\n",
       "         3.39729037e-01,   3.32377865e-01,   3.94459564e-01,\n",
       "         4.30899273e-01,   3.38903515e-01,   1.45790158e-01,\n",
       "         3.09906755e-02,   4.98038533e-03,  -5.40435787e-04,\n",
       "         5.69075361e-03,   4.19585844e-02,   1.93482171e-01,\n",
       "         3.75909112e-01,   4.31921775e-01,   3.48596597e-01,\n",
       "         2.74830656e-01,   3.00334431e-01,   3.95663554e-01,\n",
       "         4.49551494e-01,   4.12564822e-01,   3.59711467e-01,\n",
       "         3.55488081e-01,   3.91207983e-01,   3.72300273e-01,\n",
       "         2.54790506e-01,   1.02898536e-01,   2.43575569e-02,\n",
       "         3.63545031e-03,  -6.75316356e-04,   6.98811348e-03,\n",
       "         4.32683565e-02,   1.81973283e-01,   3.42924938e-01,\n",
       "         4.10951387e-01,   3.66506714e-01,   3.21253207e-01,\n",
       "         3.42101175e-01,   3.96239845e-01,   4.14107556e-01,\n",
       "         3.83329689e-01,   3.44663115e-01,   3.40254930e-01,\n",
       "         3.36758836e-01,   2.68714085e-01,   1.59317146e-01,\n",
       "         6.08573128e-02,   1.55301629e-02,   2.21206179e-03,\n",
       "        -5.23038774e-04,   5.06161827e-03,   3.13122032e-02,\n",
       "         1.40303310e-01,   2.76204228e-01,   3.58550810e-01,\n",
       "         3.58523887e-01,   3.28161530e-01,   3.19699101e-01,\n",
       "         3.16990151e-01,   3.09002503e-01,   2.99772456e-01,\n",
       "         2.88092652e-01,   2.74667209e-01,   2.36395734e-01,\n",
       "         1.61101988e-01,   8.51440385e-02,   3.16223524e-02,\n",
       "         7.56093172e-03,   7.94473225e-04,  -1.96828805e-04,\n",
       "         2.30635684e-03,   1.63020495e-02,   8.72534765e-02,\n",
       "         1.86810033e-01,   2.68052723e-01,   2.91162458e-01,\n",
       "         2.70034457e-01,   2.36981295e-01,   2.13160354e-01,\n",
       "         2.10004247e-01,   2.13659617e-01,   2.06331276e-01,\n",
       "         1.77656263e-01,   1.33851110e-01,   7.90516643e-02,\n",
       "         3.84502505e-02,   1.60096746e-02,   4.55700782e-03,\n",
       "         3.52559230e-04,  -2.59936195e-05,   5.35101943e-04,\n",
       "         5.64770427e-03,   4.18886378e-02,   1.02484800e-01,\n",
       "         1.58628416e-01,   1.79110392e-01,   1.59924960e-01,\n",
       "         1.33212697e-01,   1.25605878e-01,   1.29957039e-01,\n",
       "         1.28167289e-01,   1.13365144e-01,   8.69866527e-02,\n",
       "         5.63735459e-02,   2.80375340e-02,   1.34501566e-02,\n",
       "         6.73248700e-03,   2.36045478e-03,   3.31078453e-04,\n",
       "         2.49036676e-06,  -1.10672870e-04,   1.68046924e-03,\n",
       "         2.01479190e-02,   5.41044097e-02,   8.21941588e-02,\n",
       "         8.48104841e-02,   6.99146617e-02,   6.15213303e-02,\n",
       "         6.41805343e-02,   6.66568768e-02,   6.13066506e-02,\n",
       "         4.70908316e-02,   3.08614680e-02,   1.70750412e-02,\n",
       "         7.93863801e-03,   3.92800920e-03,   2.05233177e-03,\n",
       "         7.32504988e-04,   1.15073289e-04,  -5.06137893e-07,\n",
       "        -7.89548563e-05,   1.54451775e-04,   6.57018716e-03,\n",
       "         2.18725729e-02,   3.23398473e-02,   2.64222538e-02,\n",
       "         1.47922298e-02,   1.36926660e-02,   1.75285689e-02,\n",
       "         1.85424007e-02,   1.61514943e-02,   1.07486600e-02,\n",
       "         4.77315458e-03,   2.22764694e-03,   1.23636951e-03,\n",
       "         5.24515006e-04,   1.70811545e-04,   6.76490935e-05,\n",
       "        -8.38095852e-06,   2.27377996e-08,   7.58717970e-07,\n",
       "        -8.90779160e-05,   3.86228742e-04,   3.89563387e-03,\n",
       "         7.77263242e-03,   4.75857778e-03,   8.22054936e-04,\n",
       "        -7.27591464e-05,   1.16061377e-04,   4.51514855e-04,\n",
       "         1.87245902e-04,  -1.12005409e-04,  -3.07453108e-04,\n",
       "        -1.51937369e-04,   1.72661171e-04,   3.38329975e-05,\n",
       "        -3.54888249e-05,  -9.41605152e-06,  -7.89233570e-07,\n",
       "         0.00000000e+00,   2.29954391e-07,  -3.73328014e-06,\n",
       "        -7.81863047e-06,   2.81753791e-04,   4.42107118e-04,\n",
       "         9.01488367e-05,  -2.40445860e-05,   8.43065859e-05,\n",
       "        -4.70859991e-05,  -1.00236967e-04,  -2.92703430e-05,\n",
       "         3.83852923e-05,   1.15688225e-04,   3.61794444e-05,\n",
       "         6.18731357e-05,   6.38730851e-06,  -1.35838782e-06,\n",
       "         2.79705581e-08,   0.00000000e+00])"
      ]
     },
     "execution_count": 24,
     "metadata": {},
     "output_type": "execute_result"
    }
   ],
   "source": [
    "gradient(theta0,X,y_single,lam=0.0)"
   ]
  },
  {
   "cell_type": "code",
   "execution_count": 25,
   "metadata": {
    "collapsed": true
   },
   "outputs": [],
   "source": [
    "h = hypothesis(theta0, X)"
   ]
  },
  {
   "cell_type": "code",
   "execution_count": 26,
   "metadata": {},
   "outputs": [
    {
     "data": {
      "text/plain": [
       "array([ 0.95624139,  0.97386863,  0.97605505, ...,  0.84114006,\n",
       "        0.97548041,  0.96681957])"
      ]
     },
     "execution_count": 26,
     "metadata": {},
     "output_type": "execute_result"
    }
   ],
   "source": [
    "h"
   ]
  },
  {
   "cell_type": "markdown",
   "metadata": {},
   "source": [
    "### Optimization"
   ]
  },
  {
   "cell_type": "markdown",
   "metadata": {},
   "source": [
    "Minimize a function using a nonlinear conjugate gradient algorithm, implemented in `scipy.optimize.fmin_cg`\n",
    "\n",
    "Usage:\n",
    "~~~~\n",
    "scipy.optimize.fmin_cg(f, x0, fprime=None, args=(), gtol=1e-05, norm=inf, epsilon=1.4901161193847656e-08, maxiter=None, full_output=0, disp=1, retall=0, callback=None)\n",
    "~~~~"
   ]
  },
  {
   "cell_type": "markdown",
   "metadata": {},
   "source": [
    "Perform optimization with different choices for the regularization parameter $\\lambda$ in the range of $[0,1]$"
   ]
  },
  {
   "cell_type": "code",
   "execution_count": 27,
   "metadata": {
    "collapsed": true
   },
   "outputs": [],
   "source": [
    "lambdas = np.linspace(0.0, 3.0, 6)"
   ]
  },
  {
   "cell_type": "code",
   "execution_count": 28,
   "metadata": {},
   "outputs": [
    {
     "name": "stdout",
     "output_type": "stream",
     "text": [
      "Warning: Maximum number of iterations has been exceeded.\n",
      "         Current function value: 0.051737\n",
      "         Iterations: 50\n",
      "         Function evaluations: 141\n",
      "         Gradient evaluations: 141\n",
      "Warning: Maximum number of iterations has been exceeded.\n",
      "         Current function value: 0.065291\n",
      "         Iterations: 50\n",
      "         Function evaluations: 142\n",
      "         Gradient evaluations: 142\n",
      "Warning: Maximum number of iterations has been exceeded.\n",
      "         Current function value: 0.071832\n",
      "         Iterations: 50\n",
      "         Function evaluations: 141\n",
      "         Gradient evaluations: 141\n",
      "Warning: Maximum number of iterations has been exceeded.\n",
      "         Current function value: 0.076051\n",
      "         Iterations: 50\n",
      "         Function evaluations: 140\n",
      "         Gradient evaluations: 140\n",
      "Warning: Desired error not necessarily achieved due to precision loss.\n",
      "         Current function value: 0.080087\n",
      "         Iterations: 33\n",
      "         Function evaluations: 169\n",
      "         Gradient evaluations: 157\n",
      "Warning: Desired error not necessarily achieved due to precision loss.\n",
      "         Current function value: 0.082755\n",
      "         Iterations: 42\n",
      "         Function evaluations: 205\n",
      "         Gradient evaluations: 193\n"
     ]
    }
   ],
   "source": [
    "theta_opts, theta_iters = {}, {}\n",
    "for lam in lambdas:\n",
    "    theta_opt, theta_iter = optimize.fmin_cg(f=cost_function, fprime=gradient, x0=theta0, args=(X, y_single, lam), maxiter=50, retall=True)\n",
    "    theta_opts[lam] = theta_opt\n",
    "    theta_iters[lam] = theta_iter"
   ]
  },
  {
   "cell_type": "markdown",
   "metadata": {},
   "source": [
    "### Evolution of cost function with the number of iterations"
   ]
  },
  {
   "cell_type": "code",
   "execution_count": 29,
   "metadata": {
    "collapsed": true
   },
   "outputs": [],
   "source": [
    "costs = {}\n",
    "for lam, theta_iter in theta_iters.items():\n",
    "    costs[lam] = [cost_function(theta, X, y_single, lam) for theta in theta_iter]"
   ]
  },
  {
   "cell_type": "code",
   "execution_count": 30,
   "metadata": {},
   "outputs": [
    {
     "data": {
      "text/plain": [
       "<matplotlib.legend.Legend at 0x7fa5f0a2ea90>"
      ]
     },
     "execution_count": 30,
     "metadata": {},
     "output_type": "execute_result"
    },
    {
     "data": {
      "image/png": "[encoded data removed]",
      "text/plain": [
       "<matplotlib.figure.Figure at 0x7fa5f0c4f908>"
      ]
     },
     "metadata": {},
     "output_type": "display_data"
    }
   ],
   "source": [
    "f,a = plt.subplots()\n",
    "for lam, cost in costs.items():\n",
    "    a.plot(cost, label=\"$\\lambda = {}$\".format(lam))\n",
    "a.set_yscale('log')\n",
    "a.set_xlabel('Iteration number')\n",
    "a.set_ylabel('Cost function')\n",
    "plt.legend()"
   ]
  },
  {
   "cell_type": "markdown",
   "metadata": {},
   "source": [
    "The $l^{2}$ norm of the parameter vector $\\theta$:"
   ]
  },
  {
   "cell_type": "code",
   "execution_count": 31,
   "metadata": {
    "collapsed": true
   },
   "outputs": [],
   "source": [
    "theta_l2 = [np.mean(theta_opt**2) for lam, theta_opt in theta_opts.items()]"
   ]
  },
  {
   "cell_type": "code",
   "execution_count": 32,
   "metadata": {},
   "outputs": [
    {
     "data": {
      "text/plain": [
       "<matplotlib.text.Text at 0x7fa5f0991ac8>"
      ]
     },
     "execution_count": 32,
     "metadata": {},
     "output_type": "execute_result"
    },
    {
     "data": {
      "image/png": "[encoded data removed]",
      "text/plain": [
       "<matplotlib.figure.Figure at 0x7fa5ec3c3668>"
      ]
     },
     "metadata": {},
     "output_type": "display_data"
    }
   ],
   "source": [
    "f,a = plt.subplots()\n",
    "a.bar(lambdas, theta_l2, align='center', edgecolor='k', width=0.25)\n",
    "a.set_xlabel('$\\lambda$')\n",
    "a.set_ylabel(r'$l^{2}$ norm of $\\theta$')"
   ]
  },
  {
   "cell_type": "markdown",
   "metadata": {},
   "source": [
    "### Accuracy"
   ]
  },
  {
   "cell_type": "code",
   "execution_count": 33,
   "metadata": {},
   "outputs": [
    {
     "data": {
      "text/plain": [
       "array([0, 0, 0, ..., 0, 0, 0])"
      ]
     },
     "execution_count": 33,
     "metadata": {},
     "output_type": "execute_result"
    }
   ],
   "source": [
    "y_single"
   ]
  },
  {
   "cell_type": "markdown",
   "metadata": {},
   "source": [
    "Get the predicted $y$ values:"
   ]
  },
  {
   "cell_type": "code",
   "execution_count": 34,
   "metadata": {
    "collapsed": true
   },
   "outputs": [],
   "source": [
    "y_predicted = hypothesis(theta_opts[0],X)"
   ]
  },
  {
   "cell_type": "code",
   "execution_count": 35,
   "metadata": {},
   "outputs": [
    {
     "data": {
      "text/plain": [
       "array([  1.15637918e-04,   7.16384174e-06,   2.28351631e-04, ...,\n",
       "         1.72981774e-03,   1.60655617e-10,   7.84540344e-07])"
      ]
     },
     "execution_count": 35,
     "metadata": {},
     "output_type": "execute_result"
    }
   ],
   "source": [
    "y_predicted"
   ]
  },
  {
   "cell_type": "markdown",
   "metadata": {},
   "source": [
    "Accuracy on the training set (we'd also need the accuracy on the test set)"
   ]
  },
  {
   "cell_type": "code",
   "execution_count": 36,
   "metadata": {},
   "outputs": [
    {
     "data": {
      "text/plain": [
       "0.9834"
      ]
     },
     "execution_count": 36,
     "metadata": {},
     "output_type": "execute_result"
    }
   ],
   "source": [
    "accuracy(y_single, y_predicted)"
   ]
  },
  {
   "cell_type": "markdown",
   "metadata": {},
   "source": [
    "## Multi class classification with the one-vs-all method"
   ]
  },
  {
   "cell_type": "markdown",
   "metadata": {},
   "source": [
    "**Notation**:\n",
    "\n",
    "- $[k]$ class index $[k]=1,...,K$"
   ]
  },
  {
   "cell_type": "markdown",
   "metadata": {},
   "source": [
    "The labels $y$ belong to one of the $K=10$ distinct classes (digits from 0 to 9) and the goal here is to train $K$ separate logistic regression units each specializing in a specific digit."
   ]
  },
  {
   "cell_type": "code",
   "execution_count": 37,
   "metadata": {
    "collapsed": true
   },
   "outputs": [],
   "source": [
    "K = 10"
   ]
  },
  {
   "cell_type": "markdown",
   "metadata": {},
   "source": []
  },
  {
   "cell_type": "code",
   "execution_count": 38,
   "metadata": {
    "collapsed": true
   },
   "outputs": [],
   "source": [
    "lambdas = [1.0]"
   ]
  },
  {
   "cell_type": "code",
   "execution_count": 39,
   "metadata": {
    "collapsed": true
   },
   "outputs": [],
   "source": [
    "theta_opts, theta_iters = {}, {}"
   ]
  },
  {
   "cell_type": "code",
   "execution_count": 40,
   "metadata": {},
   "outputs": [
    {
     "name": "stdout",
     "output_type": "stream",
     "text": [
      "Warning: Desired error not necessarily achieved due to precision loss.\n",
      "         Current function value: 0.022501\n",
      "         Iterations: 47\n",
      "         Function evaluations: 456\n",
      "         Gradient evaluations: 444\n",
      "Warning: Desired error not necessarily achieved due to precision loss.\n",
      "         Current function value: 0.027609\n",
      "         Iterations: 46\n",
      "         Function evaluations: 229\n",
      "         Gradient evaluations: 217\n",
      "Warning: Maximum number of iterations has been exceeded.\n",
      "         Current function value: 0.069872\n",
      "         Iterations: 50\n",
      "         Function evaluations: 146\n",
      "         Gradient evaluations: 146\n",
      "Warning: Maximum number of iterations has been exceeded.\n",
      "         Current function value: 0.074459\n",
      "         Iterations: 50\n",
      "         Function evaluations: 143\n",
      "         Gradient evaluations: 143\n",
      "Warning: Maximum number of iterations has been exceeded.\n",
      "         Current function value: 0.052677\n",
      "         Iterations: 50\n",
      "         Function evaluations: 136\n",
      "         Gradient evaluations: 136\n",
      "Warning: Maximum number of iterations has been exceeded.\n",
      "         Current function value: 0.077389\n",
      "         Iterations: 50\n",
      "         Function evaluations: 131\n",
      "         Gradient evaluations: 131\n",
      "Warning: Maximum number of iterations has been exceeded.\n",
      "         Current function value: 0.035929\n",
      "         Iterations: 50\n",
      "         Function evaluations: 183\n",
      "         Gradient evaluations: 183\n",
      "Warning: Maximum number of iterations has been exceeded.\n",
      "         Current function value: 0.047207\n",
      "         Iterations: 50\n",
      "         Function evaluations: 157\n",
      "         Gradient evaluations: 157\n",
      "Warning: Maximum number of iterations has been exceeded.\n",
      "         Current function value: 0.099795\n",
      "         Iterations: 50\n",
      "         Function evaluations: 139\n",
      "         Gradient evaluations: 139\n",
      "Warning: Maximum number of iterations has been exceeded.\n",
      "         Current function value: 0.092174\n",
      "         Iterations: 50\n",
      "         Function evaluations: 126\n",
      "         Gradient evaluations: 126\n"
     ]
    }
   ],
   "source": [
    "for lam in lambdas:\n",
    "    \n",
    "    n = len(X[0])\n",
    "    theta_opts[lam] = np.zeros((n,K))\n",
    "    theta_iters[lam] = {}\n",
    "    \n",
    "    for k in range(K):\n",
    "        digit = k\n",
    "        y = (labels == digit).astype(int)\n",
    "        \n",
    "        theta0 = np.random.uniform(high=0.1, size=401)\n",
    "        theta_opt, theta_iter = optimize.fmin_cg(f=cost_function, fprime=gradient, x0=theta0, args=(X, y, lam), maxiter=50, retall=True)\n",
    "\n",
    "        theta_opts[lam][:,k]  = theta_opt\n",
    "        theta_iters[lam][k] = theta_iter"
   ]
  },
  {
   "cell_type": "markdown",
   "metadata": {},
   "source": [
    "#### Convergence"
   ]
  },
  {
   "cell_type": "code",
   "execution_count": null,
   "metadata": {
    "collapsed": true
   },
   "outputs": [],
   "source": []
  },
  {
   "cell_type": "markdown",
   "metadata": {},
   "source": [
    "#### Accuracy"
   ]
  },
  {
   "cell_type": "code",
   "execution_count": 41,
   "metadata": {
    "collapsed": true
   },
   "outputs": [],
   "source": [
    "def one_vs_all(theta_opts, X, y):\n",
    "    h = hypothesis(theta_opts, X)\n",
    "    kmax = np.argmax(h, axis=1)\n",
    "    y_pred = kmax\n",
    "    \n",
    "    return y_pred"
   ]
  },
  {
   "cell_type": "code",
   "execution_count": 42,
   "metadata": {
    "collapsed": true
   },
   "outputs": [],
   "source": [
    "y_pred = one_vs_all(theta_opts[1.0], X, y)"
   ]
  },
  {
   "cell_type": "code",
   "execution_count": 43,
   "metadata": {},
   "outputs": [
    {
     "data": {
      "text/plain": [
       "0.9414"
      ]
     },
     "execution_count": 43,
     "metadata": {},
     "output_type": "execute_result"
    }
   ],
   "source": [
    "accuracy(labels, y_pred)"
   ]
  },
  {
   "cell_type": "markdown",
   "metadata": {},
   "source": [
    "### Other statistics"
   ]
  },
  {
   "cell_type": "markdown",
   "metadata": {},
   "source": [
    "#### Confusion matrix"
   ]
  },
  {
   "cell_type": "code",
   "execution_count": 44,
   "metadata": {
    "collapsed": true
   },
   "outputs": [],
   "source": [
    "def plot_confusion_matrix(matrix, cmap='viridis', vmax=0.05, label_format=\"{:.3f}\"):\n",
    "    nx, ny = matrix.shape\n",
    "    f,a = plt.subplots(figsize=(9,9), subplot_kw={'aspect':'equal'})\n",
    "    a.set_ylabel('Truth')\n",
    "    a.set_xlabel('Predicted')\n",
    "    im = a.imshow(matrix, cmap=cmap, vmax=vmax)\n",
    "\n",
    "    for x in range(nx):\n",
    "        for y in range(ny):\n",
    "            label = label_format.format(matrix[x][y])\n",
    "            a.annotate(label, xy=(y, x), \n",
    "                        horizontalalignment='center',\n",
    "                        verticalalignment='center')\n",
    "    cb = f.colorbar(im)\n",
    "    a.set_xticks(range(K));\n",
    "    a.set_yticks(range(K));"
   ]
  },
  {
   "cell_type": "code",
   "execution_count": 45,
   "metadata": {
    "collapsed": true
   },
   "outputs": [],
   "source": [
    "def construct_confusion_matrix(truths, preds):\n",
    "    \n",
    "    K = len(np.unique(truths))\n",
    "    confusion = np.zeros((K,K))\n",
    "    for truth, pred in zip(truths, preds):\n",
    "        confusion[truth][pred] += 1\n",
    "    return confusion"
   ]
  },
  {
   "cell_type": "code",
   "execution_count": 46,
   "metadata": {
    "collapsed": true
   },
   "outputs": [],
   "source": [
    "def normalize_confusion_matrix(confusion):\n",
    "    normalized = (confusion.T / np.sum(confusion, axis=1)).T\n",
    "    return normalized"
   ]
  },
  {
   "cell_type": "code",
   "execution_count": 47,
   "metadata": {
    "collapsed": true
   },
   "outputs": [],
   "source": [
    "confusion = construct_confusion_matrix(labels,y_pred)"
   ]
  },
  {
   "cell_type": "code",
   "execution_count": 48,
   "metadata": {},
   "outputs": [
    {
     "data": {
      "image/png": "[encoded data removed]",
      "text/plain": [
       "<matplotlib.figure.Figure at 0x7fa5f0a01f60>"
      ]
     },
     "metadata": {},
     "output_type": "display_data"
    }
   ],
   "source": [
    "plot_confusion_matrix(confusion, vmax=50, label_format=\"{:.0f}\")"
   ]
  },
  {
   "cell_type": "markdown",
   "metadata": {},
   "source": [
    "**Normalized version**"
   ]
  },
  {
   "cell_type": "code",
   "execution_count": 49,
   "metadata": {
    "collapsed": true
   },
   "outputs": [],
   "source": [
    "confusion_normalized = normalize_confusion_matrix(confusion)"
   ]
  },
  {
   "cell_type": "code",
   "execution_count": 50,
   "metadata": {},
   "outputs": [
    {
     "data": {
      "image/png": "[encoded data removed]",
      "text/plain": [
       "<matplotlib.figure.Figure at 0x7fa5f0ae6080>"
      ]
     },
     "metadata": {},
     "output_type": "display_data"
    }
   ],
   "source": [
    "plot_confusion_matrix(confusion_normalized)"
   ]
  },
  {
   "cell_type": "markdown",
   "metadata": {},
   "source": [
    "## Multi class classification with the one-vs-all method in scikit-learn"
   ]
  },
  {
   "cell_type": "markdown",
   "metadata": {},
   "source": [
    "http://scikit-learn.org/stable/modules/generated/sklearn.linear_model.LogisticRegression.html"
   ]
  },
  {
   "cell_type": "markdown",
   "metadata": {},
   "source": [
    "~~~~\n",
    " class sklearn.linear_model.LogisticRegression(penalty=’l2’, dual=False, tol=0.0001, C=1.0, fit_intercept=True, intercept_scaling=1, class_weight=None, random_state=None, solver=’liblinear’, max_iter=100, multi_class=’ovr’, verbose=0, warm_start=False, n_jobs=1)[source]\n",
    "~~~~"
   ]
  },
  {
   "cell_type": "code",
   "execution_count": 51,
   "metadata": {
    "collapsed": true
   },
   "outputs": [],
   "source": [
    "from sklearn.linear_model import LogisticRegression"
   ]
  },
  {
   "cell_type": "markdown",
   "metadata": {},
   "source": [
    "**Notes about `LogisticRegression`:**\n",
    "- the class automatically infers the number of categories to be classified from the labels, so there is no need to specify the number of classes explicitly\n",
    "- the bias terms are handled internally, therefore it is possible to directly feed the features to it, without prepending the design matrix with the bias column as done above"
   ]
  },
  {
   "cell_type": "code",
   "execution_count": 52,
   "metadata": {
    "collapsed": true
   },
   "outputs": [],
   "source": [
    "clf = LogisticRegression(C=10, penalty='l2', solver='liblinear')"
   ]
  },
  {
   "cell_type": "code",
   "execution_count": 53,
   "metadata": {},
   "outputs": [
    {
     "data": {
      "text/plain": [
       "LogisticRegression(C=10, class_weight=None, dual=False, fit_intercept=True,\n",
       "          intercept_scaling=1, max_iter=100, multi_class='ovr', n_jobs=1,\n",
       "          penalty='l2', random_state=None, solver='liblinear', tol=0.0001,\n",
       "          verbose=0, warm_start=False)"
      ]
     },
     "execution_count": 53,
     "metadata": {},
     "output_type": "execute_result"
    }
   ],
   "source": [
    "clf.fit(data['X'],data['y'])"
   ]
  },
  {
   "cell_type": "code",
   "execution_count": 54,
   "metadata": {
    "collapsed": true
   },
   "outputs": [],
   "source": [
    "y_pred = clf.predict(data['X'])"
   ]
  },
  {
   "cell_type": "code",
   "execution_count": 55,
   "metadata": {},
   "outputs": [
    {
     "data": {
      "text/plain": [
       "array([0, 0, 0, ..., 9, 9, 7], dtype=uint8)"
      ]
     },
     "execution_count": 55,
     "metadata": {},
     "output_type": "execute_result"
    }
   ],
   "source": [
    "y_pred"
   ]
  },
  {
   "cell_type": "code",
   "execution_count": 56,
   "metadata": {},
   "outputs": [
    {
     "data": {
      "text/plain": [
       "0.965"
      ]
     },
     "execution_count": 56,
     "metadata": {},
     "output_type": "execute_result"
    }
   ],
   "source": [
    "accuracy(labels,y_pred)"
   ]
  },
  {
   "cell_type": "code",
   "execution_count": 57,
   "metadata": {
    "collapsed": true
   },
   "outputs": [],
   "source": [
    "confusion_sklearn = construct_confusion_matrix(labels, y_pred)"
   ]
  },
  {
   "cell_type": "code",
   "execution_count": 58,
   "metadata": {
    "collapsed": true
   },
   "outputs": [],
   "source": [
    "confusion_sklearn_normalized = normalize_confusion_matrix(confusion_sklearn)"
   ]
  },
  {
   "cell_type": "code",
   "execution_count": 59,
   "metadata": {},
   "outputs": [
    {
     "data": {
      "image/png": "[encoded data removed]",
      "text/plain": [
       "<matplotlib.figure.Figure at 0x7fa5e418f518>"
      ]
     },
     "metadata": {},
     "output_type": "display_data"
    }
   ],
   "source": [
    "plot_confusion_matrix(confusion_sklearn_normalized)"
   ]
  },
  {
   "cell_type": "markdown",
   "metadata": {},
   "source": [
    "----\n",
    "\n",
    "----\n",
    "\n",
    "----"
   ]
  },
  {
   "cell_type": "markdown",
   "metadata": {},
   "source": [
    "## Test area"
   ]
  },
  {
   "cell_type": "code",
   "execution_count": null,
   "metadata": {
    "collapsed": true
   },
   "outputs": [],
   "source": []
  }
 ],
 "metadata": {
  "kernelspec": {
   "display_name": "Python 3",
   "language": "python",
   "name": "python3"
  },
  "language_info": {
   "codemirror_mode": {
    "name": "ipython",
    "version": 3
   },
   "file_extension": ".py",
   "mimetype": "text/x-python",
   "name": "python",
   "nbconvert_exporter": "python",
   "pygments_lexer": "ipython3",
   "version": "3.6.2"
  }
 },
 "nbformat": 4,
 "nbformat_minor": 2
}
