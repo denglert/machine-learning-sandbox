{
 "cells": [
  {
   "cell_type": "code",
   "execution_count": 7,
   "metadata": {
    "collapsed": true
   },
   "outputs": [],
   "source": [
    "import numpy as np\n",
    "import matplotlib.pyplot as plt\n",
    "%matplotlib inline"
   ]
  },
  {
   "cell_type": "markdown",
   "metadata": {},
   "source": [
    "\n",
    "## Linear classifier"
   ]
  },
  {
   "cell_type": "markdown",
   "metadata": {},
   "source": [
    "Linear classifier:\n",
    "\\begin{equation}\n",
    "    f(x,W) = Wx + b\n",
    "\\end{equation}\n",
    "\n",
    "$f(x,W)$ can be interpreted as a class ''score''."
   ]
  },
  {
   "cell_type": "markdown",
   "metadata": {},
   "source": [
    "#### Features of linear classification:\n",
    "- Linear classificiation learns a single template per class.\n",
    "\n",
    "    In a single layer classifier case, every pixel in each category has an associated weight, which tells us how much that single pixel contributes to the overall score for that class.\n",
    "    \n",
    "    Visualising the learnt template:\n",
    "    Taking the row of the matrix an displaying the weights as the pixel intensity of the image.\n",
    "\n",
    "- Linear decision boundary.\n",
    "    \n",
    "    L"
   ]
  },
  {
   "cell_type": "markdown",
   "metadata": {},
   "source": []
  },
  {
   "cell_type": "markdown",
   "metadata": {},
   "source": [
    "## Loss functions"
   ]
  },
  {
   "cell_type": "markdown",
   "metadata": {},
   "source": [
    "$\\{(x_{i},y_{i})\\}_{i=1}^{N}$\n",
    "\n",
    "where $x_{i}$ is the input data, and $y_{i}$ is the label associated with the data.\n",
    "\n",
    "The loss function can be defined as:\n",
    "\n",
    "\\begin{equation}\n",
    "    L\n",
    "    =\n",
    "    \\sum_{i} L_{i} (f(x_{i},W), y_{i})\n",
    "\\end{equation}\n",
    "\n",
    "\n",
    "$L_{i}$ is a loss for a single instance of the data $i$"
   ]
  },
  {
   "cell_type": "markdown",
   "metadata": {},
   "source": [
    "### Multiclass Support vector machine loss (multi-SVM loss)"
   ]
  },
  {
   "cell_type": "markdown",
   "metadata": {},
   "source": [
    "Hinge loss:\n",
    "\n",
    "\\begin{equation}\n",
    "    \\sum_{j \\neq y_{i}}\n",
    "    \\begin{cases}\n",
    "    0 & \\text{if} ~ s_{y_{i}} \\geq s_{j} + 1 \\\\\n",
    "    s_{j} - s_{y_{i}} + 1 & \\text{otherwise}\n",
    "    \\end{cases}\n",
    "\\end{equation}\n",
    "\n",
    "Note the following:\n",
    "- Here the sum is over the incorrect categories: $j \\neq y_{i}$.\n",
    "- The loss is zero if the score for the true label is larger than by a safety margin of 1 than any of the other score: $s_{y_{i}} \\geq s_{j} + 1$"
   ]
  },
  {
   "cell_type": "code",
   "execution_count": 2,
   "metadata": {
    "collapsed": true
   },
   "outputs": [],
   "source": [
    "def hinge_loss(x):\n",
    "    if x > 1:\n",
    "        return 0\n",
    "    if x <= 1:\n",
    "        return -x"
   ]
  },
  {
   "cell_type": "code",
   "execution_count": 4,
   "metadata": {
    "collapsed": true
   },
   "outputs": [],
   "source": [
    "hinge_loss_vec = np.vectorize(hinge_loss)"
   ]
  },
  {
   "cell_type": "code",
   "execution_count": 5,
   "metadata": {},
   "outputs": [],
   "source": [
    "s = np.linspace(-5.0,5.0,100)\n",
    "L = hinge_loss_vec(s)"
   ]
  },
  {
   "cell_type": "code",
   "execution_count": 8,
   "metadata": {},
   "outputs": [
    {
     "data": {
      "text/plain": [
       "[<matplotlib.lines.Line2D at 0x11c3465c0>]"
      ]
     },
     "execution_count": 8,
     "metadata": {},
     "output_type": "execute_result"
    },
    {
     "data": {
      "image/png": "[encoded data removed]",
      "text/plain": [
       "<matplotlib.figure.Figure at 0x11c346550>"
      ]
     },
     "metadata": {},
     "output_type": "display_data"
    }
   ],
   "source": [
    "f,a = plt.subplots()\n",
    "a.plot(s,L)"
   ]
  },
  {
   "cell_type": "code",
   "execution_count": null,
   "metadata": {
    "collapsed": true
   },
   "outputs": [],
   "source": []
  }
 ],
 "metadata": {
  "kernelspec": {
   "display_name": "Python 3",
   "language": "python",
   "name": "python3"
  },
  "language_info": {
   "codemirror_mode": {
    "name": "ipython",
    "version": 3
   },
   "file_extension": ".py",
   "mimetype": "text/x-python",
   "name": "python",
   "nbconvert_exporter": "python",
   "pygments_lexer": "ipython3",
   "version": "3.6.0"
  }
 },
 "nbformat": 4,
 "nbformat_minor": 2
}
